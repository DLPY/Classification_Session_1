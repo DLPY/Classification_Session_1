{
  "nbformat": 4,
  "nbformat_minor": 0,
  "metadata": {
    "colab": {
      "name": "Churn_Decision Tree Classification.ipynb",
      "provenance": [],
      "collapsed_sections": [],
      "include_colab_link": true
    },
    "kernelspec": {
      "name": "python3",
      "display_name": "Python 3"
    },
    "language_info": {
      "name": "python"
    }
  },
  "cells": [
    {
      "cell_type": "markdown",
      "metadata": {
        "id": "view-in-github",
        "colab_type": "text"
      },
      "source": [
        "<a href=\"https://colab.research.google.com/github/DLPY/Classification_Session_1/blob/main/Churn_Decision_Tree_Classification.ipynb\" target=\"_parent\"><img src=\"https://colab.research.google.com/assets/colab-badge.svg\" alt=\"Open In Colab\"/></a>"
      ]
    },
    {
      "cell_type": "markdown",
      "source": [
        "Churn Modelling: https://www.kaggle.com/shrutimechlearn/churn-modelling"
      ],
      "metadata": {
        "id": "kt8xR-WK_8zr"
      }
    },
    {
      "cell_type": "markdown",
      "source": [
        "## Step 1: Import the relelvant packages"
      ],
      "metadata": {
        "id": "G4uFZapyM-Xf"
      }
    },
    {
      "cell_type": "markdown",
      "source": [
        "`numpy` provides support for arrays and matrices and `pandas` which we've seen before and provides functionality that facilities better visualisation of 2-D arrays in a tabular format. \n",
        "\n",
        "Scikit-Learn otherwise known as `sklearn` is used for machine learning and has functionality for many types of classification models including decision trees.\n",
        "\n",
        "`Matplotlib` is a plotting library that is commonly used to plot the output of machine learning models."
      ],
      "metadata": {
        "id": "8p7kRV-JNDHZ"
      }
    },
    {
      "cell_type": "code",
      "execution_count": null,
      "metadata": {
        "id": "rhOrWr8z_8Ie"
      },
      "outputs": [],
      "source": [
        "import graphviz\n",
        "import matplotlib.pyplot as plt\n",
        "import pandas as pd\n",
        "import numpy as np \n",
        "import seaborn as sns\n",
        "\n",
        "from sklearn.model_selection import train_test_split\n",
        "from sklearn.metrics import (accuracy_score, auc, classification_report, confusion_matrix, ConfusionMatrixDisplay,\n",
        "                             plot_roc_curve, PrecisionRecallDisplay, roc_auc_score, roc_curve)\n",
        "from sklearn import tree\n",
        "from sklearn.tree import DecisionTreeClassifier\n",
        "\n",
        "# import random undersampling\n",
        "from collections import Counter\n",
        "from imblearn.under_sampling import RandomUnderSampler\n",
        "import warnings\n",
        "warnings.simplefilter(action='ignore', category=FutureWarning)\n",
        "\n",
        "%matplotlib inline\n",
        "\n",
        "pd.set_option('display.max_colwidth', None)"
      ]
    },
    {
      "cell_type": "code",
      "source": [
        "# Load the data\n",
        "df = pd.read_csv('/content/drive/MyDrive/Advanced Analytics Data and Notebooks/Classification/Churn Modelling/Churn_Modelling.csv')\n",
        "df.head()"
      ],
      "metadata": {
        "id": "SMMoSoaDASzB"
      },
      "execution_count": null,
      "outputs": []
    },
    {
      "cell_type": "markdown",
      "source": [
        "# Churn Modeling Data Description\n",
        "This data set contains details of a bank's customers and the target variable is a binary variable reflecting the fact whether the customer left the bank (closed their account) or they continue to be a customer.\n",
        "\n",
        "Here we have 13 feature columns and Exited is a target column.\n",
        "\n",
        "**Row Numbers:** Row Numbers from 1 to 10000.\n",
        "\n",
        "**CustomerId:** Unique Ids for bank customer identification.\n",
        "\n",
        "**Surname:** Customer's last name.\n",
        "\n",
        "**CreditScore:** Credit score of the customer.\n",
        "\n",
        "**Geography:** The country from which the customer belongs(Germany/France/Spain).\n",
        "\n",
        "**Gender:** Male or Female.\n",
        "\n",
        "**Age:** Age of the customer.\n",
        "\n",
        "**Tenure:** Number of years for which the customer has been with the bank.\n",
        "\n",
        "**Balance:** Bank balance of the customer.\n",
        "\n",
        "**NumOfProducts:** Number of bank products the customer is utilising.\n",
        "\n",
        "**HasCrCard:** Binary Flag for whether the customer holds a credit card with the bank or not(0=No, 1=Yes).\n",
        "\n",
        "**IsActiveMember:** Binary Flag for whether the customer is an active member with the bank or not(0=No, 1=Yes).\n",
        "\n",
        "**EstimatedSalary:** Estimated salary of the customer in Euro.\n",
        "\n",
        "**Exited:** Binary flag 1 if the customer closed account with bank and 0 if the customer is retained(0=No, 1=Yes)."
      ],
      "metadata": {
        "id": "Rwp-7lGU8KKl"
      }
    },
    {
      "cell_type": "markdown",
      "source": [
        "## Transformation"
      ],
      "metadata": {
        "id": "Talg4fVq8Rta"
      }
    },
    {
      "cell_type": "markdown",
      "source": [
        "### Encoding the categorical variables - Change the text into numbers"
      ],
      "metadata": {
        "id": "4TSvbZFy8Vby"
      }
    },
    {
      "cell_type": "markdown",
      "source": [
        "Convert the categorical values into numeric categorical labels so that this data can be used for modelling."
      ],
      "metadata": {
        "id": "pHusgHB28YAa"
      }
    },
    {
      "cell_type": "code",
      "source": [
        "df['CountryCode'] = df['Geography'].astype('category').cat.codes\n",
        "df['GenderCode'] = df['Gender'].astype('category').cat.codes"
      ],
      "metadata": {
        "id": "yAC2tN3e8RKL"
      },
      "execution_count": null,
      "outputs": []
    },
    {
      "cell_type": "code",
      "source": [
        "df.head(5)"
      ],
      "metadata": {
        "id": "WRGsu3UX8dib"
      },
      "execution_count": null,
      "outputs": []
    },
    {
      "cell_type": "markdown",
      "source": [
        "##### From the above, notice that:\n",
        " * The Geography and Gender have been converted to numeric values.\n",
        " * There are two new columns with these values: CountryCode and GenderCode."
      ],
      "metadata": {
        "id": "7qa5rldU8vL6"
      }
    },
    {
      "cell_type": "markdown",
      "source": [
        "##### From the above, notice that:\n",
        " * The Geography and Gender have been converted to numeric values.\n",
        " * There are two new columns with these values: CountryCode and GenderCode."
      ],
      "metadata": {
        "id": "-zQJmDT488UM"
      }
    },
    {
      "cell_type": "markdown",
      "source": [
        "# Choosing predictor variables and target variable for performing Classification\n",
        "**Target and Source variables**\n",
        "\n",
        "* **Target Variable:** Exited\n",
        "* **Predictor Variables:** CreditScore, CountryCode, GenderCode, Age, Tenure, Balance, NumOfProducts, HasCrCard, IsActiveMember, EstimatedSalary"
      ],
      "metadata": {
        "id": "5fpoBIOJ9AVL"
      }
    },
    {
      "cell_type": "markdown",
      "source": [
        "# Isolate Target and Predictor Variables to Different Dataframes"
      ],
      "metadata": {
        "id": "ibmojQ8h9FvT"
      }
    },
    {
      "cell_type": "code",
      "source": [
        "X = df[['CreditScore', 'CountryCode', 'GenderCode', 'Age', 'Tenure', 'Balance', 'NumOfProducts', 'HasCrCard',\n",
        "            'IsActiveMember', 'EstimatedSalary']]\n",
        "y = df[['Exited']]\n",
        "\n",
        "# Save this list of column values for later\n",
        "columns_list = list(X.columns.values)"
      ],
      "metadata": {
        "id": "V7i4ff0-8hly"
      },
      "execution_count": null,
      "outputs": []
    },
    {
      "cell_type": "code",
      "source": [
        "X.head(5)"
      ],
      "metadata": {
        "id": "zczCL4XDEhlZ"
      },
      "execution_count": null,
      "outputs": []
    },
    {
      "cell_type": "code",
      "source": [
        "y.head(5)"
      ],
      "metadata": {
        "id": "v83wFiMo9Oyi"
      },
      "execution_count": null,
      "outputs": []
    },
    {
      "cell_type": "markdown",
      "source": [
        "# Split dataset into the training and test using train_set_split: \n"
      ],
      "metadata": {
        "id": "wJMuneOd9YoY"
      }
    },
    {
      "cell_type": "code",
      "source": [
        "X_train, X_test, y_train, y_test = train_test_split(X, y, test_size=0.3, random_state=100)\n",
        "\n",
        "print('Training Data:', X_train.shape, y_train.shape)\n",
        "print('Testing Data:', X_test.shape, y_test.shape)"
      ],
      "metadata": {
        "id": "dv75X8Y59P9T"
      },
      "execution_count": null,
      "outputs": []
    },
    {
      "cell_type": "markdown",
      "source": [
        "# Train, Test and Predict using a Decision Tree model"
      ],
      "metadata": {
        "id": "gnktThS89eR7"
      }
    },
    {
      "cell_type": "code",
      "source": [
        "# Create an object using DecisionTreeClassifier, setting a few parameters such as max depth.\n",
        "dtclf_model1 = DecisionTreeClassifier(random_state=42, max_features=7)"
      ],
      "metadata": {
        "id": "v9c_hIow9fG7"
      },
      "execution_count": null,
      "outputs": []
    },
    {
      "cell_type": "code",
      "source": [
        "# Fit the classification model to the training set data.\n",
        "dtclf_model1.fit(X_train, y_train)"
      ],
      "metadata": {
        "id": "suOhNx089ll8"
      },
      "execution_count": null,
      "outputs": []
    },
    {
      "cell_type": "markdown",
      "source": [
        "### Predicting the results"
      ],
      "metadata": {
        "id": "WxwyYuby9pk0"
      }
    },
    {
      "cell_type": "markdown",
      "source": [
        "Training set prediction score"
      ],
      "metadata": {
        "id": "i7beUOQI9skT"
      }
    },
    {
      "cell_type": "code",
      "source": [
        "y_pred = dtclf_model1.predict(X_train)\n",
        "accuracy_score(y_train, y_pred)"
      ],
      "metadata": {
        "id": "49XrNh7x9txs"
      },
      "execution_count": null,
      "outputs": []
    },
    {
      "cell_type": "markdown",
      "source": [
        "Test set prediction score"
      ],
      "metadata": {
        "id": "7rBuezRB90gc"
      }
    },
    {
      "cell_type": "code",
      "source": [
        "y_pred1 = dtclf_model1.predict(X_test)\n",
        "accuracy_score(y_test, y_pred1)"
      ],
      "metadata": {
        "id": "PK56GFna926s"
      },
      "execution_count": null,
      "outputs": []
    },
    {
      "cell_type": "markdown",
      "source": [
        "But accuracy can be misleading..."
      ],
      "metadata": {
        "id": "UpIk5upe96al"
      }
    },
    {
      "cell_type": "code",
      "source": [
        "ConfusionMatrixDisplay.from_predictions(y_test, y_pred1, cmap='RdPu_r')\n",
        "plt.grid(False)"
      ],
      "metadata": {
        "id": "PmgWEctk97K8"
      },
      "execution_count": null,
      "outputs": []
    },
    {
      "cell_type": "code",
      "source": [
        "print(classification_report(y_test, y_pred1))"
      ],
      "metadata": {
        "id": "zulsdYZr-EmO"
      },
      "execution_count": null,
      "outputs": []
    },
    {
      "cell_type": "markdown",
      "source": [
        "With classification_report we calculate precision and recall with actual and predicted values.\n",
        "\n",
        "For class 1 (churned users) model achieves 0.62 precision and 0.45 recall.\n",
        "\n",
        "Precision tells us how many churned users our classifier model predicted correctly.\n",
        "\n",
        "On the other side, recall tell us how many churned customers it missed.\n",
        "\n",
        "In simple terms, the classifier is not very accurate for identifying churned customers - most likely due to class imbalance!"
      ],
      "metadata": {
        "id": "7uce1w1C-GzN"
      }
    },
    {
      "cell_type": "markdown",
      "source": [
        "# Plotting the Decision Tree"
      ],
      "metadata": {
        "id": "XA8gLfyX-Jrc"
      }
    },
    {
      "cell_type": "code",
      "source": [
        "target = list(df['Exited'].unique())\n",
        "feature_names = list(X.columns.values)"
      ],
      "metadata": {
        "id": "pAt8Rr4X-Ksd"
      },
      "execution_count": null,
      "outputs": []
    },
    {
      "cell_type": "code",
      "source": [
        "# Graphviz Example:\n",
        "\n",
        "dot_data = tree.export_graphviz(dtclf_model1, feature_names=feature_names, class_names=['Left', 'Stayed'], max_depth=3,\n",
        "                                filled=True, rounded=True) \n",
        "graph = graphviz.Source(dot_data)  \n",
        "\n",
        "graph\n",
        "# This can be saved as a file:\n",
        "# graph.save('decision_tree_chart.jpg')"
      ],
      "metadata": {
        "id": "nvvVQujm-M0t"
      },
      "execution_count": null,
      "outputs": []
    },
    {
      "cell_type": "markdown",
      "source": [
        "## Pruning the Decision Tree"
      ],
      "metadata": {
        "id": "BJhwzubAuVe-"
      }
    },
    {
      "cell_type": "code",
      "source": [
        "path = dtclf_model1.cost_complexity_pruning_path(X_train, y_train)\n",
        "ccp_alphas, impurities = path.ccp_alphas, path.impurities\n",
        "fig, ax = plt.subplots(figsize=(16,8));\n",
        "ax.plot(ccp_alphas[:-1], impurities[:-1], marker='o', drawstyle=\"steps-post\");\n",
        "ax.set_xlabel(\"effective alpha\");\n",
        "ax.set_ylabel(\"total impurity of leaves\");\n",
        "ax.set_title(\"Total Impurity vs effective alpha for training set\");"
      ],
      "metadata": {
        "id": "rYNbJa2weuyD"
      },
      "execution_count": null,
      "outputs": []
    },
    {
      "cell_type": "code",
      "source": [
        "clfs = []\n",
        "for ccp_alpha in ccp_alphas:\n",
        "    clf = DecisionTreeClassifier(random_state=42, ccp_alpha=ccp_alpha)\n",
        "    clf.fit(X_train, y_train)\n",
        "    clfs.append(clf)\n",
        "print(\n",
        "    \"Number of nodes in the last tree is: {} with ccp_alpha: {}\".format(\n",
        "        clfs[-1].tree_.node_count, ccp_alphas[-1]\n",
        "    )\n",
        ")"
      ],
      "metadata": {
        "id": "vuegcwzke8hR"
      },
      "execution_count": null,
      "outputs": []
    },
    {
      "cell_type": "code",
      "source": [
        "clfs = clfs[:-1]\n",
        "ccp_alphas = ccp_alphas[:-1]\n",
        "\n",
        "node_counts = [clf.tree_.node_count for clf in clfs]\n",
        "depth = [clf.tree_.max_depth for clf in clfs]\n",
        "fig, ax = plt.subplots(2, 1)\n",
        "ax[0].plot(ccp_alphas, node_counts, marker=\"o\", drawstyle=\"steps-post\")\n",
        "ax[0].set_xlabel(\"alpha\")\n",
        "ax[0].set_ylabel(\"number of nodes\")\n",
        "ax[0].set_title(\"Number of nodes vs alpha\")\n",
        "ax[1].plot(ccp_alphas, depth, marker=\"o\", drawstyle=\"steps-post\")\n",
        "ax[1].set_xlabel(\"alpha\")\n",
        "ax[1].set_ylabel(\"depth of tree\")\n",
        "ax[1].set_title(\"Depth vs alpha\")\n",
        "fig.tight_layout()"
      ],
      "metadata": {
        "id": "YAD16vjzgTI6"
      },
      "execution_count": null,
      "outputs": []
    },
    {
      "cell_type": "code",
      "source": [
        "train_scores = [clf.score(X_train, y_train) for clf in clfs]\n",
        "test_scores = [clf.score(X_test, y_test) for clf in clfs]\n",
        "\n",
        "fig, ax = plt.subplots()\n",
        "ax.set_xlabel(\"alpha\")\n",
        "ax.set_ylabel(\"accuracy\")\n",
        "ax.set_title(\"Accuracy vs alpha for training and testing sets\")\n",
        "ax.plot(ccp_alphas, train_scores, marker=\"o\", label=\"train\", drawstyle=\"steps-post\")\n",
        "ax.plot(ccp_alphas, test_scores, marker=\"o\", label=\"test\", drawstyle=\"steps-post\")\n",
        "ax.legend()\n",
        "plt.show()"
      ],
      "metadata": {
        "id": "FbV1pxZugYRq"
      },
      "execution_count": null,
      "outputs": []
    },
    {
      "cell_type": "markdown",
      "source": [
        "## Re-running with alpha"
      ],
      "metadata": {
        "id": "_6lYQUtFucbl"
      }
    },
    {
      "cell_type": "code",
      "source": [
        "# Create an object using DecisionTreeClassifier, setting a few parameters such as max depth.\n",
        "dtclf_model2 = DecisionTreeClassifier(random_state=42, max_features=7, ccp_alpha=0.001)\n",
        "\n",
        "# Fit the classification model to the training set data.\n",
        "dtclf_model2.fit(X_train, y_train)"
      ],
      "metadata": {
        "id": "WkN3_0ZeuiTy"
      },
      "execution_count": null,
      "outputs": []
    },
    {
      "cell_type": "markdown",
      "source": [
        "### Predicting the results"
      ],
      "metadata": {
        "id": "armRfcNKuiTz"
      }
    },
    {
      "cell_type": "markdown",
      "source": [
        "Training set prediction score"
      ],
      "metadata": {
        "id": "exxSstOMuiT0"
      }
    },
    {
      "cell_type": "code",
      "source": [
        "y_pred2 = dtclf_model2.predict(X_train)\n",
        "accuracy_score(y_train, y_pred2)"
      ],
      "metadata": {
        "id": "48yDBz9euiT0"
      },
      "execution_count": null,
      "outputs": []
    },
    {
      "cell_type": "markdown",
      "source": [
        "Test set prediction score"
      ],
      "metadata": {
        "id": "3Epn3311uiT0"
      }
    },
    {
      "cell_type": "code",
      "source": [
        "y_pred2 = dtclf_model2.predict(X_test)\n",
        "accuracy_score(y_test, y_pred2)"
      ],
      "metadata": {
        "id": "xAKozYR8uiT0"
      },
      "execution_count": null,
      "outputs": []
    },
    {
      "cell_type": "code",
      "source": [
        "ConfusionMatrixDisplay.from_predictions(y_test, y_pred2, cmap='RdPu_r')\n",
        "plt.grid(False)"
      ],
      "metadata": {
        "id": "_0yUM6TbuiT0"
      },
      "execution_count": null,
      "outputs": []
    },
    {
      "cell_type": "code",
      "source": [
        "print(classification_report(y_test, y_pred2))"
      ],
      "metadata": {
        "id": "41k1wD7-uiT0"
      },
      "execution_count": null,
      "outputs": []
    },
    {
      "cell_type": "markdown",
      "source": [
        "With classification_report we calculate precision and recall with actual and predicted values.\n",
        "\n",
        "For class 1 (churned users) model achieves 0.77 precision and 0.42 recall. Precision has increased from the first model but recall decreased.\n",
        "\n",
        "Class imbalance remains an issue!"
      ],
      "metadata": {
        "id": "7npvFagsuiT1"
      }
    },
    {
      "cell_type": "markdown",
      "source": [
        "# Plotting the Decision Tree"
      ],
      "metadata": {
        "id": "DzgwtQOLuiT1"
      }
    },
    {
      "cell_type": "code",
      "source": [
        "target = list(df['Exited'].unique())\n",
        "feature_names = list(X.columns.values)"
      ],
      "metadata": {
        "id": "x4Ryd7CzuiT1"
      },
      "execution_count": null,
      "outputs": []
    },
    {
      "cell_type": "code",
      "source": [
        "# Graphviz Example:\n",
        "\n",
        "dot_data = tree.export_graphviz(dtclf_model2, feature_names=feature_names, class_names=['Left', 'Stayed'], max_depth=3,\n",
        "                                filled=True, rounded=True) \n",
        "graph = graphviz.Source(dot_data)  \n",
        "\n",
        "graph\n",
        "# This can be saved as a file:\n",
        "# graph.save('decision_tree_chart.jpg')"
      ],
      "metadata": {
        "id": "SeWbFK48uiT1"
      },
      "execution_count": null,
      "outputs": []
    },
    {
      "cell_type": "markdown",
      "source": [
        "## Resampling the dataset"
      ],
      "metadata": {
        "id": "gFeI0Fc0u1IO"
      }
    },
    {
      "cell_type": "code",
      "source": [
        "# define undersampling strategy\n",
        "undersample = RandomUnderSampler(sampling_strategy='majority')\n",
        "\n",
        "# fit and apply the transform\n",
        "X_train_under, y_train_under = undersample.fit_resample(X_train, y_train)\n",
        "\n",
        "#PART 2\n",
        "\n",
        "# Create an object using DecisionTreeClassifier, setting a few parameters such as max depth.\n",
        "dtclf_model3 = DecisionTreeClassifier(random_state=42, max_features=7, ccp_alpha=0.0007)\n",
        "dtclf_model3.fit(X_train_under, y_train_under)\n",
        "y_pred3 = dtclf_model3.predict(X_test)\n",
        "\n",
        "print(\"ROC AUC score for undersampled data: \", roc_auc_score(y_test, y_pred3))"
      ],
      "metadata": {
        "id": "dlU-cD4pu2mp"
      },
      "execution_count": null,
      "outputs": []
    },
    {
      "cell_type": "code",
      "source": [
        "ConfusionMatrixDisplay.from_predictions(y_test, y_pred3, cmap='RdPu_r')\n",
        "plt.grid(False)"
      ],
      "metadata": {
        "id": "vOB_ZTgNvQEN"
      },
      "execution_count": null,
      "outputs": []
    },
    {
      "cell_type": "code",
      "source": [
        "print(classification_report(y_test, y_pred3))"
      ],
      "metadata": {
        "id": "lKlZLX1VvqWX"
      },
      "execution_count": null,
      "outputs": []
    },
    {
      "cell_type": "markdown",
      "source": [
        "## Compare all the models"
      ],
      "metadata": {
        "id": "8dFkFdAz-ShD"
      }
    },
    {
      "cell_type": "code",
      "source": [
        "print('----Model1----')\n",
        "print(classification_report(y_test, y_pred1))\n",
        "print('----Model2----')\n",
        "print(classification_report(y_test, y_pred2))\n",
        "print('----Model3----')\n",
        "print(classification_report(y_test, y_pred3))"
      ],
      "metadata": {
        "id": "gJJc6K3Hw6jG"
      },
      "execution_count": null,
      "outputs": []
    },
    {
      "cell_type": "markdown",
      "source": [
        "We can see that resampling increased the recall of the exited class but decreased the precision. This is a trade off we would expect. The balance between precision and recall is fundamentally a business decision. \n",
        "\n",
        "Are we happy to be contacting false positives (i.e. people who weren't otherwise going to churn) or would this lead to increased churn from annoyed customers. Conversely, are we happy accepting a lower level of recall meaning that many false negatives (ie. people classed as non-exit who exit) do not get contacted. "
      ],
      "metadata": {
        "id": "ems0ZGB3VmVC"
      }
    },
    {
      "cell_type": "markdown",
      "source": [
        "## Compare Model2 and Model3"
      ],
      "metadata": {
        "id": "BbFo3ykUVcyb"
      }
    },
    {
      "cell_type": "code",
      "source": [
        "ConfusionMatrixDisplay.from_predictions(y_test, y_pred2, cmap='RdPu_r')\n",
        "plt.grid(False)"
      ],
      "metadata": {
        "id": "25ESXp0x-X_M"
      },
      "execution_count": null,
      "outputs": []
    },
    {
      "cell_type": "code",
      "source": [
        "ConfusionMatrixDisplay.from_predictions(y_test, y_pred3, cmap='RdPu_r')\n",
        "plt.grid(False)"
      ],
      "metadata": {
        "id": "Zz6686rF_Ndo"
      },
      "execution_count": null,
      "outputs": []
    },
    {
      "cell_type": "markdown",
      "source": [
        "The comparison between the confusion matrices here hopefully drives home the point around the sacrifice between recall and precision. By just examining the bottom left and top right boxes, you can see a ~50% recuction in false negatives but also a >5x increase in false positives. "
      ],
      "metadata": {
        "id": "Ai8k2lDQWV7F"
      }
    }
  ]
}