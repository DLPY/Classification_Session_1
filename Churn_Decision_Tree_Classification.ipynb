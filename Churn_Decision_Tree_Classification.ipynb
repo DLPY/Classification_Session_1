{
  "nbformat": 4,
  "nbformat_minor": 0,
  "metadata": {
    "colab": {
      "name": "Churn_Decision Tree Classification.ipynb",
      "provenance": [],
      "collapsed_sections": []
    },
    "kernelspec": {
      "name": "python3",
      "display_name": "Python 3"
    },
    "language_info": {
      "name": "python"
    }
  },
  "cells": [
    {
      "cell_type": "markdown",
      "source": [
        "Churn Modelling: https://www.kaggle.com/shrutimechlearn/churn-modelling"
      ],
      "metadata": {
        "id": "kt8xR-WK_8zr"
      }
    },
    {
      "cell_type": "markdown",
      "source": [
        "## Import the relelvant packages"
      ],
      "metadata": {
        "id": "G4uFZapyM-Xf"
      }
    },
    {
      "cell_type": "markdown",
      "source": [
        "`numpy` provides support for arrays and matrices and `pandas` which we've seen before and provides functionality that facilities better visualisation of 2-D arrays in a tabular format. \n",
        "\n",
        "Scikit-Learn otherwise known as `sklearn` is used for machine learning and has functionality for many types of classification models including decision trees.\n",
        "\n",
        "`Matplotlib` is a plotting library that is commonly used to plot the output of machine learning models."
      ],
      "metadata": {
        "id": "8p7kRV-JNDHZ"
      }
    },
    {
      "cell_type": "code",
      "execution_count": 3,
      "metadata": {
        "id": "rhOrWr8z_8Ie"
      },
      "outputs": [],
      "source": [
        "import graphviz\n",
        "import matplotlib.pyplot as plt\n",
        "import pandas as pd\n",
        "import numpy as np \n",
        "import seaborn as sns\n",
        "\n",
        "from sklearn.model_selection import train_test_split\n",
        "from sklearn.metrics import (accuracy_score, auc, classification_report, confusion_matrix, ConfusionMatrixDisplay,\n",
        "                             plot_roc_curve, PrecisionRecallDisplay, roc_auc_score, roc_curve)\n",
        "from sklearn import tree\n",
        "from sklearn.tree import DecisionTreeClassifier\n",
        "\n",
        "# import random undersampling\n",
        "from collections import Counter\n",
        "from imblearn.under_sampling import RandomUnderSampler\n",
        "import warnings\n",
        "warnings.simplefilter(action='ignore', category=FutureWarning)\n",
        "\n",
        "%matplotlib inline\n",
        "\n",
        "pd.set_option('display.max_colwidth', None)"
      ]
    },
    {
      "cell_type": "markdown",
      "source": [
        "## Get the file from Github"
      ],
      "metadata": {
        "id": "7zzMfpN2vbpP"
      }
    },
    {
      "cell_type": "code",
      "source": [
        "!wget https://raw.githubusercontent.com/DLPY/Classification_Session_1/main/Churn_Modelling.csv"
      ],
      "metadata": {
        "colab": {
          "base_uri": "https://localhost:8080/"
        },
        "id": "Paq3VIdSvdp6",
        "outputId": "5530689c-77c4-449f-85dd-50a23d7509d6"
      },
      "execution_count": 4,
      "outputs": [
        {
          "output_type": "stream",
          "name": "stdout",
          "text": [
            "--2022-02-04 12:38:55--  https://raw.githubusercontent.com/DLPY/Classification_Session_1/main/Churn_Modelling.csv\n",
            "Resolving raw.githubusercontent.com (raw.githubusercontent.com)... 185.199.108.133, 185.199.109.133, 185.199.110.133, ...\n",
            "Connecting to raw.githubusercontent.com (raw.githubusercontent.com)|185.199.108.133|:443... connected.\n",
            "HTTP request sent, awaiting response... 200 OK\n",
            "Length: 684858 (669K) [text/plain]\n",
            "Saving to: ‘Churn_Modelling.csv.1’\n",
            "\n",
            "\rChurn_Modelling.csv   0%[                    ]       0  --.-KB/s               \rChurn_Modelling.csv 100%[===================>] 668.81K  --.-KB/s    in 0.05s   \n",
            "\n",
            "2022-02-04 12:38:55 (12.5 MB/s) - ‘Churn_Modelling.csv.1’ saved [684858/684858]\n",
            "\n"
          ]
        }
      ]
    },
    {
      "cell_type": "code",
      "source": [
        "# Load the data\n",
        "df = pd.read_csv('Churn_Modelling.csv')\n",
        "df.head()"
      ],
      "metadata": {
        "id": "SMMoSoaDASzB",
        "colab": {
          "base_uri": "https://localhost:8080/",
          "height": 206
        },
        "outputId": "bd7b889b-4c9d-4bd9-e8fb-0b0498fcb25b"
      },
      "execution_count": 5,
      "outputs": [
        {
          "output_type": "execute_result",
          "data": {
            "text/html": [
              "\n",
              "  <div id=\"df-ffc6c9c5-55f8-4c06-a1e1-9589c39ff10f\">\n",
              "    <div class=\"colab-df-container\">\n",
              "      <div>\n",
              "<style scoped>\n",
              "    .dataframe tbody tr th:only-of-type {\n",
              "        vertical-align: middle;\n",
              "    }\n",
              "\n",
              "    .dataframe tbody tr th {\n",
              "        vertical-align: top;\n",
              "    }\n",
              "\n",
              "    .dataframe thead th {\n",
              "        text-align: right;\n",
              "    }\n",
              "</style>\n",
              "<table border=\"1\" class=\"dataframe\">\n",
              "  <thead>\n",
              "    <tr style=\"text-align: right;\">\n",
              "      <th></th>\n",
              "      <th>RowNumber</th>\n",
              "      <th>CustomerId</th>\n",
              "      <th>Surname</th>\n",
              "      <th>CreditScore</th>\n",
              "      <th>Geography</th>\n",
              "      <th>Gender</th>\n",
              "      <th>Age</th>\n",
              "      <th>Tenure</th>\n",
              "      <th>Balance</th>\n",
              "      <th>NumOfProducts</th>\n",
              "      <th>HasCrCard</th>\n",
              "      <th>IsActiveMember</th>\n",
              "      <th>EstimatedSalary</th>\n",
              "      <th>Exited</th>\n",
              "    </tr>\n",
              "  </thead>\n",
              "  <tbody>\n",
              "    <tr>\n",
              "      <th>0</th>\n",
              "      <td>1</td>\n",
              "      <td>15634602</td>\n",
              "      <td>Hargrave</td>\n",
              "      <td>619</td>\n",
              "      <td>France</td>\n",
              "      <td>Female</td>\n",
              "      <td>42</td>\n",
              "      <td>2</td>\n",
              "      <td>0.00</td>\n",
              "      <td>1</td>\n",
              "      <td>1</td>\n",
              "      <td>1</td>\n",
              "      <td>101348.88</td>\n",
              "      <td>1</td>\n",
              "    </tr>\n",
              "    <tr>\n",
              "      <th>1</th>\n",
              "      <td>2</td>\n",
              "      <td>15647311</td>\n",
              "      <td>Hill</td>\n",
              "      <td>608</td>\n",
              "      <td>Spain</td>\n",
              "      <td>Female</td>\n",
              "      <td>41</td>\n",
              "      <td>1</td>\n",
              "      <td>83807.86</td>\n",
              "      <td>1</td>\n",
              "      <td>0</td>\n",
              "      <td>1</td>\n",
              "      <td>112542.58</td>\n",
              "      <td>0</td>\n",
              "    </tr>\n",
              "    <tr>\n",
              "      <th>2</th>\n",
              "      <td>3</td>\n",
              "      <td>15619304</td>\n",
              "      <td>Onio</td>\n",
              "      <td>502</td>\n",
              "      <td>France</td>\n",
              "      <td>Female</td>\n",
              "      <td>42</td>\n",
              "      <td>8</td>\n",
              "      <td>159660.80</td>\n",
              "      <td>3</td>\n",
              "      <td>1</td>\n",
              "      <td>0</td>\n",
              "      <td>113931.57</td>\n",
              "      <td>1</td>\n",
              "    </tr>\n",
              "    <tr>\n",
              "      <th>3</th>\n",
              "      <td>4</td>\n",
              "      <td>15701354</td>\n",
              "      <td>Boni</td>\n",
              "      <td>699</td>\n",
              "      <td>France</td>\n",
              "      <td>Female</td>\n",
              "      <td>39</td>\n",
              "      <td>1</td>\n",
              "      <td>0.00</td>\n",
              "      <td>2</td>\n",
              "      <td>0</td>\n",
              "      <td>0</td>\n",
              "      <td>93826.63</td>\n",
              "      <td>0</td>\n",
              "    </tr>\n",
              "    <tr>\n",
              "      <th>4</th>\n",
              "      <td>5</td>\n",
              "      <td>15737888</td>\n",
              "      <td>Mitchell</td>\n",
              "      <td>850</td>\n",
              "      <td>Spain</td>\n",
              "      <td>Female</td>\n",
              "      <td>43</td>\n",
              "      <td>2</td>\n",
              "      <td>125510.82</td>\n",
              "      <td>1</td>\n",
              "      <td>1</td>\n",
              "      <td>1</td>\n",
              "      <td>79084.10</td>\n",
              "      <td>0</td>\n",
              "    </tr>\n",
              "  </tbody>\n",
              "</table>\n",
              "</div>\n",
              "      <button class=\"colab-df-convert\" onclick=\"convertToInteractive('df-ffc6c9c5-55f8-4c06-a1e1-9589c39ff10f')\"\n",
              "              title=\"Convert this dataframe to an interactive table.\"\n",
              "              style=\"display:none;\">\n",
              "        \n",
              "  <svg xmlns=\"http://www.w3.org/2000/svg\" height=\"24px\"viewBox=\"0 0 24 24\"\n",
              "       width=\"24px\">\n",
              "    <path d=\"M0 0h24v24H0V0z\" fill=\"none\"/>\n",
              "    <path d=\"M18.56 5.44l.94 2.06.94-2.06 2.06-.94-2.06-.94-.94-2.06-.94 2.06-2.06.94zm-11 1L8.5 8.5l.94-2.06 2.06-.94-2.06-.94L8.5 2.5l-.94 2.06-2.06.94zm10 10l.94 2.06.94-2.06 2.06-.94-2.06-.94-.94-2.06-.94 2.06-2.06.94z\"/><path d=\"M17.41 7.96l-1.37-1.37c-.4-.4-.92-.59-1.43-.59-.52 0-1.04.2-1.43.59L10.3 9.45l-7.72 7.72c-.78.78-.78 2.05 0 2.83L4 21.41c.39.39.9.59 1.41.59.51 0 1.02-.2 1.41-.59l7.78-7.78 2.81-2.81c.8-.78.8-2.07 0-2.86zM5.41 20L4 18.59l7.72-7.72 1.47 1.35L5.41 20z\"/>\n",
              "  </svg>\n",
              "      </button>\n",
              "      \n",
              "  <style>\n",
              "    .colab-df-container {\n",
              "      display:flex;\n",
              "      flex-wrap:wrap;\n",
              "      gap: 12px;\n",
              "    }\n",
              "\n",
              "    .colab-df-convert {\n",
              "      background-color: #E8F0FE;\n",
              "      border: none;\n",
              "      border-radius: 50%;\n",
              "      cursor: pointer;\n",
              "      display: none;\n",
              "      fill: #1967D2;\n",
              "      height: 32px;\n",
              "      padding: 0 0 0 0;\n",
              "      width: 32px;\n",
              "    }\n",
              "\n",
              "    .colab-df-convert:hover {\n",
              "      background-color: #E2EBFA;\n",
              "      box-shadow: 0px 1px 2px rgba(60, 64, 67, 0.3), 0px 1px 3px 1px rgba(60, 64, 67, 0.15);\n",
              "      fill: #174EA6;\n",
              "    }\n",
              "\n",
              "    [theme=dark] .colab-df-convert {\n",
              "      background-color: #3B4455;\n",
              "      fill: #D2E3FC;\n",
              "    }\n",
              "\n",
              "    [theme=dark] .colab-df-convert:hover {\n",
              "      background-color: #434B5C;\n",
              "      box-shadow: 0px 1px 3px 1px rgba(0, 0, 0, 0.15);\n",
              "      filter: drop-shadow(0px 1px 2px rgba(0, 0, 0, 0.3));\n",
              "      fill: #FFFFFF;\n",
              "    }\n",
              "  </style>\n",
              "\n",
              "      <script>\n",
              "        const buttonEl =\n",
              "          document.querySelector('#df-ffc6c9c5-55f8-4c06-a1e1-9589c39ff10f button.colab-df-convert');\n",
              "        buttonEl.style.display =\n",
              "          google.colab.kernel.accessAllowed ? 'block' : 'none';\n",
              "\n",
              "        async function convertToInteractive(key) {\n",
              "          const element = document.querySelector('#df-ffc6c9c5-55f8-4c06-a1e1-9589c39ff10f');\n",
              "          const dataTable =\n",
              "            await google.colab.kernel.invokeFunction('convertToInteractive',\n",
              "                                                     [key], {});\n",
              "          if (!dataTable) return;\n",
              "\n",
              "          const docLinkHtml = 'Like what you see? Visit the ' +\n",
              "            '<a target=\"_blank\" href=https://colab.research.google.com/notebooks/data_table.ipynb>data table notebook</a>'\n",
              "            + ' to learn more about interactive tables.';\n",
              "          element.innerHTML = '';\n",
              "          dataTable['output_type'] = 'display_data';\n",
              "          await google.colab.output.renderOutput(dataTable, element);\n",
              "          const docLink = document.createElement('div');\n",
              "          docLink.innerHTML = docLinkHtml;\n",
              "          element.appendChild(docLink);\n",
              "        }\n",
              "      </script>\n",
              "    </div>\n",
              "  </div>\n",
              "  "
            ],
            "text/plain": [
              "   RowNumber  CustomerId   Surname  ...  IsActiveMember EstimatedSalary Exited\n",
              "0          1    15634602  Hargrave  ...               1       101348.88      1\n",
              "1          2    15647311      Hill  ...               1       112542.58      0\n",
              "2          3    15619304      Onio  ...               0       113931.57      1\n",
              "3          4    15701354      Boni  ...               0        93826.63      0\n",
              "4          5    15737888  Mitchell  ...               1        79084.10      0\n",
              "\n",
              "[5 rows x 14 columns]"
            ]
          },
          "metadata": {},
          "execution_count": 5
        }
      ]
    },
    {
      "cell_type": "markdown",
      "source": [
        "# Churn Modeling Data Description\n",
        "This data set contains details of a bank's customers and the target variable is a binary variable reflecting the fact whether the customer left the bank (closed their account) or they continue to be a customer.\n",
        "\n",
        "Here we have 13 feature columns and Exited is a target column.\n",
        "\n",
        "**Row Numbers:** Row Numbers from 1 to 10000.\n",
        "\n",
        "**CustomerId:** Unique Ids for bank customer identification.\n",
        "\n",
        "**Surname:** Customer's last name.\n",
        "\n",
        "**CreditScore:** Credit score of the customer.\n",
        "\n",
        "**Geography:** The country from which the customer belongs(Germany/France/Spain).\n",
        "\n",
        "**Gender:** Male or Female.\n",
        "\n",
        "**Age:** Age of the customer.\n",
        "\n",
        "**Tenure:** Number of years for which the customer has been with the bank.\n",
        "\n",
        "**Balance:** Bank balance of the customer.\n",
        "\n",
        "**NumOfProducts:** Number of bank products the customer is utilising.\n",
        "\n",
        "**HasCrCard:** Binary Flag for whether the customer holds a credit card with the bank or not(0=No, 1=Yes).\n",
        "\n",
        "**IsActiveMember:** Binary Flag for whether the customer is an active member with the bank or not(0=No, 1=Yes).\n",
        "\n",
        "**EstimatedSalary:** Estimated salary of the customer in Euro.\n",
        "\n",
        "**Exited:** Binary flag 1 if the customer closed account with bank and 0 if the customer is retained(0=No, 1=Yes)."
      ],
      "metadata": {
        "id": "Rwp-7lGU8KKl"
      }
    },
    {
      "cell_type": "markdown",
      "source": [
        "## Transformation"
      ],
      "metadata": {
        "id": "Talg4fVq8Rta"
      }
    },
    {
      "cell_type": "markdown",
      "source": [
        "### Encoding the categorical variables - Change the text into numbers"
      ],
      "metadata": {
        "id": "4TSvbZFy8Vby"
      }
    },
    {
      "cell_type": "markdown",
      "source": [
        "Convert the categorical values into numeric categorical labels so that this data can be used for modelling."
      ],
      "metadata": {
        "id": "pHusgHB28YAa"
      }
    },
    {
      "cell_type": "code",
      "source": [
        "df['CountryCode'] = df['Geography'].astype('category').cat.codes\n",
        "df['GenderCode'] = df['Gender'].astype('category').cat.codes"
      ],
      "metadata": {
        "id": "yAC2tN3e8RKL"
      },
      "execution_count": 6,
      "outputs": []
    },
    {
      "cell_type": "code",
      "source": [
        "df.head(5)"
      ],
      "metadata": {
        "id": "WRGsu3UX8dib",
        "colab": {
          "base_uri": "https://localhost:8080/",
          "height": 206
        },
        "outputId": "27904f8d-8437-45de-8226-cc16c5882c8a"
      },
      "execution_count": 7,
      "outputs": [
        {
          "output_type": "execute_result",
          "data": {
            "text/html": [
              "\n",
              "  <div id=\"df-35b914c2-f831-4e22-9029-ef22d69bfdf5\">\n",
              "    <div class=\"colab-df-container\">\n",
              "      <div>\n",
              "<style scoped>\n",
              "    .dataframe tbody tr th:only-of-type {\n",
              "        vertical-align: middle;\n",
              "    }\n",
              "\n",
              "    .dataframe tbody tr th {\n",
              "        vertical-align: top;\n",
              "    }\n",
              "\n",
              "    .dataframe thead th {\n",
              "        text-align: right;\n",
              "    }\n",
              "</style>\n",
              "<table border=\"1\" class=\"dataframe\">\n",
              "  <thead>\n",
              "    <tr style=\"text-align: right;\">\n",
              "      <th></th>\n",
              "      <th>RowNumber</th>\n",
              "      <th>CustomerId</th>\n",
              "      <th>Surname</th>\n",
              "      <th>CreditScore</th>\n",
              "      <th>Geography</th>\n",
              "      <th>Gender</th>\n",
              "      <th>Age</th>\n",
              "      <th>Tenure</th>\n",
              "      <th>Balance</th>\n",
              "      <th>NumOfProducts</th>\n",
              "      <th>HasCrCard</th>\n",
              "      <th>IsActiveMember</th>\n",
              "      <th>EstimatedSalary</th>\n",
              "      <th>Exited</th>\n",
              "      <th>CountryCode</th>\n",
              "      <th>GenderCode</th>\n",
              "    </tr>\n",
              "  </thead>\n",
              "  <tbody>\n",
              "    <tr>\n",
              "      <th>0</th>\n",
              "      <td>1</td>\n",
              "      <td>15634602</td>\n",
              "      <td>Hargrave</td>\n",
              "      <td>619</td>\n",
              "      <td>France</td>\n",
              "      <td>Female</td>\n",
              "      <td>42</td>\n",
              "      <td>2</td>\n",
              "      <td>0.00</td>\n",
              "      <td>1</td>\n",
              "      <td>1</td>\n",
              "      <td>1</td>\n",
              "      <td>101348.88</td>\n",
              "      <td>1</td>\n",
              "      <td>0</td>\n",
              "      <td>0</td>\n",
              "    </tr>\n",
              "    <tr>\n",
              "      <th>1</th>\n",
              "      <td>2</td>\n",
              "      <td>15647311</td>\n",
              "      <td>Hill</td>\n",
              "      <td>608</td>\n",
              "      <td>Spain</td>\n",
              "      <td>Female</td>\n",
              "      <td>41</td>\n",
              "      <td>1</td>\n",
              "      <td>83807.86</td>\n",
              "      <td>1</td>\n",
              "      <td>0</td>\n",
              "      <td>1</td>\n",
              "      <td>112542.58</td>\n",
              "      <td>0</td>\n",
              "      <td>2</td>\n",
              "      <td>0</td>\n",
              "    </tr>\n",
              "    <tr>\n",
              "      <th>2</th>\n",
              "      <td>3</td>\n",
              "      <td>15619304</td>\n",
              "      <td>Onio</td>\n",
              "      <td>502</td>\n",
              "      <td>France</td>\n",
              "      <td>Female</td>\n",
              "      <td>42</td>\n",
              "      <td>8</td>\n",
              "      <td>159660.80</td>\n",
              "      <td>3</td>\n",
              "      <td>1</td>\n",
              "      <td>0</td>\n",
              "      <td>113931.57</td>\n",
              "      <td>1</td>\n",
              "      <td>0</td>\n",
              "      <td>0</td>\n",
              "    </tr>\n",
              "    <tr>\n",
              "      <th>3</th>\n",
              "      <td>4</td>\n",
              "      <td>15701354</td>\n",
              "      <td>Boni</td>\n",
              "      <td>699</td>\n",
              "      <td>France</td>\n",
              "      <td>Female</td>\n",
              "      <td>39</td>\n",
              "      <td>1</td>\n",
              "      <td>0.00</td>\n",
              "      <td>2</td>\n",
              "      <td>0</td>\n",
              "      <td>0</td>\n",
              "      <td>93826.63</td>\n",
              "      <td>0</td>\n",
              "      <td>0</td>\n",
              "      <td>0</td>\n",
              "    </tr>\n",
              "    <tr>\n",
              "      <th>4</th>\n",
              "      <td>5</td>\n",
              "      <td>15737888</td>\n",
              "      <td>Mitchell</td>\n",
              "      <td>850</td>\n",
              "      <td>Spain</td>\n",
              "      <td>Female</td>\n",
              "      <td>43</td>\n",
              "      <td>2</td>\n",
              "      <td>125510.82</td>\n",
              "      <td>1</td>\n",
              "      <td>1</td>\n",
              "      <td>1</td>\n",
              "      <td>79084.10</td>\n",
              "      <td>0</td>\n",
              "      <td>2</td>\n",
              "      <td>0</td>\n",
              "    </tr>\n",
              "  </tbody>\n",
              "</table>\n",
              "</div>\n",
              "      <button class=\"colab-df-convert\" onclick=\"convertToInteractive('df-35b914c2-f831-4e22-9029-ef22d69bfdf5')\"\n",
              "              title=\"Convert this dataframe to an interactive table.\"\n",
              "              style=\"display:none;\">\n",
              "        \n",
              "  <svg xmlns=\"http://www.w3.org/2000/svg\" height=\"24px\"viewBox=\"0 0 24 24\"\n",
              "       width=\"24px\">\n",
              "    <path d=\"M0 0h24v24H0V0z\" fill=\"none\"/>\n",
              "    <path d=\"M18.56 5.44l.94 2.06.94-2.06 2.06-.94-2.06-.94-.94-2.06-.94 2.06-2.06.94zm-11 1L8.5 8.5l.94-2.06 2.06-.94-2.06-.94L8.5 2.5l-.94 2.06-2.06.94zm10 10l.94 2.06.94-2.06 2.06-.94-2.06-.94-.94-2.06-.94 2.06-2.06.94z\"/><path d=\"M17.41 7.96l-1.37-1.37c-.4-.4-.92-.59-1.43-.59-.52 0-1.04.2-1.43.59L10.3 9.45l-7.72 7.72c-.78.78-.78 2.05 0 2.83L4 21.41c.39.39.9.59 1.41.59.51 0 1.02-.2 1.41-.59l7.78-7.78 2.81-2.81c.8-.78.8-2.07 0-2.86zM5.41 20L4 18.59l7.72-7.72 1.47 1.35L5.41 20z\"/>\n",
              "  </svg>\n",
              "      </button>\n",
              "      \n",
              "  <style>\n",
              "    .colab-df-container {\n",
              "      display:flex;\n",
              "      flex-wrap:wrap;\n",
              "      gap: 12px;\n",
              "    }\n",
              "\n",
              "    .colab-df-convert {\n",
              "      background-color: #E8F0FE;\n",
              "      border: none;\n",
              "      border-radius: 50%;\n",
              "      cursor: pointer;\n",
              "      display: none;\n",
              "      fill: #1967D2;\n",
              "      height: 32px;\n",
              "      padding: 0 0 0 0;\n",
              "      width: 32px;\n",
              "    }\n",
              "\n",
              "    .colab-df-convert:hover {\n",
              "      background-color: #E2EBFA;\n",
              "      box-shadow: 0px 1px 2px rgba(60, 64, 67, 0.3), 0px 1px 3px 1px rgba(60, 64, 67, 0.15);\n",
              "      fill: #174EA6;\n",
              "    }\n",
              "\n",
              "    [theme=dark] .colab-df-convert {\n",
              "      background-color: #3B4455;\n",
              "      fill: #D2E3FC;\n",
              "    }\n",
              "\n",
              "    [theme=dark] .colab-df-convert:hover {\n",
              "      background-color: #434B5C;\n",
              "      box-shadow: 0px 1px 3px 1px rgba(0, 0, 0, 0.15);\n",
              "      filter: drop-shadow(0px 1px 2px rgba(0, 0, 0, 0.3));\n",
              "      fill: #FFFFFF;\n",
              "    }\n",
              "  </style>\n",
              "\n",
              "      <script>\n",
              "        const buttonEl =\n",
              "          document.querySelector('#df-35b914c2-f831-4e22-9029-ef22d69bfdf5 button.colab-df-convert');\n",
              "        buttonEl.style.display =\n",
              "          google.colab.kernel.accessAllowed ? 'block' : 'none';\n",
              "\n",
              "        async function convertToInteractive(key) {\n",
              "          const element = document.querySelector('#df-35b914c2-f831-4e22-9029-ef22d69bfdf5');\n",
              "          const dataTable =\n",
              "            await google.colab.kernel.invokeFunction('convertToInteractive',\n",
              "                                                     [key], {});\n",
              "          if (!dataTable) return;\n",
              "\n",
              "          const docLinkHtml = 'Like what you see? Visit the ' +\n",
              "            '<a target=\"_blank\" href=https://colab.research.google.com/notebooks/data_table.ipynb>data table notebook</a>'\n",
              "            + ' to learn more about interactive tables.';\n",
              "          element.innerHTML = '';\n",
              "          dataTable['output_type'] = 'display_data';\n",
              "          await google.colab.output.renderOutput(dataTable, element);\n",
              "          const docLink = document.createElement('div');\n",
              "          docLink.innerHTML = docLinkHtml;\n",
              "          element.appendChild(docLink);\n",
              "        }\n",
              "      </script>\n",
              "    </div>\n",
              "  </div>\n",
              "  "
            ],
            "text/plain": [
              "   RowNumber  CustomerId   Surname  ...  Exited CountryCode GenderCode\n",
              "0          1    15634602  Hargrave  ...       1           0          0\n",
              "1          2    15647311      Hill  ...       0           2          0\n",
              "2          3    15619304      Onio  ...       1           0          0\n",
              "3          4    15701354      Boni  ...       0           0          0\n",
              "4          5    15737888  Mitchell  ...       0           2          0\n",
              "\n",
              "[5 rows x 16 columns]"
            ]
          },
          "metadata": {},
          "execution_count": 7
        }
      ]
    },
    {
      "cell_type": "markdown",
      "source": [
        "##### From the above, notice that:\n",
        " * The Geography and Gender have been converted to numeric values.\n",
        " * There are two new columns with these values: CountryCode and GenderCode."
      ],
      "metadata": {
        "id": "7qa5rldU8vL6"
      }
    },
    {
      "cell_type": "markdown",
      "source": [
        "##### From the above, notice that:\n",
        " * The Geography and Gender have been converted to numeric values.\n",
        " * There are two new columns with these values: CountryCode and GenderCode."
      ],
      "metadata": {
        "id": "-zQJmDT488UM"
      }
    },
    {
      "cell_type": "markdown",
      "source": [
        "# Choosing predictor variables and target variable for performing Classification\n",
        "**Target and Source variables**\n",
        "\n",
        "* **Target Variable:** Exited\n",
        "* **Predictor Variables:** CreditScore, CountryCode, GenderCode, Age, Tenure, Balance, NumOfProducts, HasCrCard, IsActiveMember, EstimatedSalary"
      ],
      "metadata": {
        "id": "5fpoBIOJ9AVL"
      }
    },
    {
      "cell_type": "markdown",
      "source": [
        "# Isolate Target and Predictor Variables to Different Dataframes"
      ],
      "metadata": {
        "id": "ibmojQ8h9FvT"
      }
    },
    {
      "cell_type": "code",
      "source": [
        "X = df[['CreditScore', 'CountryCode', 'GenderCode', 'Age', 'Tenure', 'Balance', 'NumOfProducts', 'HasCrCard',\n",
        "            'IsActiveMember', 'EstimatedSalary']]\n",
        "y = df[['Exited']]\n",
        "\n",
        "# Save this list of column values for later\n",
        "columns_list = list(X.columns.values)"
      ],
      "metadata": {
        "id": "V7i4ff0-8hly"
      },
      "execution_count": 8,
      "outputs": []
    },
    {
      "cell_type": "code",
      "source": [
        "X.head(5)"
      ],
      "metadata": {
        "id": "zczCL4XDEhlZ",
        "colab": {
          "base_uri": "https://localhost:8080/",
          "height": 206
        },
        "outputId": "5d542141-f533-4d4b-8b0e-f62189380f25"
      },
      "execution_count": 9,
      "outputs": [
        {
          "output_type": "execute_result",
          "data": {
            "text/html": [
              "\n",
              "  <div id=\"df-3d898de5-6b93-4003-a6aa-37bae091f4c9\">\n",
              "    <div class=\"colab-df-container\">\n",
              "      <div>\n",
              "<style scoped>\n",
              "    .dataframe tbody tr th:only-of-type {\n",
              "        vertical-align: middle;\n",
              "    }\n",
              "\n",
              "    .dataframe tbody tr th {\n",
              "        vertical-align: top;\n",
              "    }\n",
              "\n",
              "    .dataframe thead th {\n",
              "        text-align: right;\n",
              "    }\n",
              "</style>\n",
              "<table border=\"1\" class=\"dataframe\">\n",
              "  <thead>\n",
              "    <tr style=\"text-align: right;\">\n",
              "      <th></th>\n",
              "      <th>CreditScore</th>\n",
              "      <th>CountryCode</th>\n",
              "      <th>GenderCode</th>\n",
              "      <th>Age</th>\n",
              "      <th>Tenure</th>\n",
              "      <th>Balance</th>\n",
              "      <th>NumOfProducts</th>\n",
              "      <th>HasCrCard</th>\n",
              "      <th>IsActiveMember</th>\n",
              "      <th>EstimatedSalary</th>\n",
              "    </tr>\n",
              "  </thead>\n",
              "  <tbody>\n",
              "    <tr>\n",
              "      <th>0</th>\n",
              "      <td>619</td>\n",
              "      <td>0</td>\n",
              "      <td>0</td>\n",
              "      <td>42</td>\n",
              "      <td>2</td>\n",
              "      <td>0.00</td>\n",
              "      <td>1</td>\n",
              "      <td>1</td>\n",
              "      <td>1</td>\n",
              "      <td>101348.88</td>\n",
              "    </tr>\n",
              "    <tr>\n",
              "      <th>1</th>\n",
              "      <td>608</td>\n",
              "      <td>2</td>\n",
              "      <td>0</td>\n",
              "      <td>41</td>\n",
              "      <td>1</td>\n",
              "      <td>83807.86</td>\n",
              "      <td>1</td>\n",
              "      <td>0</td>\n",
              "      <td>1</td>\n",
              "      <td>112542.58</td>\n",
              "    </tr>\n",
              "    <tr>\n",
              "      <th>2</th>\n",
              "      <td>502</td>\n",
              "      <td>0</td>\n",
              "      <td>0</td>\n",
              "      <td>42</td>\n",
              "      <td>8</td>\n",
              "      <td>159660.80</td>\n",
              "      <td>3</td>\n",
              "      <td>1</td>\n",
              "      <td>0</td>\n",
              "      <td>113931.57</td>\n",
              "    </tr>\n",
              "    <tr>\n",
              "      <th>3</th>\n",
              "      <td>699</td>\n",
              "      <td>0</td>\n",
              "      <td>0</td>\n",
              "      <td>39</td>\n",
              "      <td>1</td>\n",
              "      <td>0.00</td>\n",
              "      <td>2</td>\n",
              "      <td>0</td>\n",
              "      <td>0</td>\n",
              "      <td>93826.63</td>\n",
              "    </tr>\n",
              "    <tr>\n",
              "      <th>4</th>\n",
              "      <td>850</td>\n",
              "      <td>2</td>\n",
              "      <td>0</td>\n",
              "      <td>43</td>\n",
              "      <td>2</td>\n",
              "      <td>125510.82</td>\n",
              "      <td>1</td>\n",
              "      <td>1</td>\n",
              "      <td>1</td>\n",
              "      <td>79084.10</td>\n",
              "    </tr>\n",
              "  </tbody>\n",
              "</table>\n",
              "</div>\n",
              "      <button class=\"colab-df-convert\" onclick=\"convertToInteractive('df-3d898de5-6b93-4003-a6aa-37bae091f4c9')\"\n",
              "              title=\"Convert this dataframe to an interactive table.\"\n",
              "              style=\"display:none;\">\n",
              "        \n",
              "  <svg xmlns=\"http://www.w3.org/2000/svg\" height=\"24px\"viewBox=\"0 0 24 24\"\n",
              "       width=\"24px\">\n",
              "    <path d=\"M0 0h24v24H0V0z\" fill=\"none\"/>\n",
              "    <path d=\"M18.56 5.44l.94 2.06.94-2.06 2.06-.94-2.06-.94-.94-2.06-.94 2.06-2.06.94zm-11 1L8.5 8.5l.94-2.06 2.06-.94-2.06-.94L8.5 2.5l-.94 2.06-2.06.94zm10 10l.94 2.06.94-2.06 2.06-.94-2.06-.94-.94-2.06-.94 2.06-2.06.94z\"/><path d=\"M17.41 7.96l-1.37-1.37c-.4-.4-.92-.59-1.43-.59-.52 0-1.04.2-1.43.59L10.3 9.45l-7.72 7.72c-.78.78-.78 2.05 0 2.83L4 21.41c.39.39.9.59 1.41.59.51 0 1.02-.2 1.41-.59l7.78-7.78 2.81-2.81c.8-.78.8-2.07 0-2.86zM5.41 20L4 18.59l7.72-7.72 1.47 1.35L5.41 20z\"/>\n",
              "  </svg>\n",
              "      </button>\n",
              "      \n",
              "  <style>\n",
              "    .colab-df-container {\n",
              "      display:flex;\n",
              "      flex-wrap:wrap;\n",
              "      gap: 12px;\n",
              "    }\n",
              "\n",
              "    .colab-df-convert {\n",
              "      background-color: #E8F0FE;\n",
              "      border: none;\n",
              "      border-radius: 50%;\n",
              "      cursor: pointer;\n",
              "      display: none;\n",
              "      fill: #1967D2;\n",
              "      height: 32px;\n",
              "      padding: 0 0 0 0;\n",
              "      width: 32px;\n",
              "    }\n",
              "\n",
              "    .colab-df-convert:hover {\n",
              "      background-color: #E2EBFA;\n",
              "      box-shadow: 0px 1px 2px rgba(60, 64, 67, 0.3), 0px 1px 3px 1px rgba(60, 64, 67, 0.15);\n",
              "      fill: #174EA6;\n",
              "    }\n",
              "\n",
              "    [theme=dark] .colab-df-convert {\n",
              "      background-color: #3B4455;\n",
              "      fill: #D2E3FC;\n",
              "    }\n",
              "\n",
              "    [theme=dark] .colab-df-convert:hover {\n",
              "      background-color: #434B5C;\n",
              "      box-shadow: 0px 1px 3px 1px rgba(0, 0, 0, 0.15);\n",
              "      filter: drop-shadow(0px 1px 2px rgba(0, 0, 0, 0.3));\n",
              "      fill: #FFFFFF;\n",
              "    }\n",
              "  </style>\n",
              "\n",
              "      <script>\n",
              "        const buttonEl =\n",
              "          document.querySelector('#df-3d898de5-6b93-4003-a6aa-37bae091f4c9 button.colab-df-convert');\n",
              "        buttonEl.style.display =\n",
              "          google.colab.kernel.accessAllowed ? 'block' : 'none';\n",
              "\n",
              "        async function convertToInteractive(key) {\n",
              "          const element = document.querySelector('#df-3d898de5-6b93-4003-a6aa-37bae091f4c9');\n",
              "          const dataTable =\n",
              "            await google.colab.kernel.invokeFunction('convertToInteractive',\n",
              "                                                     [key], {});\n",
              "          if (!dataTable) return;\n",
              "\n",
              "          const docLinkHtml = 'Like what you see? Visit the ' +\n",
              "            '<a target=\"_blank\" href=https://colab.research.google.com/notebooks/data_table.ipynb>data table notebook</a>'\n",
              "            + ' to learn more about interactive tables.';\n",
              "          element.innerHTML = '';\n",
              "          dataTable['output_type'] = 'display_data';\n",
              "          await google.colab.output.renderOutput(dataTable, element);\n",
              "          const docLink = document.createElement('div');\n",
              "          docLink.innerHTML = docLinkHtml;\n",
              "          element.appendChild(docLink);\n",
              "        }\n",
              "      </script>\n",
              "    </div>\n",
              "  </div>\n",
              "  "
            ],
            "text/plain": [
              "   CreditScore  CountryCode  ...  IsActiveMember  EstimatedSalary\n",
              "0          619            0  ...               1        101348.88\n",
              "1          608            2  ...               1        112542.58\n",
              "2          502            0  ...               0        113931.57\n",
              "3          699            0  ...               0         93826.63\n",
              "4          850            2  ...               1         79084.10\n",
              "\n",
              "[5 rows x 10 columns]"
            ]
          },
          "metadata": {},
          "execution_count": 9
        }
      ]
    },
    {
      "cell_type": "code",
      "source": [
        "y.head(5)"
      ],
      "metadata": {
        "id": "v83wFiMo9Oyi",
        "colab": {
          "base_uri": "https://localhost:8080/",
          "height": 206
        },
        "outputId": "98aa81ca-053f-4077-fda4-2061641e4ba8"
      },
      "execution_count": 10,
      "outputs": [
        {
          "output_type": "execute_result",
          "data": {
            "text/html": [
              "\n",
              "  <div id=\"df-2e6bf4ac-1818-4d6b-9bdf-52a3c964f2e1\">\n",
              "    <div class=\"colab-df-container\">\n",
              "      <div>\n",
              "<style scoped>\n",
              "    .dataframe tbody tr th:only-of-type {\n",
              "        vertical-align: middle;\n",
              "    }\n",
              "\n",
              "    .dataframe tbody tr th {\n",
              "        vertical-align: top;\n",
              "    }\n",
              "\n",
              "    .dataframe thead th {\n",
              "        text-align: right;\n",
              "    }\n",
              "</style>\n",
              "<table border=\"1\" class=\"dataframe\">\n",
              "  <thead>\n",
              "    <tr style=\"text-align: right;\">\n",
              "      <th></th>\n",
              "      <th>Exited</th>\n",
              "    </tr>\n",
              "  </thead>\n",
              "  <tbody>\n",
              "    <tr>\n",
              "      <th>0</th>\n",
              "      <td>1</td>\n",
              "    </tr>\n",
              "    <tr>\n",
              "      <th>1</th>\n",
              "      <td>0</td>\n",
              "    </tr>\n",
              "    <tr>\n",
              "      <th>2</th>\n",
              "      <td>1</td>\n",
              "    </tr>\n",
              "    <tr>\n",
              "      <th>3</th>\n",
              "      <td>0</td>\n",
              "    </tr>\n",
              "    <tr>\n",
              "      <th>4</th>\n",
              "      <td>0</td>\n",
              "    </tr>\n",
              "  </tbody>\n",
              "</table>\n",
              "</div>\n",
              "      <button class=\"colab-df-convert\" onclick=\"convertToInteractive('df-2e6bf4ac-1818-4d6b-9bdf-52a3c964f2e1')\"\n",
              "              title=\"Convert this dataframe to an interactive table.\"\n",
              "              style=\"display:none;\">\n",
              "        \n",
              "  <svg xmlns=\"http://www.w3.org/2000/svg\" height=\"24px\"viewBox=\"0 0 24 24\"\n",
              "       width=\"24px\">\n",
              "    <path d=\"M0 0h24v24H0V0z\" fill=\"none\"/>\n",
              "    <path d=\"M18.56 5.44l.94 2.06.94-2.06 2.06-.94-2.06-.94-.94-2.06-.94 2.06-2.06.94zm-11 1L8.5 8.5l.94-2.06 2.06-.94-2.06-.94L8.5 2.5l-.94 2.06-2.06.94zm10 10l.94 2.06.94-2.06 2.06-.94-2.06-.94-.94-2.06-.94 2.06-2.06.94z\"/><path d=\"M17.41 7.96l-1.37-1.37c-.4-.4-.92-.59-1.43-.59-.52 0-1.04.2-1.43.59L10.3 9.45l-7.72 7.72c-.78.78-.78 2.05 0 2.83L4 21.41c.39.39.9.59 1.41.59.51 0 1.02-.2 1.41-.59l7.78-7.78 2.81-2.81c.8-.78.8-2.07 0-2.86zM5.41 20L4 18.59l7.72-7.72 1.47 1.35L5.41 20z\"/>\n",
              "  </svg>\n",
              "      </button>\n",
              "      \n",
              "  <style>\n",
              "    .colab-df-container {\n",
              "      display:flex;\n",
              "      flex-wrap:wrap;\n",
              "      gap: 12px;\n",
              "    }\n",
              "\n",
              "    .colab-df-convert {\n",
              "      background-color: #E8F0FE;\n",
              "      border: none;\n",
              "      border-radius: 50%;\n",
              "      cursor: pointer;\n",
              "      display: none;\n",
              "      fill: #1967D2;\n",
              "      height: 32px;\n",
              "      padding: 0 0 0 0;\n",
              "      width: 32px;\n",
              "    }\n",
              "\n",
              "    .colab-df-convert:hover {\n",
              "      background-color: #E2EBFA;\n",
              "      box-shadow: 0px 1px 2px rgba(60, 64, 67, 0.3), 0px 1px 3px 1px rgba(60, 64, 67, 0.15);\n",
              "      fill: #174EA6;\n",
              "    }\n",
              "\n",
              "    [theme=dark] .colab-df-convert {\n",
              "      background-color: #3B4455;\n",
              "      fill: #D2E3FC;\n",
              "    }\n",
              "\n",
              "    [theme=dark] .colab-df-convert:hover {\n",
              "      background-color: #434B5C;\n",
              "      box-shadow: 0px 1px 3px 1px rgba(0, 0, 0, 0.15);\n",
              "      filter: drop-shadow(0px 1px 2px rgba(0, 0, 0, 0.3));\n",
              "      fill: #FFFFFF;\n",
              "    }\n",
              "  </style>\n",
              "\n",
              "      <script>\n",
              "        const buttonEl =\n",
              "          document.querySelector('#df-2e6bf4ac-1818-4d6b-9bdf-52a3c964f2e1 button.colab-df-convert');\n",
              "        buttonEl.style.display =\n",
              "          google.colab.kernel.accessAllowed ? 'block' : 'none';\n",
              "\n",
              "        async function convertToInteractive(key) {\n",
              "          const element = document.querySelector('#df-2e6bf4ac-1818-4d6b-9bdf-52a3c964f2e1');\n",
              "          const dataTable =\n",
              "            await google.colab.kernel.invokeFunction('convertToInteractive',\n",
              "                                                     [key], {});\n",
              "          if (!dataTable) return;\n",
              "\n",
              "          const docLinkHtml = 'Like what you see? Visit the ' +\n",
              "            '<a target=\"_blank\" href=https://colab.research.google.com/notebooks/data_table.ipynb>data table notebook</a>'\n",
              "            + ' to learn more about interactive tables.';\n",
              "          element.innerHTML = '';\n",
              "          dataTable['output_type'] = 'display_data';\n",
              "          await google.colab.output.renderOutput(dataTable, element);\n",
              "          const docLink = document.createElement('div');\n",
              "          docLink.innerHTML = docLinkHtml;\n",
              "          element.appendChild(docLink);\n",
              "        }\n",
              "      </script>\n",
              "    </div>\n",
              "  </div>\n",
              "  "
            ],
            "text/plain": [
              "   Exited\n",
              "0       1\n",
              "1       0\n",
              "2       1\n",
              "3       0\n",
              "4       0"
            ]
          },
          "metadata": {},
          "execution_count": 10
        }
      ]
    },
    {
      "cell_type": "markdown",
      "source": [
        "# Split dataset into the training and test using train_set_split: \n"
      ],
      "metadata": {
        "id": "wJMuneOd9YoY"
      }
    },
    {
      "cell_type": "code",
      "source": [
        "X_train, X_test, y_train, y_test = train_test_split(X, y, test_size=0.3, random_state=100)\n",
        "\n",
        "print('Training Data:', X_train.shape, y_train.shape)\n",
        "print('Testing Data:', X_test.shape, y_test.shape)"
      ],
      "metadata": {
        "id": "dv75X8Y59P9T",
        "colab": {
          "base_uri": "https://localhost:8080/"
        },
        "outputId": "ce430354-66c4-4425-93e6-0e3e1b1b6fe6"
      },
      "execution_count": 11,
      "outputs": [
        {
          "output_type": "stream",
          "name": "stdout",
          "text": [
            "Training Data: (7000, 10) (7000, 1)\n",
            "Testing Data: (3000, 10) (3000, 1)\n"
          ]
        }
      ]
    },
    {
      "cell_type": "markdown",
      "source": [
        "# Train, Test and Predict using a Decision Tree model"
      ],
      "metadata": {
        "id": "gnktThS89eR7"
      }
    },
    {
      "cell_type": "code",
      "source": [
        "# Create an object using DecisionTreeClassifier, setting a few parameters such as max depth.\n",
        "dtclf_model1 = DecisionTreeClassifier(random_state=42, max_features=7)"
      ],
      "metadata": {
        "id": "v9c_hIow9fG7"
      },
      "execution_count": 12,
      "outputs": []
    },
    {
      "cell_type": "code",
      "source": [
        "# Fit the classification model to the training set data.\n",
        "dtclf_model1.fit(X_train, y_train)"
      ],
      "metadata": {
        "id": "suOhNx089ll8",
        "colab": {
          "base_uri": "https://localhost:8080/"
        },
        "outputId": "697e3dbb-e155-4fdb-8279-a89dcaeeb624"
      },
      "execution_count": 13,
      "outputs": [
        {
          "output_type": "execute_result",
          "data": {
            "text/plain": [
              "DecisionTreeClassifier(max_features=7, random_state=42)"
            ]
          },
          "metadata": {},
          "execution_count": 13
        }
      ]
    },
    {
      "cell_type": "markdown",
      "source": [
        "### Predicting the results"
      ],
      "metadata": {
        "id": "WxwyYuby9pk0"
      }
    },
    {
      "cell_type": "markdown",
      "source": [
        "Training set prediction score"
      ],
      "metadata": {
        "id": "i7beUOQI9skT"
      }
    },
    {
      "cell_type": "code",
      "source": [
        "y_pred = dtclf_model1.predict(X_train)\n",
        "accuracy_score(y_train, y_pred)"
      ],
      "metadata": {
        "id": "49XrNh7x9txs",
        "colab": {
          "base_uri": "https://localhost:8080/"
        },
        "outputId": "d98ec37e-006e-4f8c-cd35-2936b034751d"
      },
      "execution_count": 14,
      "outputs": [
        {
          "output_type": "execute_result",
          "data": {
            "text/plain": [
              "1.0"
            ]
          },
          "metadata": {},
          "execution_count": 14
        }
      ]
    },
    {
      "cell_type": "markdown",
      "source": [
        "Test set prediction score"
      ],
      "metadata": {
        "id": "7rBuezRB90gc"
      }
    },
    {
      "cell_type": "code",
      "source": [
        "y_pred1 = dtclf_model1.predict(X_test)\n",
        "accuracy_score(y_test, y_pred1)"
      ],
      "metadata": {
        "id": "PK56GFna926s",
        "colab": {
          "base_uri": "https://localhost:8080/"
        },
        "outputId": "4ea98c33-7163-4ad3-e3f2-53189841cde1"
      },
      "execution_count": 15,
      "outputs": [
        {
          "output_type": "execute_result",
          "data": {
            "text/plain": [
              "0.789"
            ]
          },
          "metadata": {},
          "execution_count": 15
        }
      ]
    },
    {
      "cell_type": "markdown",
      "source": [
        "But accuracy can be misleading..."
      ],
      "metadata": {
        "id": "UpIk5upe96al"
      }
    },
    {
      "cell_type": "code",
      "source": [
        "ConfusionMatrixDisplay.from_predictions(y_test, y_pred1, cmap='RdPu_r')\n",
        "plt.grid(False)"
      ],
      "metadata": {
        "id": "PmgWEctk97K8",
        "colab": {
          "base_uri": "https://localhost:8080/",
          "height": 278
        },
        "outputId": "ecc6c08c-9fea-4ba4-b1e2-9064af947b85"
      },
      "execution_count": 16,
      "outputs": [
        {
          "output_type": "display_data",
          "data": {
            "image/png": "[encoded data removed]",
            "text/plain": [
              "<Figure size 432x288 with 2 Axes>"
            ]
          },
          "metadata": {
            "needs_background": "light"
          }
        }
      ]
    },
    {
      "cell_type": "code",
      "source": [
        "print(classification_report(y_test, y_pred1))"
      ],
      "metadata": {
        "id": "zulsdYZr-EmO",
        "colab": {
          "base_uri": "https://localhost:8080/"
        },
        "outputId": "44a2531d-280b-43a3-e501-62789291d68c"
      },
      "execution_count": 17,
      "outputs": [
        {
          "output_type": "stream",
          "name": "stdout",
          "text": [
            "              precision    recall  f1-score   support\n",
            "\n",
            "           0       0.87      0.87      0.87      2376\n",
            "           1       0.49      0.50      0.49       624\n",
            "\n",
            "    accuracy                           0.79      3000\n",
            "   macro avg       0.68      0.68      0.68      3000\n",
            "weighted avg       0.79      0.79      0.79      3000\n",
            "\n"
          ]
        }
      ]
    },
    {
      "cell_type": "markdown",
      "source": [
        "With classification_report we calculate precision and recall with actual and predicted values.\n",
        "\n",
        "For class 1 (churned users) model achieves 0.62 precision and 0.45 recall.\n",
        "\n",
        "Precision tells us how many churned users our classifier model predicted correctly.\n",
        "\n",
        "On the other side, recall tell us how many churned customers it missed.\n",
        "\n",
        "In simple terms, the classifier is not very accurate for identifying churned customers - most likely due to class imbalance!"
      ],
      "metadata": {
        "id": "7uce1w1C-GzN"
      }
    },
    {
      "cell_type": "markdown",
      "source": [
        "# Plotting the Decision Tree"
      ],
      "metadata": {
        "id": "XA8gLfyX-Jrc"
      }
    },
    {
      "cell_type": "code",
      "source": [
        "target = list(df['Exited'].unique())\n",
        "feature_names = list(X.columns.values)"
      ],
      "metadata": {
        "id": "pAt8Rr4X-Ksd"
      },
      "execution_count": 18,
      "outputs": []
    },
    {
      "cell_type": "code",
      "source": [
        "# Graphviz Example:\n",
        "\n",
        "dot_data = tree.export_graphviz(dtclf_model1, feature_names=feature_names, class_names=['Left', 'Stayed'], max_depth=3,\n",
        "                                filled=True, rounded=True) \n",
        "graph = graphviz.Source(dot_data)  \n",
        "\n",
        "graph\n",
        "# This can be saved as a file:\n",
        "# graph.save('decision_tree_chart.jpg')"
      ],
      "metadata": {
        "id": "nvvVQujm-M0t",
        "colab": {
          "base_uri": "https://localhost:8080/",
          "height": 715
        },
        "outputId": "ff4d6cb2-f159-4b3f-cd71-19838eff09cb"
      },
      "execution_count": 19,
      "outputs": [
        {
          "output_type": "execute_result",
          "data": {
            "text/plain": [
              "<graphviz.files.Source at 0x7fcb9eae9350>"
            ],
            "image/svg+xml": "<?xml version=\"1.0\" encoding=\"UTF-8\" standalone=\"no\"?>\n<!DOCTYPE svg PUBLIC \"-//W3C//DTD SVG 1.1//EN\"\n \"http://www.w3.org/Graphics/SVG/1.1/DTD/svg11.dtd\">\n<!-- Generated by graphviz version 2.40.1 (20161225.0304)\n -->\n<!-- Title: Tree Pages: 1 -->\n<svg width=\"1366pt\" height=\"520pt\"\n viewBox=\"0.00 0.00 1366.00 520.00\" xmlns=\"http://www.w3.org/2000/svg\" xmlns:xlink=\"http://www.w3.org/1999/xlink\">\n<g id=\"graph0\" class=\"graph\" transform=\"scale(1 1) rotate(0) translate(4 516)\">\n<title>Tree</title>\n<polygon fill=\"#ffffff\" stroke=\"transparent\" points=\"-4,4 -4,-516 1362,-516 1362,4 -4,4\"/>\n<!-- 0 -->\n<g id=\"node1\" class=\"node\">\n<title>0</title>\n<path fill=\"#eca16b\" stroke=\"#000000\" d=\"M772.5,-512C772.5,-512 647.5,-512 647.5,-512 641.5,-512 635.5,-506 635.5,-500 635.5,-500 635.5,-441 635.5,-441 635.5,-435 641.5,-429 647.5,-429 647.5,-429 772.5,-429 772.5,-429 778.5,-429 784.5,-435 784.5,-441 784.5,-441 784.5,-500 784.5,-500 784.5,-506 778.5,-512 772.5,-512\"/>\n<text text-anchor=\"middle\" x=\"710\" y=\"-496.8\" font-family=\"Helvetica,sans-Serif\" font-size=\"14.00\" fill=\"#000000\">Age &lt;= 42.5</text>\n<text text-anchor=\"middle\" x=\"710\" y=\"-481.8\" font-family=\"Helvetica,sans-Serif\" font-size=\"14.00\" fill=\"#000000\">gini = 0.322</text>\n<text text-anchor=\"middle\" x=\"710\" y=\"-466.8\" font-family=\"Helvetica,sans-Serif\" font-size=\"14.00\" fill=\"#000000\">samples = 7000</text>\n<text text-anchor=\"middle\" x=\"710\" y=\"-451.8\" font-family=\"Helvetica,sans-Serif\" font-size=\"14.00\" fill=\"#000000\">value = [5587, 1413]</text>\n<text text-anchor=\"middle\" x=\"710\" y=\"-436.8\" font-family=\"Helvetica,sans-Serif\" font-size=\"14.00\" fill=\"#000000\">class = Left</text>\n</g>\n<!-- 1 -->\n<g id=\"node2\" class=\"node\">\n<title>1</title>\n<path fill=\"#e89152\" stroke=\"#000000\" d=\"M600,-393C600,-393 460,-393 460,-393 454,-393 448,-387 448,-381 448,-381 448,-322 448,-322 448,-316 454,-310 460,-310 460,-310 600,-310 600,-310 606,-310 612,-316 612,-322 612,-322 612,-381 612,-381 612,-387 606,-393 600,-393\"/>\n<text text-anchor=\"middle\" x=\"530\" y=\"-377.8\" font-family=\"Helvetica,sans-Serif\" font-size=\"14.00\" fill=\"#000000\">NumOfProducts &lt;= 2.5</text>\n<text text-anchor=\"middle\" x=\"530\" y=\"-362.8\" font-family=\"Helvetica,sans-Serif\" font-size=\"14.00\" fill=\"#000000\">gini = 0.201</text>\n<text text-anchor=\"middle\" x=\"530\" y=\"-347.8\" font-family=\"Helvetica,sans-Serif\" font-size=\"14.00\" fill=\"#000000\">samples = 4954</text>\n<text text-anchor=\"middle\" x=\"530\" y=\"-332.8\" font-family=\"Helvetica,sans-Serif\" font-size=\"14.00\" fill=\"#000000\">value = [4391, 563]</text>\n<text text-anchor=\"middle\" x=\"530\" y=\"-317.8\" font-family=\"Helvetica,sans-Serif\" font-size=\"14.00\" fill=\"#000000\">class = Left</text>\n</g>\n<!-- 0&#45;&gt;1 -->\n<g id=\"edge1\" class=\"edge\">\n<title>0&#45;&gt;1</title>\n<path fill=\"none\" stroke=\"#000000\" d=\"M647.0447,-428.8796C632.3834,-419.1868 616.6664,-408.7961 601.6599,-398.8752\"/>\n<polygon fill=\"#000000\" stroke=\"#000000\" points=\"603.1918,-395.6922 592.9197,-393.0969 599.3313,-401.5315 603.1918,-395.6922\"/>\n<text text-anchor=\"middle\" x=\"597.9171\" y=\"-413.8924\" font-family=\"Helvetica,sans-Serif\" font-size=\"14.00\" fill=\"#000000\">True</text>\n</g>\n<!-- 1300 -->\n<g id=\"node17\" class=\"node\">\n<title>1300</title>\n<path fill=\"#f7dbc6\" stroke=\"#000000\" d=\"M951.5,-393C951.5,-393 810.5,-393 810.5,-393 804.5,-393 798.5,-387 798.5,-381 798.5,-381 798.5,-322 798.5,-322 798.5,-316 804.5,-310 810.5,-310 810.5,-310 951.5,-310 951.5,-310 957.5,-310 963.5,-316 963.5,-322 963.5,-322 963.5,-381 963.5,-381 963.5,-387 957.5,-393 951.5,-393\"/>\n<text text-anchor=\"middle\" x=\"881\" y=\"-377.8\" font-family=\"Helvetica,sans-Serif\" font-size=\"14.00\" fill=\"#000000\">IsActiveMember &lt;= 0.5</text>\n<text text-anchor=\"middle\" x=\"881\" y=\"-362.8\" font-family=\"Helvetica,sans-Serif\" font-size=\"14.00\" fill=\"#000000\">gini = 0.486</text>\n<text text-anchor=\"middle\" x=\"881\" y=\"-347.8\" font-family=\"Helvetica,sans-Serif\" font-size=\"14.00\" fill=\"#000000\">samples = 2046</text>\n<text text-anchor=\"middle\" x=\"881\" y=\"-332.8\" font-family=\"Helvetica,sans-Serif\" font-size=\"14.00\" fill=\"#000000\">value = [1196, 850]</text>\n<text text-anchor=\"middle\" x=\"881\" y=\"-317.8\" font-family=\"Helvetica,sans-Serif\" font-size=\"14.00\" fill=\"#000000\">class = Left</text>\n</g>\n<!-- 0&#45;&gt;1300 -->\n<g id=\"edge16\" class=\"edge\">\n<title>0&#45;&gt;1300</title>\n<path fill=\"none\" stroke=\"#000000\" d=\"M769.8075,-428.8796C783.7358,-419.1868 798.6669,-408.7961 812.9231,-398.8752\"/>\n<polygon fill=\"#000000\" stroke=\"#000000\" points=\"815.0174,-401.6819 821.2263,-393.0969 811.0189,-395.9362 815.0174,-401.6819\"/>\n<text text-anchor=\"middle\" x=\"816.8139\" y=\"-414.0045\" font-family=\"Helvetica,sans-Serif\" font-size=\"14.00\" fill=\"#000000\">False</text>\n</g>\n<!-- 2 -->\n<g id=\"node3\" class=\"node\">\n<title>2</title>\n<path fill=\"#e88f4f\" stroke=\"#000000\" d=\"M322,-274C322,-274 206,-274 206,-274 200,-274 194,-268 194,-262 194,-262 194,-203 194,-203 194,-197 200,-191 206,-191 206,-191 322,-191 322,-191 328,-191 334,-197 334,-203 334,-203 334,-262 334,-262 334,-268 328,-274 322,-274\"/>\n<text text-anchor=\"middle\" x=\"264\" y=\"-258.8\" font-family=\"Helvetica,sans-Serif\" font-size=\"14.00\" fill=\"#000000\">Age &lt;= 39.5</text>\n<text text-anchor=\"middle\" x=\"264\" y=\"-243.8\" font-family=\"Helvetica,sans-Serif\" font-size=\"14.00\" fill=\"#000000\">gini = 0.18</text>\n<text text-anchor=\"middle\" x=\"264\" y=\"-228.8\" font-family=\"Helvetica,sans-Serif\" font-size=\"14.00\" fill=\"#000000\">samples = 4845</text>\n<text text-anchor=\"middle\" x=\"264\" y=\"-213.8\" font-family=\"Helvetica,sans-Serif\" font-size=\"14.00\" fill=\"#000000\">value = [4362, 483]</text>\n<text text-anchor=\"middle\" x=\"264\" y=\"-198.8\" font-family=\"Helvetica,sans-Serif\" font-size=\"14.00\" fill=\"#000000\">class = Left</text>\n</g>\n<!-- 1&#45;&gt;2 -->\n<g id=\"edge2\" class=\"edge\">\n<title>1&#45;&gt;2</title>\n<path fill=\"none\" stroke=\"#000000\" d=\"M447.6576,-314.6626C414.4641,-299.8129 376.3212,-282.749 343.4276,-268.0334\"/>\n<polygon fill=\"#000000\" stroke=\"#000000\" points=\"344.855,-264.8377 334.2975,-263.9489 341.9964,-271.2275 344.855,-264.8377\"/>\n</g>\n<!-- 1257 -->\n<g id=\"node10\" class=\"node\">\n<title>1257</title>\n<path fill=\"#81c1ee\" stroke=\"#000000\" d=\"M576,-274C576,-274 484,-274 484,-274 478,-274 472,-268 472,-262 472,-262 472,-203 472,-203 472,-197 478,-191 484,-191 484,-191 576,-191 576,-191 582,-191 588,-197 588,-203 588,-203 588,-262 588,-262 588,-268 582,-274 576,-274\"/>\n<text text-anchor=\"middle\" x=\"530\" y=\"-258.8\" font-family=\"Helvetica,sans-Serif\" font-size=\"14.00\" fill=\"#000000\">Age &lt;= 37.5</text>\n<text text-anchor=\"middle\" x=\"530\" y=\"-243.8\" font-family=\"Helvetica,sans-Serif\" font-size=\"14.00\" fill=\"#000000\">gini = 0.391</text>\n<text text-anchor=\"middle\" x=\"530\" y=\"-228.8\" font-family=\"Helvetica,sans-Serif\" font-size=\"14.00\" fill=\"#000000\">samples = 109</text>\n<text text-anchor=\"middle\" x=\"530\" y=\"-213.8\" font-family=\"Helvetica,sans-Serif\" font-size=\"14.00\" fill=\"#000000\">value = [29, 80]</text>\n<text text-anchor=\"middle\" x=\"530\" y=\"-198.8\" font-family=\"Helvetica,sans-Serif\" font-size=\"14.00\" fill=\"#000000\">class = Stayed</text>\n</g>\n<!-- 1&#45;&gt;1257 -->\n<g id=\"edge9\" class=\"edge\">\n<title>1&#45;&gt;1257</title>\n<path fill=\"none\" stroke=\"#000000\" d=\"M530,-309.8796C530,-301.6838 530,-292.9891 530,-284.5013\"/>\n<polygon fill=\"#000000\" stroke=\"#000000\" points=\"533.5001,-284.298 530,-274.2981 526.5001,-284.2981 533.5001,-284.298\"/>\n</g>\n<!-- 3 -->\n<g id=\"node4\" class=\"node\">\n<title>3</title>\n<path fill=\"#e78d4c\" stroke=\"#000000\" d=\"M152,-155C152,-155 12,-155 12,-155 6,-155 0,-149 0,-143 0,-143 0,-84 0,-84 0,-78 6,-72 12,-72 12,-72 152,-72 152,-72 158,-72 164,-78 164,-84 164,-84 164,-143 164,-143 164,-149 158,-155 152,-155\"/>\n<text text-anchor=\"middle\" x=\"82\" y=\"-139.8\" font-family=\"Helvetica,sans-Serif\" font-size=\"14.00\" fill=\"#000000\">NumOfProducts &lt;= 1.5</text>\n<text text-anchor=\"middle\" x=\"82\" y=\"-124.8\" font-family=\"Helvetica,sans-Serif\" font-size=\"14.00\" fill=\"#000000\">gini = 0.159</text>\n<text text-anchor=\"middle\" x=\"82\" y=\"-109.8\" font-family=\"Helvetica,sans-Serif\" font-size=\"14.00\" fill=\"#000000\">samples = 4101</text>\n<text text-anchor=\"middle\" x=\"82\" y=\"-94.8\" font-family=\"Helvetica,sans-Serif\" font-size=\"14.00\" fill=\"#000000\">value = [3744, 357]</text>\n<text text-anchor=\"middle\" x=\"82\" y=\"-79.8\" font-family=\"Helvetica,sans-Serif\" font-size=\"14.00\" fill=\"#000000\">class = Left</text>\n</g>\n<!-- 2&#45;&gt;3 -->\n<g id=\"edge3\" class=\"edge\">\n<title>2&#45;&gt;3</title>\n<path fill=\"none\" stroke=\"#000000\" d=\"M200.3452,-190.8796C185.3824,-181.0962 169.3323,-170.6019 154.0309,-160.5971\"/>\n<polygon fill=\"#000000\" stroke=\"#000000\" points=\"155.9039,-157.6401 145.6188,-155.0969 152.0731,-163.4989 155.9039,-157.6401\"/>\n</g>\n<!-- 978 -->\n<g id=\"node7\" class=\"node\">\n<title>978</title>\n<path fill=\"#ea9b61\" stroke=\"#000000\" d=\"M334,-155C334,-155 194,-155 194,-155 188,-155 182,-149 182,-143 182,-143 182,-84 182,-84 182,-78 188,-72 194,-72 194,-72 334,-72 334,-72 340,-72 346,-78 346,-84 346,-84 346,-143 346,-143 346,-149 340,-155 334,-155\"/>\n<text text-anchor=\"middle\" x=\"264\" y=\"-139.8\" font-family=\"Helvetica,sans-Serif\" font-size=\"14.00\" fill=\"#000000\">NumOfProducts &lt;= 1.5</text>\n<text text-anchor=\"middle\" x=\"264\" y=\"-124.8\" font-family=\"Helvetica,sans-Serif\" font-size=\"14.00\" fill=\"#000000\">gini = 0.281</text>\n<text text-anchor=\"middle\" x=\"264\" y=\"-109.8\" font-family=\"Helvetica,sans-Serif\" font-size=\"14.00\" fill=\"#000000\">samples = 744</text>\n<text text-anchor=\"middle\" x=\"264\" y=\"-94.8\" font-family=\"Helvetica,sans-Serif\" font-size=\"14.00\" fill=\"#000000\">value = [618, 126]</text>\n<text text-anchor=\"middle\" x=\"264\" y=\"-79.8\" font-family=\"Helvetica,sans-Serif\" font-size=\"14.00\" fill=\"#000000\">class = Left</text>\n</g>\n<!-- 2&#45;&gt;978 -->\n<g id=\"edge6\" class=\"edge\">\n<title>2&#45;&gt;978</title>\n<path fill=\"none\" stroke=\"#000000\" d=\"M264,-190.8796C264,-182.6838 264,-173.9891 264,-165.5013\"/>\n<polygon fill=\"#000000\" stroke=\"#000000\" points=\"267.5001,-165.298 264,-155.2981 260.5001,-165.2981 267.5001,-165.298\"/>\n</g>\n<!-- 4 -->\n<g id=\"node5\" class=\"node\">\n<title>4</title>\n<path fill=\"#c0c0c0\" stroke=\"#000000\" d=\"M61,-36C61,-36 31,-36 31,-36 25,-36 19,-30 19,-24 19,-24 19,-12 19,-12 19,-6 25,0 31,0 31,0 61,0 61,0 67,0 73,-6 73,-12 73,-12 73,-24 73,-24 73,-30 67,-36 61,-36\"/>\n<text text-anchor=\"middle\" x=\"46\" y=\"-14.3\" font-family=\"Helvetica,sans-Serif\" font-size=\"14.00\" fill=\"#000000\">(...)</text>\n</g>\n<!-- 3&#45;&gt;4 -->\n<g id=\"edge4\" class=\"edge\">\n<title>3&#45;&gt;4</title>\n<path fill=\"none\" stroke=\"#000000\" d=\"M66.3146,-71.8901C62.9739,-63.0279 59.525,-53.8788 56.4386,-45.6913\"/>\n<polygon fill=\"#000000\" stroke=\"#000000\" points=\"59.6877,-44.3878 52.8853,-36.2651 53.1376,-46.8569 59.6877,-44.3878\"/>\n</g>\n<!-- 705 -->\n<g id=\"node6\" class=\"node\">\n<title>705</title>\n<path fill=\"#c0c0c0\" stroke=\"#000000\" d=\"M133,-36C133,-36 103,-36 103,-36 97,-36 91,-30 91,-24 91,-24 91,-12 91,-12 91,-6 97,0 103,0 103,0 133,0 133,0 139,0 145,-6 145,-12 145,-12 145,-24 145,-24 145,-30 139,-36 133,-36\"/>\n<text text-anchor=\"middle\" x=\"118\" y=\"-14.3\" font-family=\"Helvetica,sans-Serif\" font-size=\"14.00\" fill=\"#000000\">(...)</text>\n</g>\n<!-- 3&#45;&gt;705 -->\n<g id=\"edge5\" class=\"edge\">\n<title>3&#45;&gt;705</title>\n<path fill=\"none\" stroke=\"#000000\" d=\"M97.6854,-71.8901C101.0261,-63.0279 104.475,-53.8788 107.5614,-45.6913\"/>\n<polygon fill=\"#000000\" stroke=\"#000000\" points=\"110.8624,-46.8569 111.1147,-36.2651 104.3123,-44.3878 110.8624,-46.8569\"/>\n</g>\n<!-- 979 -->\n<g id=\"node8\" class=\"node\">\n<title>979</title>\n<path fill=\"#c0c0c0\" stroke=\"#000000\" d=\"M243,-36C243,-36 213,-36 213,-36 207,-36 201,-30 201,-24 201,-24 201,-12 201,-12 201,-6 207,0 213,0 213,0 243,0 243,0 249,0 255,-6 255,-12 255,-12 255,-24 255,-24 255,-30 249,-36 243,-36\"/>\n<text text-anchor=\"middle\" x=\"228\" y=\"-14.3\" font-family=\"Helvetica,sans-Serif\" font-size=\"14.00\" fill=\"#000000\">(...)</text>\n</g>\n<!-- 978&#45;&gt;979 -->\n<g id=\"edge7\" class=\"edge\">\n<title>978&#45;&gt;979</title>\n<path fill=\"none\" stroke=\"#000000\" d=\"M248.3146,-71.8901C244.9739,-63.0279 241.525,-53.8788 238.4386,-45.6913\"/>\n<polygon fill=\"#000000\" stroke=\"#000000\" points=\"241.6877,-44.3878 234.8853,-36.2651 235.1376,-46.8569 241.6877,-44.3878\"/>\n</g>\n<!-- 1186 -->\n<g id=\"node9\" class=\"node\">\n<title>1186</title>\n<path fill=\"#c0c0c0\" stroke=\"#000000\" d=\"M315,-36C315,-36 285,-36 285,-36 279,-36 273,-30 273,-24 273,-24 273,-12 273,-12 273,-6 279,0 285,0 285,0 315,0 315,0 321,0 327,-6 327,-12 327,-12 327,-24 327,-24 327,-30 321,-36 315,-36\"/>\n<text text-anchor=\"middle\" x=\"300\" y=\"-14.3\" font-family=\"Helvetica,sans-Serif\" font-size=\"14.00\" fill=\"#000000\">(...)</text>\n</g>\n<!-- 978&#45;&gt;1186 -->\n<g id=\"edge8\" class=\"edge\">\n<title>978&#45;&gt;1186</title>\n<path fill=\"none\" stroke=\"#000000\" d=\"M279.6854,-71.8901C283.0261,-63.0279 286.475,-53.8788 289.5614,-45.6913\"/>\n<polygon fill=\"#000000\" stroke=\"#000000\" points=\"292.8624,-46.8569 293.1147,-36.2651 286.3123,-44.3878 292.8624,-46.8569\"/>\n</g>\n<!-- 1258 -->\n<g id=\"node11\" class=\"node\">\n<title>1258</title>\n<path fill=\"#b5daf5\" stroke=\"#000000\" d=\"M507.5,-155C507.5,-155 376.5,-155 376.5,-155 370.5,-155 364.5,-149 364.5,-143 364.5,-143 364.5,-84 364.5,-84 364.5,-78 370.5,-72 376.5,-72 376.5,-72 507.5,-72 507.5,-72 513.5,-72 519.5,-78 519.5,-84 519.5,-84 519.5,-143 519.5,-143 519.5,-149 513.5,-155 507.5,-155\"/>\n<text text-anchor=\"middle\" x=\"442\" y=\"-139.8\" font-family=\"Helvetica,sans-Serif\" font-size=\"14.00\" fill=\"#000000\">Balance &lt;= 37311.75</text>\n<text text-anchor=\"middle\" x=\"442\" y=\"-124.8\" font-family=\"Helvetica,sans-Serif\" font-size=\"14.00\" fill=\"#000000\">gini = 0.473</text>\n<text text-anchor=\"middle\" x=\"442\" y=\"-109.8\" font-family=\"Helvetica,sans-Serif\" font-size=\"14.00\" fill=\"#000000\">samples = 65</text>\n<text text-anchor=\"middle\" x=\"442\" y=\"-94.8\" font-family=\"Helvetica,sans-Serif\" font-size=\"14.00\" fill=\"#000000\">value = [25, 40]</text>\n<text text-anchor=\"middle\" x=\"442\" y=\"-79.8\" font-family=\"Helvetica,sans-Serif\" font-size=\"14.00\" fill=\"#000000\">class = Stayed</text>\n</g>\n<!-- 1257&#45;&gt;1258 -->\n<g id=\"edge10\" class=\"edge\">\n<title>1257&#45;&gt;1258</title>\n<path fill=\"none\" stroke=\"#000000\" d=\"M499.2219,-190.8796C492.6949,-182.0534 485.7401,-172.6485 479.0092,-163.5466\"/>\n<polygon fill=\"#000000\" stroke=\"#000000\" points=\"481.6695,-161.2574 472.9095,-155.2981 476.0412,-165.4195 481.6695,-161.2574\"/>\n</g>\n<!-- 1289 -->\n<g id=\"node14\" class=\"node\">\n<title>1289</title>\n<path fill=\"#4da7e8\" stroke=\"#000000\" d=\"M690,-155C690,-155 550,-155 550,-155 544,-155 538,-149 538,-143 538,-143 538,-84 538,-84 538,-78 544,-72 550,-72 550,-72 690,-72 690,-72 696,-72 702,-78 702,-84 702,-84 702,-143 702,-143 702,-149 696,-155 690,-155\"/>\n<text text-anchor=\"middle\" x=\"620\" y=\"-139.8\" font-family=\"Helvetica,sans-Serif\" font-size=\"14.00\" fill=\"#000000\">Balance &lt;= 31194.516</text>\n<text text-anchor=\"middle\" x=\"620\" y=\"-124.8\" font-family=\"Helvetica,sans-Serif\" font-size=\"14.00\" fill=\"#000000\">gini = 0.165</text>\n<text text-anchor=\"middle\" x=\"620\" y=\"-109.8\" font-family=\"Helvetica,sans-Serif\" font-size=\"14.00\" fill=\"#000000\">samples = 44</text>\n<text text-anchor=\"middle\" x=\"620\" y=\"-94.8\" font-family=\"Helvetica,sans-Serif\" font-size=\"14.00\" fill=\"#000000\">value = [4, 40]</text>\n<text text-anchor=\"middle\" x=\"620\" y=\"-79.8\" font-family=\"Helvetica,sans-Serif\" font-size=\"14.00\" fill=\"#000000\">class = Stayed</text>\n</g>\n<!-- 1257&#45;&gt;1289 -->\n<g id=\"edge13\" class=\"edge\">\n<title>1257&#45;&gt;1289</title>\n<path fill=\"none\" stroke=\"#000000\" d=\"M561.4776,-190.8796C568.1529,-182.0534 575.2658,-172.6485 582.1496,-163.5466\"/>\n<polygon fill=\"#000000\" stroke=\"#000000\" points=\"585.1474,-165.3852 588.388,-155.2981 579.5643,-161.1626 585.1474,-165.3852\"/>\n</g>\n<!-- 1259 -->\n<g id=\"node12\" class=\"node\">\n<title>1259</title>\n<path fill=\"#c0c0c0\" stroke=\"#000000\" d=\"M421,-36C421,-36 391,-36 391,-36 385,-36 379,-30 379,-24 379,-24 379,-12 379,-12 379,-6 385,0 391,0 391,0 421,0 421,0 427,0 433,-6 433,-12 433,-12 433,-24 433,-24 433,-30 427,-36 421,-36\"/>\n<text text-anchor=\"middle\" x=\"406\" y=\"-14.3\" font-family=\"Helvetica,sans-Serif\" font-size=\"14.00\" fill=\"#000000\">(...)</text>\n</g>\n<!-- 1258&#45;&gt;1259 -->\n<g id=\"edge11\" class=\"edge\">\n<title>1258&#45;&gt;1259</title>\n<path fill=\"none\" stroke=\"#000000\" d=\"M426.3146,-71.8901C422.9739,-63.0279 419.525,-53.8788 416.4386,-45.6913\"/>\n<polygon fill=\"#000000\" stroke=\"#000000\" points=\"419.6877,-44.3878 412.8853,-36.2651 413.1376,-46.8569 419.6877,-44.3878\"/>\n</g>\n<!-- 1272 -->\n<g id=\"node13\" class=\"node\">\n<title>1272</title>\n<path fill=\"#c0c0c0\" stroke=\"#000000\" d=\"M493,-36C493,-36 463,-36 463,-36 457,-36 451,-30 451,-24 451,-24 451,-12 451,-12 451,-6 457,0 463,0 463,0 493,0 493,0 499,0 505,-6 505,-12 505,-12 505,-24 505,-24 505,-30 499,-36 493,-36\"/>\n<text text-anchor=\"middle\" x=\"478\" y=\"-14.3\" font-family=\"Helvetica,sans-Serif\" font-size=\"14.00\" fill=\"#000000\">(...)</text>\n</g>\n<!-- 1258&#45;&gt;1272 -->\n<g id=\"edge12\" class=\"edge\">\n<title>1258&#45;&gt;1272</title>\n<path fill=\"none\" stroke=\"#000000\" d=\"M457.6854,-71.8901C461.0261,-63.0279 464.475,-53.8788 467.5614,-45.6913\"/>\n<polygon fill=\"#000000\" stroke=\"#000000\" points=\"470.8624,-46.8569 471.1147,-36.2651 464.3123,-44.3878 470.8624,-46.8569\"/>\n</g>\n<!-- 1290 -->\n<g id=\"node15\" class=\"node\">\n<title>1290</title>\n<path fill=\"#c0c0c0\" stroke=\"#000000\" d=\"M582,-36C582,-36 552,-36 552,-36 546,-36 540,-30 540,-24 540,-24 540,-12 540,-12 540,-6 546,0 552,0 552,0 582,0 582,0 588,0 594,-6 594,-12 594,-12 594,-24 594,-24 594,-30 588,-36 582,-36\"/>\n<text text-anchor=\"middle\" x=\"567\" y=\"-14.3\" font-family=\"Helvetica,sans-Serif\" font-size=\"14.00\" fill=\"#000000\">(...)</text>\n</g>\n<!-- 1289&#45;&gt;1290 -->\n<g id=\"edge14\" class=\"edge\">\n<title>1289&#45;&gt;1290</title>\n<path fill=\"none\" stroke=\"#000000\" d=\"M596.9076,-71.8901C591.8812,-62.8331 586.6885,-53.4765 582.0691,-45.1528\"/>\n<polygon fill=\"#000000\" stroke=\"#000000\" points=\"585.0496,-43.3104 577.1367,-36.2651 578.9289,-46.7073 585.0496,-43.3104\"/>\n</g>\n<!-- 1299 -->\n<g id=\"node16\" class=\"node\">\n<title>1299</title>\n<path fill=\"#c0c0c0\" stroke=\"#000000\" d=\"M654,-36C654,-36 624,-36 624,-36 618,-36 612,-30 612,-24 612,-24 612,-12 612,-12 612,-6 618,0 624,0 624,0 654,0 654,0 660,0 666,-6 666,-12 666,-12 666,-24 666,-24 666,-30 660,-36 654,-36\"/>\n<text text-anchor=\"middle\" x=\"639\" y=\"-14.3\" font-family=\"Helvetica,sans-Serif\" font-size=\"14.00\" fill=\"#000000\">(...)</text>\n</g>\n<!-- 1289&#45;&gt;1299 -->\n<g id=\"edge15\" class=\"edge\">\n<title>1289&#45;&gt;1299</title>\n<path fill=\"none\" stroke=\"#000000\" d=\"M628.2784,-71.8901C630.0028,-63.2227 631.7818,-54.2808 633.3831,-46.2325\"/>\n<polygon fill=\"#000000\" stroke=\"#000000\" points=\"636.8475,-46.7559 635.3661,-36.2651 629.982,-45.3899 636.8475,-46.7559\"/>\n</g>\n<!-- 1301 -->\n<g id=\"node18\" class=\"node\">\n<title>1301</title>\n<path fill=\"#c4e2f7\" stroke=\"#000000\" d=\"M935,-274C935,-274 827,-274 827,-274 821,-274 815,-268 815,-262 815,-262 815,-203 815,-203 815,-197 821,-191 827,-191 827,-191 935,-191 935,-191 941,-191 947,-197 947,-203 947,-203 947,-262 947,-262 947,-268 941,-274 935,-274\"/>\n<text text-anchor=\"middle\" x=\"881\" y=\"-258.8\" font-family=\"Helvetica,sans-Serif\" font-size=\"14.00\" fill=\"#000000\">Age &lt;= 50.5</text>\n<text text-anchor=\"middle\" x=\"881\" y=\"-243.8\" font-family=\"Helvetica,sans-Serif\" font-size=\"14.00\" fill=\"#000000\">gini = 0.485</text>\n<text text-anchor=\"middle\" x=\"881\" y=\"-228.8\" font-family=\"Helvetica,sans-Serif\" font-size=\"14.00\" fill=\"#000000\">samples = 922</text>\n<text text-anchor=\"middle\" x=\"881\" y=\"-213.8\" font-family=\"Helvetica,sans-Serif\" font-size=\"14.00\" fill=\"#000000\">value = [381, 541]</text>\n<text text-anchor=\"middle\" x=\"881\" y=\"-198.8\" font-family=\"Helvetica,sans-Serif\" font-size=\"14.00\" fill=\"#000000\">class = Stayed</text>\n</g>\n<!-- 1300&#45;&gt;1301 -->\n<g id=\"edge17\" class=\"edge\">\n<title>1300&#45;&gt;1301</title>\n<path fill=\"none\" stroke=\"#000000\" d=\"M881,-309.8796C881,-301.6838 881,-292.9891 881,-284.5013\"/>\n<polygon fill=\"#000000\" stroke=\"#000000\" points=\"884.5001,-284.298 881,-274.2981 877.5001,-284.2981 884.5001,-284.298\"/>\n</g>\n<!-- 1732 -->\n<g id=\"node25\" class=\"node\">\n<title>1732</title>\n<path fill=\"#efb184\" stroke=\"#000000\" d=\"M1196,-274C1196,-274 1056,-274 1056,-274 1050,-274 1044,-268 1044,-262 1044,-262 1044,-203 1044,-203 1044,-197 1050,-191 1056,-191 1056,-191 1196,-191 1196,-191 1202,-191 1208,-197 1208,-203 1208,-203 1208,-262 1208,-262 1208,-268 1202,-274 1196,-274\"/>\n<text text-anchor=\"middle\" x=\"1126\" y=\"-258.8\" font-family=\"Helvetica,sans-Serif\" font-size=\"14.00\" fill=\"#000000\">Balance &lt;= 87573.121</text>\n<text text-anchor=\"middle\" x=\"1126\" y=\"-243.8\" font-family=\"Helvetica,sans-Serif\" font-size=\"14.00\" fill=\"#000000\">gini = 0.399</text>\n<text text-anchor=\"middle\" x=\"1126\" y=\"-228.8\" font-family=\"Helvetica,sans-Serif\" font-size=\"14.00\" fill=\"#000000\">samples = 1124</text>\n<text text-anchor=\"middle\" x=\"1126\" y=\"-213.8\" font-family=\"Helvetica,sans-Serif\" font-size=\"14.00\" fill=\"#000000\">value = [815, 309]</text>\n<text text-anchor=\"middle\" x=\"1126\" y=\"-198.8\" font-family=\"Helvetica,sans-Serif\" font-size=\"14.00\" fill=\"#000000\">class = Left</text>\n</g>\n<!-- 1300&#45;&gt;1732 -->\n<g id=\"edge24\" class=\"edge\">\n<title>1300&#45;&gt;1732</title>\n<path fill=\"none\" stroke=\"#000000\" d=\"M963.6043,-311.3779C986.4151,-300.2984 1011.2977,-288.2125 1034.5771,-276.9054\"/>\n<polygon fill=\"#000000\" stroke=\"#000000\" points=\"1036.2884,-279.9653 1043.7543,-272.4479 1033.23,-273.6687 1036.2884,-279.9653\"/>\n</g>\n<!-- 1302 -->\n<g id=\"node19\" class=\"node\">\n<title>1302</title>\n<path fill=\"#fbebdf\" stroke=\"#000000\" d=\"M872,-155C872,-155 732,-155 732,-155 726,-155 720,-149 720,-143 720,-143 720,-84 720,-84 720,-78 726,-72 732,-72 732,-72 872,-72 872,-72 878,-72 884,-78 884,-84 884,-84 884,-143 884,-143 884,-149 878,-155 872,-155\"/>\n<text text-anchor=\"middle\" x=\"802\" y=\"-139.8\" font-family=\"Helvetica,sans-Serif\" font-size=\"14.00\" fill=\"#000000\">NumOfProducts &lt;= 1.5</text>\n<text text-anchor=\"middle\" x=\"802\" y=\"-124.8\" font-family=\"Helvetica,sans-Serif\" font-size=\"14.00\" fill=\"#000000\">gini = 0.496</text>\n<text text-anchor=\"middle\" x=\"802\" y=\"-109.8\" font-family=\"Helvetica,sans-Serif\" font-size=\"14.00\" fill=\"#000000\">samples = 611</text>\n<text text-anchor=\"middle\" x=\"802\" y=\"-94.8\" font-family=\"Helvetica,sans-Serif\" font-size=\"14.00\" fill=\"#000000\">value = [332, 279]</text>\n<text text-anchor=\"middle\" x=\"802\" y=\"-79.8\" font-family=\"Helvetica,sans-Serif\" font-size=\"14.00\" fill=\"#000000\">class = Left</text>\n</g>\n<!-- 1301&#45;&gt;1302 -->\n<g id=\"edge18\" class=\"edge\">\n<title>1301&#45;&gt;1302</title>\n<path fill=\"none\" stroke=\"#000000\" d=\"M853.3696,-190.8796C847.57,-182.1434 841.3941,-172.8404 835.4092,-163.8253\"/>\n<polygon fill=\"#000000\" stroke=\"#000000\" points=\"838.1951,-161.6935 829.7483,-155.2981 832.3632,-165.5652 838.1951,-161.6935\"/>\n</g>\n<!-- 1615 -->\n<g id=\"node22\" class=\"node\">\n<title>1615</title>\n<path fill=\"#5eafea\" stroke=\"#000000\" d=\"M1014,-155C1014,-155 914,-155 914,-155 908,-155 902,-149 902,-143 902,-143 902,-84 902,-84 902,-78 908,-72 914,-72 914,-72 1014,-72 1014,-72 1020,-72 1026,-78 1026,-84 1026,-84 1026,-143 1026,-143 1026,-149 1020,-155 1014,-155\"/>\n<text text-anchor=\"middle\" x=\"964\" y=\"-139.8\" font-family=\"Helvetica,sans-Serif\" font-size=\"14.00\" fill=\"#000000\">Age &lt;= 73.5</text>\n<text text-anchor=\"middle\" x=\"964\" y=\"-124.8\" font-family=\"Helvetica,sans-Serif\" font-size=\"14.00\" fill=\"#000000\">gini = 0.265</text>\n<text text-anchor=\"middle\" x=\"964\" y=\"-109.8\" font-family=\"Helvetica,sans-Serif\" font-size=\"14.00\" fill=\"#000000\">samples = 311</text>\n<text text-anchor=\"middle\" x=\"964\" y=\"-94.8\" font-family=\"Helvetica,sans-Serif\" font-size=\"14.00\" fill=\"#000000\">value = [49, 262]</text>\n<text text-anchor=\"middle\" x=\"964\" y=\"-79.8\" font-family=\"Helvetica,sans-Serif\" font-size=\"14.00\" fill=\"#000000\">class = Stayed</text>\n</g>\n<!-- 1301&#45;&gt;1615 -->\n<g id=\"edge21\" class=\"edge\">\n<title>1301&#45;&gt;1615</title>\n<path fill=\"none\" stroke=\"#000000\" d=\"M910.0294,-190.8796C916.1855,-182.0534 922.7451,-172.6485 929.0936,-163.5466\"/>\n<polygon fill=\"#000000\" stroke=\"#000000\" points=\"931.9967,-165.5024 934.8467,-155.2981 926.2552,-161.4978 931.9967,-165.5024\"/>\n</g>\n<!-- 1303 -->\n<g id=\"node20\" class=\"node\">\n<title>1303</title>\n<path fill=\"#c0c0c0\" stroke=\"#000000\" d=\"M754,-36C754,-36 724,-36 724,-36 718,-36 712,-30 712,-24 712,-24 712,-12 712,-12 712,-6 718,0 724,0 724,0 754,0 754,0 760,0 766,-6 766,-12 766,-12 766,-24 766,-24 766,-30 760,-36 754,-36\"/>\n<text text-anchor=\"middle\" x=\"739\" y=\"-14.3\" font-family=\"Helvetica,sans-Serif\" font-size=\"14.00\" fill=\"#000000\">(...)</text>\n</g>\n<!-- 1302&#45;&gt;1303 -->\n<g id=\"edge19\" class=\"edge\">\n<title>1302&#45;&gt;1303</title>\n<path fill=\"none\" stroke=\"#000000\" d=\"M774.5506,-71.8901C768.4473,-62.6384 762.1378,-53.0739 756.559,-44.6173\"/>\n<polygon fill=\"#000000\" stroke=\"#000000\" points=\"759.4774,-42.6851 751.0492,-36.2651 753.6343,-46.5397 759.4774,-42.6851\"/>\n</g>\n<!-- 1532 -->\n<g id=\"node21\" class=\"node\">\n<title>1532</title>\n<path fill=\"#c0c0c0\" stroke=\"#000000\" d=\"M826,-36C826,-36 796,-36 796,-36 790,-36 784,-30 784,-24 784,-24 784,-12 784,-12 784,-6 790,0 796,0 796,0 826,0 826,0 832,0 838,-6 838,-12 838,-12 838,-24 838,-24 838,-30 832,-36 826,-36\"/>\n<text text-anchor=\"middle\" x=\"811\" y=\"-14.3\" font-family=\"Helvetica,sans-Serif\" font-size=\"14.00\" fill=\"#000000\">(...)</text>\n</g>\n<!-- 1302&#45;&gt;1532 -->\n<g id=\"edge20\" class=\"edge\">\n<title>1302&#45;&gt;1532</title>\n<path fill=\"none\" stroke=\"#000000\" d=\"M805.9213,-71.8901C806.7382,-63.2227 807.5809,-54.2808 808.3393,-46.2325\"/>\n<polygon fill=\"#000000\" stroke=\"#000000\" points=\"811.8249,-46.5494 809.2787,-36.2651 804.8558,-45.8926 811.8249,-46.5494\"/>\n</g>\n<!-- 1616 -->\n<g id=\"node23\" class=\"node\">\n<title>1616</title>\n<path fill=\"#c0c0c0\" stroke=\"#000000\" d=\"M916,-36C916,-36 886,-36 886,-36 880,-36 874,-30 874,-24 874,-24 874,-12 874,-12 874,-6 880,0 886,0 886,0 916,0 916,0 922,0 928,-6 928,-12 928,-12 928,-24 928,-24 928,-30 922,-36 916,-36\"/>\n<text text-anchor=\"middle\" x=\"901\" y=\"-14.3\" font-family=\"Helvetica,sans-Serif\" font-size=\"14.00\" fill=\"#000000\">(...)</text>\n</g>\n<!-- 1615&#45;&gt;1616 -->\n<g id=\"edge22\" class=\"edge\">\n<title>1615&#45;&gt;1616</title>\n<path fill=\"none\" stroke=\"#000000\" d=\"M936.5506,-71.8901C930.4473,-62.6384 924.1378,-53.0739 918.559,-44.6173\"/>\n<polygon fill=\"#000000\" stroke=\"#000000\" points=\"921.4774,-42.6851 913.0492,-36.2651 915.6343,-46.5397 921.4774,-42.6851\"/>\n</g>\n<!-- 1729 -->\n<g id=\"node24\" class=\"node\">\n<title>1729</title>\n<path fill=\"#c0c0c0\" stroke=\"#000000\" d=\"M988,-36C988,-36 958,-36 958,-36 952,-36 946,-30 946,-24 946,-24 946,-12 946,-12 946,-6 952,0 958,0 958,0 988,0 988,0 994,0 1000,-6 1000,-12 1000,-12 1000,-24 1000,-24 1000,-30 994,-36 988,-36\"/>\n<text text-anchor=\"middle\" x=\"973\" y=\"-14.3\" font-family=\"Helvetica,sans-Serif\" font-size=\"14.00\" fill=\"#000000\">(...)</text>\n</g>\n<!-- 1615&#45;&gt;1729 -->\n<g id=\"edge23\" class=\"edge\">\n<title>1615&#45;&gt;1729</title>\n<path fill=\"none\" stroke=\"#000000\" d=\"M967.9213,-71.8901C968.7382,-63.2227 969.5809,-54.2808 970.3393,-46.2325\"/>\n<polygon fill=\"#000000\" stroke=\"#000000\" points=\"973.8249,-46.5494 971.2787,-36.2651 966.8558,-45.8926 973.8249,-46.5494\"/>\n</g>\n<!-- 1733 -->\n<g id=\"node26\" class=\"node\">\n<title>1733</title>\n<path fill=\"#eba069\" stroke=\"#000000\" d=\"M1196,-155C1196,-155 1056,-155 1056,-155 1050,-155 1044,-149 1044,-143 1044,-143 1044,-84 1044,-84 1044,-78 1050,-72 1056,-72 1056,-72 1196,-72 1196,-72 1202,-72 1208,-78 1208,-84 1208,-84 1208,-143 1208,-143 1208,-149 1202,-155 1196,-155\"/>\n<text text-anchor=\"middle\" x=\"1126\" y=\"-139.8\" font-family=\"Helvetica,sans-Serif\" font-size=\"14.00\" fill=\"#000000\">NumOfProducts &lt;= 2.5</text>\n<text text-anchor=\"middle\" x=\"1126\" y=\"-124.8\" font-family=\"Helvetica,sans-Serif\" font-size=\"14.00\" fill=\"#000000\">gini = 0.314</text>\n<text text-anchor=\"middle\" x=\"1126\" y=\"-109.8\" font-family=\"Helvetica,sans-Serif\" font-size=\"14.00\" fill=\"#000000\">samples = 482</text>\n<text text-anchor=\"middle\" x=\"1126\" y=\"-94.8\" font-family=\"Helvetica,sans-Serif\" font-size=\"14.00\" fill=\"#000000\">value = [388, 94]</text>\n<text text-anchor=\"middle\" x=\"1126\" y=\"-79.8\" font-family=\"Helvetica,sans-Serif\" font-size=\"14.00\" fill=\"#000000\">class = Left</text>\n</g>\n<!-- 1732&#45;&gt;1733 -->\n<g id=\"edge25\" class=\"edge\">\n<title>1732&#45;&gt;1733</title>\n<path fill=\"none\" stroke=\"#000000\" d=\"M1126,-190.8796C1126,-182.6838 1126,-173.9891 1126,-165.5013\"/>\n<polygon fill=\"#000000\" stroke=\"#000000\" points=\"1129.5001,-165.298 1126,-155.2981 1122.5001,-165.2981 1129.5001,-165.298\"/>\n</g>\n<!-- 1890 -->\n<g id=\"node29\" class=\"node\">\n<title>1890</title>\n<path fill=\"#f2c09d\" stroke=\"#000000\" d=\"M1346,-155C1346,-155 1238,-155 1238,-155 1232,-155 1226,-149 1226,-143 1226,-143 1226,-84 1226,-84 1226,-78 1232,-72 1238,-72 1238,-72 1346,-72 1346,-72 1352,-72 1358,-78 1358,-84 1358,-84 1358,-143 1358,-143 1358,-149 1352,-155 1346,-155\"/>\n<text text-anchor=\"middle\" x=\"1292\" y=\"-139.8\" font-family=\"Helvetica,sans-Serif\" font-size=\"14.00\" fill=\"#000000\">Age &lt;= 57.5</text>\n<text text-anchor=\"middle\" x=\"1292\" y=\"-124.8\" font-family=\"Helvetica,sans-Serif\" font-size=\"14.00\" fill=\"#000000\">gini = 0.445</text>\n<text text-anchor=\"middle\" x=\"1292\" y=\"-109.8\" font-family=\"Helvetica,sans-Serif\" font-size=\"14.00\" fill=\"#000000\">samples = 642</text>\n<text text-anchor=\"middle\" x=\"1292\" y=\"-94.8\" font-family=\"Helvetica,sans-Serif\" font-size=\"14.00\" fill=\"#000000\">value = [427, 215]</text>\n<text text-anchor=\"middle\" x=\"1292\" y=\"-79.8\" font-family=\"Helvetica,sans-Serif\" font-size=\"14.00\" fill=\"#000000\">class = Left</text>\n</g>\n<!-- 1732&#45;&gt;1890 -->\n<g id=\"edge28\" class=\"edge\">\n<title>1732&#45;&gt;1890</title>\n<path fill=\"none\" stroke=\"#000000\" d=\"M1184.0587,-190.8796C1197.4534,-181.2774 1211.8035,-170.9903 1225.5255,-161.1534\"/>\n<polygon fill=\"#000000\" stroke=\"#000000\" points=\"1227.8858,-163.7678 1233.974,-155.0969 1223.8074,-158.0786 1227.8858,-163.7678\"/>\n</g>\n<!-- 1734 -->\n<g id=\"node27\" class=\"node\">\n<title>1734</title>\n<path fill=\"#c0c0c0\" stroke=\"#000000\" d=\"M1098,-36C1098,-36 1068,-36 1068,-36 1062,-36 1056,-30 1056,-24 1056,-24 1056,-12 1056,-12 1056,-6 1062,0 1068,0 1068,0 1098,0 1098,0 1104,0 1110,-6 1110,-12 1110,-12 1110,-24 1110,-24 1110,-30 1104,-36 1098,-36\"/>\n<text text-anchor=\"middle\" x=\"1083\" y=\"-14.3\" font-family=\"Helvetica,sans-Serif\" font-size=\"14.00\" fill=\"#000000\">(...)</text>\n</g>\n<!-- 1733&#45;&gt;1734 -->\n<g id=\"edge26\" class=\"edge\">\n<title>1733&#45;&gt;1734</title>\n<path fill=\"none\" stroke=\"#000000\" d=\"M1107.2647,-71.8901C1103.2305,-62.9305 1099.0643,-53.6777 1095.3469,-45.4217\"/>\n<polygon fill=\"#000000\" stroke=\"#000000\" points=\"1098.5212,-43.9464 1091.2241,-36.2651 1092.1384,-46.8204 1098.5212,-43.9464\"/>\n</g>\n<!-- 1887 -->\n<g id=\"node28\" class=\"node\">\n<title>1887</title>\n<path fill=\"#c0c0c0\" stroke=\"#000000\" d=\"M1170,-36C1170,-36 1140,-36 1140,-36 1134,-36 1128,-30 1128,-24 1128,-24 1128,-12 1128,-12 1128,-6 1134,0 1140,0 1140,0 1170,0 1170,0 1176,0 1182,-6 1182,-12 1182,-12 1182,-24 1182,-24 1182,-30 1176,-36 1170,-36\"/>\n<text text-anchor=\"middle\" x=\"1155\" y=\"-14.3\" font-family=\"Helvetica,sans-Serif\" font-size=\"14.00\" fill=\"#000000\">(...)</text>\n</g>\n<!-- 1733&#45;&gt;1887 -->\n<g id=\"edge27\" class=\"edge\">\n<title>1733&#45;&gt;1887</title>\n<path fill=\"none\" stroke=\"#000000\" d=\"M1138.6355,-71.8901C1141.297,-63.1253 1144.0438,-54.0798 1146.5091,-45.9615\"/>\n<polygon fill=\"#000000\" stroke=\"#000000\" points=\"1149.8968,-46.8507 1149.4535,-36.2651 1143.1988,-44.8167 1149.8968,-46.8507\"/>\n</g>\n<!-- 1891 -->\n<g id=\"node30\" class=\"node\">\n<title>1891</title>\n<path fill=\"#c0c0c0\" stroke=\"#000000\" d=\"M1271,-36C1271,-36 1241,-36 1241,-36 1235,-36 1229,-30 1229,-24 1229,-24 1229,-12 1229,-12 1229,-6 1235,0 1241,0 1241,0 1271,0 1271,0 1277,0 1283,-6 1283,-12 1283,-12 1283,-24 1283,-24 1283,-30 1277,-36 1271,-36\"/>\n<text text-anchor=\"middle\" x=\"1256\" y=\"-14.3\" font-family=\"Helvetica,sans-Serif\" font-size=\"14.00\" fill=\"#000000\">(...)</text>\n</g>\n<!-- 1890&#45;&gt;1891 -->\n<g id=\"edge29\" class=\"edge\">\n<title>1890&#45;&gt;1891</title>\n<path fill=\"none\" stroke=\"#000000\" d=\"M1276.3146,-71.8901C1272.9739,-63.0279 1269.525,-53.8788 1266.4386,-45.6913\"/>\n<polygon fill=\"#000000\" stroke=\"#000000\" points=\"1269.6877,-44.3878 1262.8853,-36.2651 1263.1376,-46.8569 1269.6877,-44.3878\"/>\n</g>\n<!-- 2128 -->\n<g id=\"node31\" class=\"node\">\n<title>2128</title>\n<path fill=\"#c0c0c0\" stroke=\"#000000\" d=\"M1343,-36C1343,-36 1313,-36 1313,-36 1307,-36 1301,-30 1301,-24 1301,-24 1301,-12 1301,-12 1301,-6 1307,0 1313,0 1313,0 1343,0 1343,0 1349,0 1355,-6 1355,-12 1355,-12 1355,-24 1355,-24 1355,-30 1349,-36 1343,-36\"/>\n<text text-anchor=\"middle\" x=\"1328\" y=\"-14.3\" font-family=\"Helvetica,sans-Serif\" font-size=\"14.00\" fill=\"#000000\">(...)</text>\n</g>\n<!-- 1890&#45;&gt;2128 -->\n<g id=\"edge30\" class=\"edge\">\n<title>1890&#45;&gt;2128</title>\n<path fill=\"none\" stroke=\"#000000\" d=\"M1307.6854,-71.8901C1311.0261,-63.0279 1314.475,-53.8788 1317.5614,-45.6913\"/>\n<polygon fill=\"#000000\" stroke=\"#000000\" points=\"1320.8624,-46.8569 1321.1147,-36.2651 1314.3123,-44.3878 1320.8624,-46.8569\"/>\n</g>\n</g>\n</svg>\n"
          },
          "metadata": {},
          "execution_count": 19
        }
      ]
    },
    {
      "cell_type": "markdown",
      "source": [
        "## Pruning the Decision Tree"
      ],
      "metadata": {
        "id": "BJhwzubAuVe-"
      }
    },
    {
      "cell_type": "code",
      "source": [
        "path = dtclf_model1.cost_complexity_pruning_path(X_train, y_train)\n",
        "ccp_alphas, impurities = path.ccp_alphas, path.impurities\n",
        "fig, ax = plt.subplots(figsize=(16,8));\n",
        "ax.plot(ccp_alphas[:-1], impurities[:-1], marker='o', drawstyle=\"steps-post\");\n",
        "ax.set_xlabel(\"effective alpha\");\n",
        "ax.set_ylabel(\"total impurity of leaves\");\n",
        "ax.set_title(\"Total Impurity vs effective alpha for training set\");"
      ],
      "metadata": {
        "id": "rYNbJa2weuyD",
        "colab": {
          "base_uri": "https://localhost:8080/",
          "height": 512
        },
        "outputId": "b8bc3126-7efc-4982-abc7-417c5821c5c5"
      },
      "execution_count": 20,
      "outputs": [
        {
          "output_type": "display_data",
          "data": {
            "image/png": "[encoded data removed]",
            "text/plain": [
              "<Figure size 1152x576 with 1 Axes>"
            ]
          },
          "metadata": {
            "needs_background": "light"
          }
        }
      ]
    },
    {
      "cell_type": "code",
      "source": [
        "clfs = []\n",
        "for ccp_alpha in ccp_alphas:\n",
        "    clf = DecisionTreeClassifier(random_state=42, ccp_alpha=ccp_alpha)\n",
        "    clf.fit(X_train, y_train)\n",
        "    clfs.append(clf)\n",
        "print(\n",
        "    \"Number of nodes in the last tree is: {} with ccp_alpha: {}\".format(\n",
        "        clfs[-1].tree_.node_count, ccp_alphas[-1]\n",
        "    )\n",
        ")"
      ],
      "metadata": {
        "id": "vuegcwzke8hR",
        "colab": {
          "base_uri": "https://localhost:8080/"
        },
        "outputId": "775f5248-b5c2-4415-d07c-ca3af49d7a39"
      },
      "execution_count": 21,
      "outputs": [
        {
          "output_type": "stream",
          "name": "stdout",
          "text": [
            "Number of nodes in the last tree is: 3 with ccp_alpha: 0.037681814376401224\n"
          ]
        }
      ]
    },
    {
      "cell_type": "code",
      "source": [
        "clfs = clfs[:-1]\n",
        "ccp_alphas = ccp_alphas[:-1]\n",
        "\n",
        "node_counts = [clf.tree_.node_count for clf in clfs]\n",
        "depth = [clf.tree_.max_depth for clf in clfs]\n",
        "fig, ax = plt.subplots(2, 1)\n",
        "ax[0].plot(ccp_alphas, node_counts, marker=\"o\", drawstyle=\"steps-post\")\n",
        "ax[0].set_xlabel(\"alpha\")\n",
        "ax[0].set_ylabel(\"number of nodes\")\n",
        "ax[0].set_title(\"Number of nodes vs alpha\")\n",
        "ax[1].plot(ccp_alphas, depth, marker=\"o\", drawstyle=\"steps-post\")\n",
        "ax[1].set_xlabel(\"alpha\")\n",
        "ax[1].set_ylabel(\"depth of tree\")\n",
        "ax[1].set_title(\"Depth vs alpha\")\n",
        "fig.tight_layout()"
      ],
      "metadata": {
        "id": "YAD16vjzgTI6",
        "colab": {
          "base_uri": "https://localhost:8080/",
          "height": 297
        },
        "outputId": "ca582456-e79b-4b4a-add6-373356afd947"
      },
      "execution_count": 22,
      "outputs": [
        {
          "output_type": "display_data",
          "data": {
            "image/png": "[encoded data removed]",
            "text/plain": [
              "<Figure size 432x288 with 2 Axes>"
            ]
          },
          "metadata": {
            "needs_background": "light"
          }
        }
      ]
    },
    {
      "cell_type": "code",
      "source": [
        "train_scores = [clf.score(X_train, y_train) for clf in clfs]\n",
        "test_scores = [clf.score(X_test, y_test) for clf in clfs]\n",
        "\n",
        "fig, ax = plt.subplots()\n",
        "ax.set_xlabel(\"alpha\")\n",
        "ax.set_ylabel(\"accuracy\")\n",
        "ax.set_title(\"Accuracy vs alpha for training and testing sets\")\n",
        "ax.plot(ccp_alphas, train_scores, marker=\"o\", label=\"train\", drawstyle=\"steps-post\")\n",
        "ax.plot(ccp_alphas, test_scores, marker=\"o\", label=\"test\", drawstyle=\"steps-post\")\n",
        "ax.legend()\n",
        "plt.show()"
      ],
      "metadata": {
        "id": "FbV1pxZugYRq",
        "colab": {
          "base_uri": "https://localhost:8080/",
          "height": 295
        },
        "outputId": "31b5c646-0d8e-4069-eef3-b9905f2112e8"
      },
      "execution_count": 23,
      "outputs": [
        {
          "output_type": "display_data",
          "data": {
            "image/png": "[encoded data removed]",
            "text/plain": [
              "<Figure size 432x288 with 1 Axes>"
            ]
          },
          "metadata": {
            "needs_background": "light"
          }
        }
      ]
    },
    {
      "cell_type": "markdown",
      "source": [
        "## Re-running with alpha"
      ],
      "metadata": {
        "id": "_6lYQUtFucbl"
      }
    },
    {
      "cell_type": "code",
      "source": [
        "# Create an object using DecisionTreeClassifier, setting a few parameters such as max depth.\n",
        "dtclf_model2 = DecisionTreeClassifier(random_state=42, max_features=7, ccp_alpha=0.001)\n",
        "\n",
        "# Fit the classification model to the training set data.\n",
        "dtclf_model2.fit(X_train, y_train)"
      ],
      "metadata": {
        "id": "WkN3_0ZeuiTy",
        "colab": {
          "base_uri": "https://localhost:8080/"
        },
        "outputId": "41d9b3d9-4abe-4ce8-8b99-4f4f2dea9b07"
      },
      "execution_count": 24,
      "outputs": [
        {
          "output_type": "execute_result",
          "data": {
            "text/plain": [
              "DecisionTreeClassifier(ccp_alpha=0.001, max_features=7, random_state=42)"
            ]
          },
          "metadata": {},
          "execution_count": 24
        }
      ]
    },
    {
      "cell_type": "markdown",
      "source": [
        "### Predicting the results"
      ],
      "metadata": {
        "id": "armRfcNKuiTz"
      }
    },
    {
      "cell_type": "markdown",
      "source": [
        "Training set prediction score"
      ],
      "metadata": {
        "id": "exxSstOMuiT0"
      }
    },
    {
      "cell_type": "code",
      "source": [
        "y_pred2 = dtclf_model2.predict(X_train)\n",
        "accuracy_score(y_train, y_pred2)"
      ],
      "metadata": {
        "id": "48yDBz9euiT0",
        "colab": {
          "base_uri": "https://localhost:8080/"
        },
        "outputId": "107c72ee-72d4-4bfe-c9ba-917dc1e60f18"
      },
      "execution_count": 25,
      "outputs": [
        {
          "output_type": "execute_result",
          "data": {
            "text/plain": [
              "0.8557142857142858"
            ]
          },
          "metadata": {},
          "execution_count": 25
        }
      ]
    },
    {
      "cell_type": "markdown",
      "source": [
        "Test set prediction score"
      ],
      "metadata": {
        "id": "3Epn3311uiT0"
      }
    },
    {
      "cell_type": "code",
      "source": [
        "y_pred2 = dtclf_model2.predict(X_test)\n",
        "accuracy_score(y_test, y_pred2)"
      ],
      "metadata": {
        "id": "xAKozYR8uiT0",
        "colab": {
          "base_uri": "https://localhost:8080/"
        },
        "outputId": "b6e860af-1ee1-46f7-a7b9-35991c51be62"
      },
      "execution_count": 26,
      "outputs": [
        {
          "output_type": "execute_result",
          "data": {
            "text/plain": [
              "0.8533333333333334"
            ]
          },
          "metadata": {},
          "execution_count": 26
        }
      ]
    },
    {
      "cell_type": "code",
      "source": [
        "ConfusionMatrixDisplay.from_predictions(y_test, y_pred2, cmap='RdPu_r')\n",
        "plt.grid(False)"
      ],
      "metadata": {
        "id": "_0yUM6TbuiT0",
        "colab": {
          "base_uri": "https://localhost:8080/",
          "height": 278
        },
        "outputId": "408f3f95-c8e8-413d-9968-2b3b5a43aea5"
      },
      "execution_count": 27,
      "outputs": [
        {
          "output_type": "display_data",
          "data": {
            "image/png": "[encoded data removed]",
            "text/plain": [
              "<Figure size 432x288 with 2 Axes>"
            ]
          },
          "metadata": {
            "needs_background": "light"
          }
        }
      ]
    },
    {
      "cell_type": "code",
      "source": [
        "print(classification_report(y_test, y_pred2))"
      ],
      "metadata": {
        "id": "41k1wD7-uiT0",
        "colab": {
          "base_uri": "https://localhost:8080/"
        },
        "outputId": "f47715b9-3e1a-472e-9a86-1851b2ee6f01"
      },
      "execution_count": 28,
      "outputs": [
        {
          "output_type": "stream",
          "name": "stdout",
          "text": [
            "              precision    recall  f1-score   support\n",
            "\n",
            "           0       0.86      0.97      0.91      2376\n",
            "           1       0.77      0.42      0.55       624\n",
            "\n",
            "    accuracy                           0.85      3000\n",
            "   macro avg       0.82      0.69      0.73      3000\n",
            "weighted avg       0.84      0.85      0.84      3000\n",
            "\n"
          ]
        }
      ]
    },
    {
      "cell_type": "markdown",
      "source": [
        "With classification_report we calculate precision and recall with actual and predicted values.\n",
        "\n",
        "For class 1 (churned users) model achieves 0.77 precision and 0.42 recall. Precision has increased from the first model but recall decreased.\n",
        "\n",
        "Class imbalance remains an issue!"
      ],
      "metadata": {
        "id": "7npvFagsuiT1"
      }
    },
    {
      "cell_type": "markdown",
      "source": [
        "# Plotting the Decision Tree"
      ],
      "metadata": {
        "id": "DzgwtQOLuiT1"
      }
    },
    {
      "cell_type": "code",
      "source": [
        "target = list(df['Exited'].unique())\n",
        "feature_names = list(X.columns.values)"
      ],
      "metadata": {
        "id": "x4Ryd7CzuiT1"
      },
      "execution_count": 29,
      "outputs": []
    },
    {
      "cell_type": "code",
      "source": [
        "# Graphviz Example:\n",
        "\n",
        "dot_data = tree.export_graphviz(dtclf_model2, feature_names=feature_names, class_names=['Left', 'Stayed'], max_depth=3,\n",
        "                                filled=True, rounded=True) \n",
        "graph = graphviz.Source(dot_data)  \n",
        "\n",
        "graph\n",
        "# This can be saved as a file:\n",
        "# graph.save('decision_tree_chart.jpg')"
      ],
      "metadata": {
        "id": "SeWbFK48uiT1",
        "colab": {
          "base_uri": "https://localhost:8080/",
          "height": 715
        },
        "outputId": "bdd8dba6-d124-429c-f264-d4f0f142e6fb"
      },
      "execution_count": 30,
      "outputs": [
        {
          "output_type": "execute_result",
          "data": {
            "text/plain": [
              "<graphviz.files.Source at 0x7fcb96378110>"
            ],
            "image/svg+xml": "<?xml version=\"1.0\" encoding=\"UTF-8\" standalone=\"no\"?>\n<!DOCTYPE svg PUBLIC \"-//W3C//DTD SVG 1.1//EN\"\n \"http://www.w3.org/Graphics/SVG/1.1/DTD/svg11.dtd\">\n<!-- Generated by graphviz version 2.40.1 (20161225.0304)\n -->\n<!-- Title: Tree Pages: 1 -->\n<svg width=\"1314pt\" height=\"520pt\"\n viewBox=\"0.00 0.00 1314.00 520.00\" xmlns=\"http://www.w3.org/2000/svg\" xmlns:xlink=\"http://www.w3.org/1999/xlink\">\n<g id=\"graph0\" class=\"graph\" transform=\"scale(1 1) rotate(0) translate(4 516)\">\n<title>Tree</title>\n<polygon fill=\"#ffffff\" stroke=\"transparent\" points=\"-4,4 -4,-516 1310,-516 1310,4 -4,4\"/>\n<!-- 0 -->\n<g id=\"node1\" class=\"node\">\n<title>0</title>\n<path fill=\"#eca16b\" stroke=\"#000000\" d=\"M720.5,-512C720.5,-512 595.5,-512 595.5,-512 589.5,-512 583.5,-506 583.5,-500 583.5,-500 583.5,-441 583.5,-441 583.5,-435 589.5,-429 595.5,-429 595.5,-429 720.5,-429 720.5,-429 726.5,-429 732.5,-435 732.5,-441 732.5,-441 732.5,-500 732.5,-500 732.5,-506 726.5,-512 720.5,-512\"/>\n<text text-anchor=\"middle\" x=\"658\" y=\"-496.8\" font-family=\"Helvetica,sans-Serif\" font-size=\"14.00\" fill=\"#000000\">Age &lt;= 42.5</text>\n<text text-anchor=\"middle\" x=\"658\" y=\"-481.8\" font-family=\"Helvetica,sans-Serif\" font-size=\"14.00\" fill=\"#000000\">gini = 0.322</text>\n<text text-anchor=\"middle\" x=\"658\" y=\"-466.8\" font-family=\"Helvetica,sans-Serif\" font-size=\"14.00\" fill=\"#000000\">samples = 7000</text>\n<text text-anchor=\"middle\" x=\"658\" y=\"-451.8\" font-family=\"Helvetica,sans-Serif\" font-size=\"14.00\" fill=\"#000000\">value = [5587, 1413]</text>\n<text text-anchor=\"middle\" x=\"658\" y=\"-436.8\" font-family=\"Helvetica,sans-Serif\" font-size=\"14.00\" fill=\"#000000\">class = Left</text>\n</g>\n<!-- 1 -->\n<g id=\"node2\" class=\"node\">\n<title>1</title>\n<path fill=\"#e89152\" stroke=\"#000000\" d=\"M574,-393C574,-393 434,-393 434,-393 428,-393 422,-387 422,-381 422,-381 422,-322 422,-322 422,-316 428,-310 434,-310 434,-310 574,-310 574,-310 580,-310 586,-316 586,-322 586,-322 586,-381 586,-381 586,-387 580,-393 574,-393\"/>\n<text text-anchor=\"middle\" x=\"504\" y=\"-377.8\" font-family=\"Helvetica,sans-Serif\" font-size=\"14.00\" fill=\"#000000\">NumOfProducts &lt;= 2.5</text>\n<text text-anchor=\"middle\" x=\"504\" y=\"-362.8\" font-family=\"Helvetica,sans-Serif\" font-size=\"14.00\" fill=\"#000000\">gini = 0.201</text>\n<text text-anchor=\"middle\" x=\"504\" y=\"-347.8\" font-family=\"Helvetica,sans-Serif\" font-size=\"14.00\" fill=\"#000000\">samples = 4954</text>\n<text text-anchor=\"middle\" x=\"504\" y=\"-332.8\" font-family=\"Helvetica,sans-Serif\" font-size=\"14.00\" fill=\"#000000\">value = [4391, 563]</text>\n<text text-anchor=\"middle\" x=\"504\" y=\"-317.8\" font-family=\"Helvetica,sans-Serif\" font-size=\"14.00\" fill=\"#000000\">class = Left</text>\n</g>\n<!-- 0&#45;&gt;1 -->\n<g id=\"edge1\" class=\"edge\">\n<title>0&#45;&gt;1</title>\n<path fill=\"none\" stroke=\"#000000\" d=\"M604.1383,-428.8796C591.8291,-419.368 578.6503,-409.1843 566.0296,-399.432\"/>\n<polygon fill=\"#000000\" stroke=\"#000000\" points=\"567.8843,-396.4419 557.8313,-393.0969 563.6041,-401.9809 567.8843,-396.4419\"/>\n<text text-anchor=\"middle\" x=\"561.0104\" y=\"-414.194\" font-family=\"Helvetica,sans-Serif\" font-size=\"14.00\" fill=\"#000000\">True</text>\n</g>\n<!-- 24 -->\n<g id=\"node15\" class=\"node\">\n<title>24</title>\n<path fill=\"#f7dbc6\" stroke=\"#000000\" d=\"M899.5,-393C899.5,-393 758.5,-393 758.5,-393 752.5,-393 746.5,-387 746.5,-381 746.5,-381 746.5,-322 746.5,-322 746.5,-316 752.5,-310 758.5,-310 758.5,-310 899.5,-310 899.5,-310 905.5,-310 911.5,-316 911.5,-322 911.5,-322 911.5,-381 911.5,-381 911.5,-387 905.5,-393 899.5,-393\"/>\n<text text-anchor=\"middle\" x=\"829\" y=\"-377.8\" font-family=\"Helvetica,sans-Serif\" font-size=\"14.00\" fill=\"#000000\">IsActiveMember &lt;= 0.5</text>\n<text text-anchor=\"middle\" x=\"829\" y=\"-362.8\" font-family=\"Helvetica,sans-Serif\" font-size=\"14.00\" fill=\"#000000\">gini = 0.486</text>\n<text text-anchor=\"middle\" x=\"829\" y=\"-347.8\" font-family=\"Helvetica,sans-Serif\" font-size=\"14.00\" fill=\"#000000\">samples = 2046</text>\n<text text-anchor=\"middle\" x=\"829\" y=\"-332.8\" font-family=\"Helvetica,sans-Serif\" font-size=\"14.00\" fill=\"#000000\">value = [1196, 850]</text>\n<text text-anchor=\"middle\" x=\"829\" y=\"-317.8\" font-family=\"Helvetica,sans-Serif\" font-size=\"14.00\" fill=\"#000000\">class = Left</text>\n</g>\n<!-- 0&#45;&gt;24 -->\n<g id=\"edge14\" class=\"edge\">\n<title>0&#45;&gt;24</title>\n<path fill=\"none\" stroke=\"#000000\" d=\"M717.8075,-428.8796C731.7358,-419.1868 746.6669,-408.7961 760.9231,-398.8752\"/>\n<polygon fill=\"#000000\" stroke=\"#000000\" points=\"763.0174,-401.6819 769.2263,-393.0969 759.0189,-395.9362 763.0174,-401.6819\"/>\n<text text-anchor=\"middle\" x=\"764.8139\" y=\"-414.0045\" font-family=\"Helvetica,sans-Serif\" font-size=\"14.00\" fill=\"#000000\">False</text>\n</g>\n<!-- 2 -->\n<g id=\"node3\" class=\"node\">\n<title>2</title>\n<path fill=\"#e88f4f\" stroke=\"#000000\" d=\"M322,-274C322,-274 206,-274 206,-274 200,-274 194,-268 194,-262 194,-262 194,-203 194,-203 194,-197 200,-191 206,-191 206,-191 322,-191 322,-191 328,-191 334,-197 334,-203 334,-203 334,-262 334,-262 334,-268 328,-274 322,-274\"/>\n<text text-anchor=\"middle\" x=\"264\" y=\"-258.8\" font-family=\"Helvetica,sans-Serif\" font-size=\"14.00\" fill=\"#000000\">Age &lt;= 39.5</text>\n<text text-anchor=\"middle\" x=\"264\" y=\"-243.8\" font-family=\"Helvetica,sans-Serif\" font-size=\"14.00\" fill=\"#000000\">gini = 0.18</text>\n<text text-anchor=\"middle\" x=\"264\" y=\"-228.8\" font-family=\"Helvetica,sans-Serif\" font-size=\"14.00\" fill=\"#000000\">samples = 4845</text>\n<text text-anchor=\"middle\" x=\"264\" y=\"-213.8\" font-family=\"Helvetica,sans-Serif\" font-size=\"14.00\" fill=\"#000000\">value = [4362, 483]</text>\n<text text-anchor=\"middle\" x=\"264\" y=\"-198.8\" font-family=\"Helvetica,sans-Serif\" font-size=\"14.00\" fill=\"#000000\">class = Left</text>\n</g>\n<!-- 1&#45;&gt;2 -->\n<g id=\"edge2\" class=\"edge\">\n<title>1&#45;&gt;2</title>\n<path fill=\"none\" stroke=\"#000000\" d=\"M421.7414,-310.7134C396.3624,-298.1297 368.476,-284.3027 343.3006,-271.8199\"/>\n<polygon fill=\"#000000\" stroke=\"#000000\" points=\"344.6717,-268.5931 334.1577,-267.2865 341.5621,-274.8646 344.6717,-268.5931\"/>\n</g>\n<!-- 19 -->\n<g id=\"node10\" class=\"node\">\n<title>19</title>\n<path fill=\"#81c1ee\" stroke=\"#000000\" d=\"M550,-274C550,-274 458,-274 458,-274 452,-274 446,-268 446,-262 446,-262 446,-203 446,-203 446,-197 452,-191 458,-191 458,-191 550,-191 550,-191 556,-191 562,-197 562,-203 562,-203 562,-262 562,-262 562,-268 556,-274 550,-274\"/>\n<text text-anchor=\"middle\" x=\"504\" y=\"-258.8\" font-family=\"Helvetica,sans-Serif\" font-size=\"14.00\" fill=\"#000000\">Age &lt;= 37.5</text>\n<text text-anchor=\"middle\" x=\"504\" y=\"-243.8\" font-family=\"Helvetica,sans-Serif\" font-size=\"14.00\" fill=\"#000000\">gini = 0.391</text>\n<text text-anchor=\"middle\" x=\"504\" y=\"-228.8\" font-family=\"Helvetica,sans-Serif\" font-size=\"14.00\" fill=\"#000000\">samples = 109</text>\n<text text-anchor=\"middle\" x=\"504\" y=\"-213.8\" font-family=\"Helvetica,sans-Serif\" font-size=\"14.00\" fill=\"#000000\">value = [29, 80]</text>\n<text text-anchor=\"middle\" x=\"504\" y=\"-198.8\" font-family=\"Helvetica,sans-Serif\" font-size=\"14.00\" fill=\"#000000\">class = Stayed</text>\n</g>\n<!-- 1&#45;&gt;19 -->\n<g id=\"edge9\" class=\"edge\">\n<title>1&#45;&gt;19</title>\n<path fill=\"none\" stroke=\"#000000\" d=\"M504,-309.8796C504,-301.6838 504,-292.9891 504,-284.5013\"/>\n<polygon fill=\"#000000\" stroke=\"#000000\" points=\"507.5001,-284.298 504,-274.2981 500.5001,-284.2981 507.5001,-284.298\"/>\n</g>\n<!-- 3 -->\n<g id=\"node4\" class=\"node\">\n<title>3</title>\n<path fill=\"#e78d4c\" stroke=\"#000000\" d=\"M152,-155C152,-155 12,-155 12,-155 6,-155 0,-149 0,-143 0,-143 0,-84 0,-84 0,-78 6,-72 12,-72 12,-72 152,-72 152,-72 158,-72 164,-78 164,-84 164,-84 164,-143 164,-143 164,-149 158,-155 152,-155\"/>\n<text text-anchor=\"middle\" x=\"82\" y=\"-139.8\" font-family=\"Helvetica,sans-Serif\" font-size=\"14.00\" fill=\"#000000\">NumOfProducts &lt;= 1.5</text>\n<text text-anchor=\"middle\" x=\"82\" y=\"-124.8\" font-family=\"Helvetica,sans-Serif\" font-size=\"14.00\" fill=\"#000000\">gini = 0.159</text>\n<text text-anchor=\"middle\" x=\"82\" y=\"-109.8\" font-family=\"Helvetica,sans-Serif\" font-size=\"14.00\" fill=\"#000000\">samples = 4101</text>\n<text text-anchor=\"middle\" x=\"82\" y=\"-94.8\" font-family=\"Helvetica,sans-Serif\" font-size=\"14.00\" fill=\"#000000\">value = [3744, 357]</text>\n<text text-anchor=\"middle\" x=\"82\" y=\"-79.8\" font-family=\"Helvetica,sans-Serif\" font-size=\"14.00\" fill=\"#000000\">class = Left</text>\n</g>\n<!-- 2&#45;&gt;3 -->\n<g id=\"edge3\" class=\"edge\">\n<title>2&#45;&gt;3</title>\n<path fill=\"none\" stroke=\"#000000\" d=\"M200.3452,-190.8796C185.3824,-181.0962 169.3323,-170.6019 154.0309,-160.5971\"/>\n<polygon fill=\"#000000\" stroke=\"#000000\" points=\"155.9039,-157.6401 145.6188,-155.0969 152.0731,-163.4989 155.9039,-157.6401\"/>\n</g>\n<!-- 16 -->\n<g id=\"node7\" class=\"node\">\n<title>16</title>\n<path fill=\"#ea9b61\" stroke=\"#000000\" d=\"M334,-155C334,-155 194,-155 194,-155 188,-155 182,-149 182,-143 182,-143 182,-84 182,-84 182,-78 188,-72 194,-72 194,-72 334,-72 334,-72 340,-72 346,-78 346,-84 346,-84 346,-143 346,-143 346,-149 340,-155 334,-155\"/>\n<text text-anchor=\"middle\" x=\"264\" y=\"-139.8\" font-family=\"Helvetica,sans-Serif\" font-size=\"14.00\" fill=\"#000000\">NumOfProducts &lt;= 1.5</text>\n<text text-anchor=\"middle\" x=\"264\" y=\"-124.8\" font-family=\"Helvetica,sans-Serif\" font-size=\"14.00\" fill=\"#000000\">gini = 0.281</text>\n<text text-anchor=\"middle\" x=\"264\" y=\"-109.8\" font-family=\"Helvetica,sans-Serif\" font-size=\"14.00\" fill=\"#000000\">samples = 744</text>\n<text text-anchor=\"middle\" x=\"264\" y=\"-94.8\" font-family=\"Helvetica,sans-Serif\" font-size=\"14.00\" fill=\"#000000\">value = [618, 126]</text>\n<text text-anchor=\"middle\" x=\"264\" y=\"-79.8\" font-family=\"Helvetica,sans-Serif\" font-size=\"14.00\" fill=\"#000000\">class = Left</text>\n</g>\n<!-- 2&#45;&gt;16 -->\n<g id=\"edge6\" class=\"edge\">\n<title>2&#45;&gt;16</title>\n<path fill=\"none\" stroke=\"#000000\" d=\"M264,-190.8796C264,-182.6838 264,-173.9891 264,-165.5013\"/>\n<polygon fill=\"#000000\" stroke=\"#000000\" points=\"267.5001,-165.298 264,-155.2981 260.5001,-165.2981 267.5001,-165.298\"/>\n</g>\n<!-- 4 -->\n<g id=\"node5\" class=\"node\">\n<title>4</title>\n<path fill=\"#c0c0c0\" stroke=\"#000000\" d=\"M61,-36C61,-36 31,-36 31,-36 25,-36 19,-30 19,-24 19,-24 19,-12 19,-12 19,-6 25,0 31,0 31,0 61,0 61,0 67,0 73,-6 73,-12 73,-12 73,-24 73,-24 73,-30 67,-36 61,-36\"/>\n<text text-anchor=\"middle\" x=\"46\" y=\"-14.3\" font-family=\"Helvetica,sans-Serif\" font-size=\"14.00\" fill=\"#000000\">(...)</text>\n</g>\n<!-- 3&#45;&gt;4 -->\n<g id=\"edge4\" class=\"edge\">\n<title>3&#45;&gt;4</title>\n<path fill=\"none\" stroke=\"#000000\" d=\"M66.3146,-71.8901C62.9739,-63.0279 59.525,-53.8788 56.4386,-45.6913\"/>\n<polygon fill=\"#000000\" stroke=\"#000000\" points=\"59.6877,-44.3878 52.8853,-36.2651 53.1376,-46.8569 59.6877,-44.3878\"/>\n</g>\n<!-- 15 -->\n<g id=\"node6\" class=\"node\">\n<title>15</title>\n<path fill=\"#c0c0c0\" stroke=\"#000000\" d=\"M133,-36C133,-36 103,-36 103,-36 97,-36 91,-30 91,-24 91,-24 91,-12 91,-12 91,-6 97,0 103,0 103,0 133,0 133,0 139,0 145,-6 145,-12 145,-12 145,-24 145,-24 145,-30 139,-36 133,-36\"/>\n<text text-anchor=\"middle\" x=\"118\" y=\"-14.3\" font-family=\"Helvetica,sans-Serif\" font-size=\"14.00\" fill=\"#000000\">(...)</text>\n</g>\n<!-- 3&#45;&gt;15 -->\n<g id=\"edge5\" class=\"edge\">\n<title>3&#45;&gt;15</title>\n<path fill=\"none\" stroke=\"#000000\" d=\"M97.6854,-71.8901C101.0261,-63.0279 104.475,-53.8788 107.5614,-45.6913\"/>\n<polygon fill=\"#000000\" stroke=\"#000000\" points=\"110.8624,-46.8569 111.1147,-36.2651 104.3123,-44.3878 110.8624,-46.8569\"/>\n</g>\n<!-- 17 -->\n<g id=\"node8\" class=\"node\">\n<title>17</title>\n<path fill=\"#c0c0c0\" stroke=\"#000000\" d=\"M243,-36C243,-36 213,-36 213,-36 207,-36 201,-30 201,-24 201,-24 201,-12 201,-12 201,-6 207,0 213,0 213,0 243,0 243,0 249,0 255,-6 255,-12 255,-12 255,-24 255,-24 255,-30 249,-36 243,-36\"/>\n<text text-anchor=\"middle\" x=\"228\" y=\"-14.3\" font-family=\"Helvetica,sans-Serif\" font-size=\"14.00\" fill=\"#000000\">(...)</text>\n</g>\n<!-- 16&#45;&gt;17 -->\n<g id=\"edge7\" class=\"edge\">\n<title>16&#45;&gt;17</title>\n<path fill=\"none\" stroke=\"#000000\" d=\"M248.3146,-71.8901C244.9739,-63.0279 241.525,-53.8788 238.4386,-45.6913\"/>\n<polygon fill=\"#000000\" stroke=\"#000000\" points=\"241.6877,-44.3878 234.8853,-36.2651 235.1376,-46.8569 241.6877,-44.3878\"/>\n</g>\n<!-- 18 -->\n<g id=\"node9\" class=\"node\">\n<title>18</title>\n<path fill=\"#c0c0c0\" stroke=\"#000000\" d=\"M315,-36C315,-36 285,-36 285,-36 279,-36 273,-30 273,-24 273,-24 273,-12 273,-12 273,-6 279,0 285,0 285,0 315,0 315,0 321,0 327,-6 327,-12 327,-12 327,-24 327,-24 327,-30 321,-36 315,-36\"/>\n<text text-anchor=\"middle\" x=\"300\" y=\"-14.3\" font-family=\"Helvetica,sans-Serif\" font-size=\"14.00\" fill=\"#000000\">(...)</text>\n</g>\n<!-- 16&#45;&gt;18 -->\n<g id=\"edge8\" class=\"edge\">\n<title>16&#45;&gt;18</title>\n<path fill=\"none\" stroke=\"#000000\" d=\"M279.6854,-71.8901C283.0261,-63.0279 286.475,-53.8788 289.5614,-45.6913\"/>\n<polygon fill=\"#000000\" stroke=\"#000000\" points=\"292.8624,-46.8569 293.1147,-36.2651 286.3123,-44.3878 292.8624,-46.8569\"/>\n</g>\n<!-- 20 -->\n<g id=\"node11\" class=\"node\">\n<title>20</title>\n<path fill=\"#b5daf5\" stroke=\"#000000\" d=\"M507.5,-155C507.5,-155 376.5,-155 376.5,-155 370.5,-155 364.5,-149 364.5,-143 364.5,-143 364.5,-84 364.5,-84 364.5,-78 370.5,-72 376.5,-72 376.5,-72 507.5,-72 507.5,-72 513.5,-72 519.5,-78 519.5,-84 519.5,-84 519.5,-143 519.5,-143 519.5,-149 513.5,-155 507.5,-155\"/>\n<text text-anchor=\"middle\" x=\"442\" y=\"-139.8\" font-family=\"Helvetica,sans-Serif\" font-size=\"14.00\" fill=\"#000000\">Balance &lt;= 37311.75</text>\n<text text-anchor=\"middle\" x=\"442\" y=\"-124.8\" font-family=\"Helvetica,sans-Serif\" font-size=\"14.00\" fill=\"#000000\">gini = 0.473</text>\n<text text-anchor=\"middle\" x=\"442\" y=\"-109.8\" font-family=\"Helvetica,sans-Serif\" font-size=\"14.00\" fill=\"#000000\">samples = 65</text>\n<text text-anchor=\"middle\" x=\"442\" y=\"-94.8\" font-family=\"Helvetica,sans-Serif\" font-size=\"14.00\" fill=\"#000000\">value = [25, 40]</text>\n<text text-anchor=\"middle\" x=\"442\" y=\"-79.8\" font-family=\"Helvetica,sans-Serif\" font-size=\"14.00\" fill=\"#000000\">class = Stayed</text>\n</g>\n<!-- 19&#45;&gt;20 -->\n<g id=\"edge10\" class=\"edge\">\n<title>19&#45;&gt;20</title>\n<path fill=\"none\" stroke=\"#000000\" d=\"M482.3154,-190.8796C477.8577,-182.3236 473.1166,-173.2238 468.5106,-164.3833\"/>\n<polygon fill=\"#000000\" stroke=\"#000000\" points=\"471.5017,-162.5494 463.7771,-155.2981 465.2938,-165.7838 471.5017,-162.5494\"/>\n</g>\n<!-- 23 -->\n<g id=\"node14\" class=\"node\">\n<title>23</title>\n<path fill=\"#4da7e8\" stroke=\"#000000\" d=\"M638,-147.5C638,-147.5 550,-147.5 550,-147.5 544,-147.5 538,-141.5 538,-135.5 538,-135.5 538,-91.5 538,-91.5 538,-85.5 544,-79.5 550,-79.5 550,-79.5 638,-79.5 638,-79.5 644,-79.5 650,-85.5 650,-91.5 650,-91.5 650,-135.5 650,-135.5 650,-141.5 644,-147.5 638,-147.5\"/>\n<text text-anchor=\"middle\" x=\"594\" y=\"-132.3\" font-family=\"Helvetica,sans-Serif\" font-size=\"14.00\" fill=\"#000000\">gini = 0.165</text>\n<text text-anchor=\"middle\" x=\"594\" y=\"-117.3\" font-family=\"Helvetica,sans-Serif\" font-size=\"14.00\" fill=\"#000000\">samples = 44</text>\n<text text-anchor=\"middle\" x=\"594\" y=\"-102.3\" font-family=\"Helvetica,sans-Serif\" font-size=\"14.00\" fill=\"#000000\">value = [4, 40]</text>\n<text text-anchor=\"middle\" x=\"594\" y=\"-87.3\" font-family=\"Helvetica,sans-Serif\" font-size=\"14.00\" fill=\"#000000\">class = Stayed</text>\n</g>\n<!-- 19&#45;&gt;23 -->\n<g id=\"edge13\" class=\"edge\">\n<title>19&#45;&gt;23</title>\n<path fill=\"none\" stroke=\"#000000\" d=\"M535.4776,-190.8796C544.0435,-179.5536 553.33,-167.2748 561.9283,-155.9058\"/>\n<polygon fill=\"#000000\" stroke=\"#000000\" points=\"564.8069,-157.902 568.0475,-147.8149 559.2238,-153.6795 564.8069,-157.902\"/>\n</g>\n<!-- 21 -->\n<g id=\"node12\" class=\"node\">\n<title>21</title>\n<path fill=\"#c0c0c0\" stroke=\"#000000\" d=\"M422,-36C422,-36 392,-36 392,-36 386,-36 380,-30 380,-24 380,-24 380,-12 380,-12 380,-6 386,0 392,0 392,0 422,0 422,0 428,0 434,-6 434,-12 434,-12 434,-24 434,-24 434,-30 428,-36 422,-36\"/>\n<text text-anchor=\"middle\" x=\"407\" y=\"-14.3\" font-family=\"Helvetica,sans-Serif\" font-size=\"14.00\" fill=\"#000000\">(...)</text>\n</g>\n<!-- 20&#45;&gt;21 -->\n<g id=\"edge11\" class=\"edge\">\n<title>20&#45;&gt;21</title>\n<path fill=\"none\" stroke=\"#000000\" d=\"M426.7503,-71.8901C423.5024,-63.0279 420.1493,-53.8788 417.1486,-45.6913\"/>\n<polygon fill=\"#000000\" stroke=\"#000000\" points=\"420.4214,-44.45 413.694,-36.2651 413.8489,-46.8588 420.4214,-44.45\"/>\n</g>\n<!-- 22 -->\n<g id=\"node13\" class=\"node\">\n<title>22</title>\n<path fill=\"#c0c0c0\" stroke=\"#000000\" d=\"M494,-36C494,-36 464,-36 464,-36 458,-36 452,-30 452,-24 452,-24 452,-12 452,-12 452,-6 458,0 464,0 464,0 494,0 494,0 500,0 506,-6 506,-12 506,-12 506,-24 506,-24 506,-30 500,-36 494,-36\"/>\n<text text-anchor=\"middle\" x=\"479\" y=\"-14.3\" font-family=\"Helvetica,sans-Serif\" font-size=\"14.00\" fill=\"#000000\">(...)</text>\n</g>\n<!-- 20&#45;&gt;22 -->\n<g id=\"edge12\" class=\"edge\">\n<title>20&#45;&gt;22</title>\n<path fill=\"none\" stroke=\"#000000\" d=\"M458.1211,-71.8901C461.5546,-63.0279 465.0993,-53.8788 468.2715,-45.6913\"/>\n<polygon fill=\"#000000\" stroke=\"#000000\" points=\"471.5743,-46.8542 471.9235,-36.2651 465.0471,-44.3253 471.5743,-46.8542\"/>\n</g>\n<!-- 25 -->\n<g id=\"node16\" class=\"node\">\n<title>25</title>\n<path fill=\"#c4e2f7\" stroke=\"#000000\" d=\"M883,-274C883,-274 775,-274 775,-274 769,-274 763,-268 763,-262 763,-262 763,-203 763,-203 763,-197 769,-191 775,-191 775,-191 883,-191 883,-191 889,-191 895,-197 895,-203 895,-203 895,-262 895,-262 895,-268 889,-274 883,-274\"/>\n<text text-anchor=\"middle\" x=\"829\" y=\"-258.8\" font-family=\"Helvetica,sans-Serif\" font-size=\"14.00\" fill=\"#000000\">Age &lt;= 50.5</text>\n<text text-anchor=\"middle\" x=\"829\" y=\"-243.8\" font-family=\"Helvetica,sans-Serif\" font-size=\"14.00\" fill=\"#000000\">gini = 0.485</text>\n<text text-anchor=\"middle\" x=\"829\" y=\"-228.8\" font-family=\"Helvetica,sans-Serif\" font-size=\"14.00\" fill=\"#000000\">samples = 922</text>\n<text text-anchor=\"middle\" x=\"829\" y=\"-213.8\" font-family=\"Helvetica,sans-Serif\" font-size=\"14.00\" fill=\"#000000\">value = [381, 541]</text>\n<text text-anchor=\"middle\" x=\"829\" y=\"-198.8\" font-family=\"Helvetica,sans-Serif\" font-size=\"14.00\" fill=\"#000000\">class = Stayed</text>\n</g>\n<!-- 24&#45;&gt;25 -->\n<g id=\"edge15\" class=\"edge\">\n<title>24&#45;&gt;25</title>\n<path fill=\"none\" stroke=\"#000000\" d=\"M829,-309.8796C829,-301.6838 829,-292.9891 829,-284.5013\"/>\n<polygon fill=\"#000000\" stroke=\"#000000\" points=\"832.5001,-284.298 829,-274.2981 825.5001,-284.2981 832.5001,-284.298\"/>\n</g>\n<!-- 34 -->\n<g id=\"node21\" class=\"node\">\n<title>34</title>\n<path fill=\"#efb184\" stroke=\"#000000\" d=\"M1144,-274C1144,-274 1004,-274 1004,-274 998,-274 992,-268 992,-262 992,-262 992,-203 992,-203 992,-197 998,-191 1004,-191 1004,-191 1144,-191 1144,-191 1150,-191 1156,-197 1156,-203 1156,-203 1156,-262 1156,-262 1156,-268 1150,-274 1144,-274\"/>\n<text text-anchor=\"middle\" x=\"1074\" y=\"-258.8\" font-family=\"Helvetica,sans-Serif\" font-size=\"14.00\" fill=\"#000000\">Balance &lt;= 87573.121</text>\n<text text-anchor=\"middle\" x=\"1074\" y=\"-243.8\" font-family=\"Helvetica,sans-Serif\" font-size=\"14.00\" fill=\"#000000\">gini = 0.399</text>\n<text text-anchor=\"middle\" x=\"1074\" y=\"-228.8\" font-family=\"Helvetica,sans-Serif\" font-size=\"14.00\" fill=\"#000000\">samples = 1124</text>\n<text text-anchor=\"middle\" x=\"1074\" y=\"-213.8\" font-family=\"Helvetica,sans-Serif\" font-size=\"14.00\" fill=\"#000000\">value = [815, 309]</text>\n<text text-anchor=\"middle\" x=\"1074\" y=\"-198.8\" font-family=\"Helvetica,sans-Serif\" font-size=\"14.00\" fill=\"#000000\">class = Left</text>\n</g>\n<!-- 24&#45;&gt;34 -->\n<g id=\"edge20\" class=\"edge\">\n<title>24&#45;&gt;34</title>\n<path fill=\"none\" stroke=\"#000000\" d=\"M911.6043,-311.3779C934.4151,-300.2984 959.2977,-288.2125 982.5771,-276.9054\"/>\n<polygon fill=\"#000000\" stroke=\"#000000\" points=\"984.2884,-279.9653 991.7543,-272.4479 981.23,-273.6687 984.2884,-279.9653\"/>\n</g>\n<!-- 26 -->\n<g id=\"node17\" class=\"node\">\n<title>26</title>\n<path fill=\"#fbebdf\" stroke=\"#000000\" d=\"M820,-155C820,-155 680,-155 680,-155 674,-155 668,-149 668,-143 668,-143 668,-84 668,-84 668,-78 674,-72 680,-72 680,-72 820,-72 820,-72 826,-72 832,-78 832,-84 832,-84 832,-143 832,-143 832,-149 826,-155 820,-155\"/>\n<text text-anchor=\"middle\" x=\"750\" y=\"-139.8\" font-family=\"Helvetica,sans-Serif\" font-size=\"14.00\" fill=\"#000000\">NumOfProducts &lt;= 1.5</text>\n<text text-anchor=\"middle\" x=\"750\" y=\"-124.8\" font-family=\"Helvetica,sans-Serif\" font-size=\"14.00\" fill=\"#000000\">gini = 0.496</text>\n<text text-anchor=\"middle\" x=\"750\" y=\"-109.8\" font-family=\"Helvetica,sans-Serif\" font-size=\"14.00\" fill=\"#000000\">samples = 611</text>\n<text text-anchor=\"middle\" x=\"750\" y=\"-94.8\" font-family=\"Helvetica,sans-Serif\" font-size=\"14.00\" fill=\"#000000\">value = [332, 279]</text>\n<text text-anchor=\"middle\" x=\"750\" y=\"-79.8\" font-family=\"Helvetica,sans-Serif\" font-size=\"14.00\" fill=\"#000000\">class = Left</text>\n</g>\n<!-- 25&#45;&gt;26 -->\n<g id=\"edge16\" class=\"edge\">\n<title>25&#45;&gt;26</title>\n<path fill=\"none\" stroke=\"#000000\" d=\"M801.3696,-190.8796C795.57,-182.1434 789.3941,-172.8404 783.4092,-163.8253\"/>\n<polygon fill=\"#000000\" stroke=\"#000000\" points=\"786.1951,-161.6935 777.7483,-155.2981 780.3632,-165.5652 786.1951,-161.6935\"/>\n</g>\n<!-- 33 -->\n<g id=\"node20\" class=\"node\">\n<title>33</title>\n<path fill=\"#5eafea\" stroke=\"#000000\" d=\"M962,-147.5C962,-147.5 862,-147.5 862,-147.5 856,-147.5 850,-141.5 850,-135.5 850,-135.5 850,-91.5 850,-91.5 850,-85.5 856,-79.5 862,-79.5 862,-79.5 962,-79.5 962,-79.5 968,-79.5 974,-85.5 974,-91.5 974,-91.5 974,-135.5 974,-135.5 974,-141.5 968,-147.5 962,-147.5\"/>\n<text text-anchor=\"middle\" x=\"912\" y=\"-132.3\" font-family=\"Helvetica,sans-Serif\" font-size=\"14.00\" fill=\"#000000\">gini = 0.265</text>\n<text text-anchor=\"middle\" x=\"912\" y=\"-117.3\" font-family=\"Helvetica,sans-Serif\" font-size=\"14.00\" fill=\"#000000\">samples = 311</text>\n<text text-anchor=\"middle\" x=\"912\" y=\"-102.3\" font-family=\"Helvetica,sans-Serif\" font-size=\"14.00\" fill=\"#000000\">value = [49, 262]</text>\n<text text-anchor=\"middle\" x=\"912\" y=\"-87.3\" font-family=\"Helvetica,sans-Serif\" font-size=\"14.00\" fill=\"#000000\">class = Stayed</text>\n</g>\n<!-- 25&#45;&gt;33 -->\n<g id=\"edge19\" class=\"edge\">\n<title>25&#45;&gt;33</title>\n<path fill=\"none\" stroke=\"#000000\" d=\"M858.0294,-190.8796C865.8523,-179.6636 874.327,-167.5131 882.1917,-156.2372\"/>\n<polygon fill=\"#000000\" stroke=\"#000000\" points=\"885.216,-158.0192 888.0661,-147.8149 879.4746,-154.0147 885.216,-158.0192\"/>\n</g>\n<!-- 27 -->\n<g id=\"node18\" class=\"node\">\n<title>27</title>\n<path fill=\"#c0c0c0\" stroke=\"#000000\" d=\"M729,-36C729,-36 699,-36 699,-36 693,-36 687,-30 687,-24 687,-24 687,-12 687,-12 687,-6 693,0 699,0 699,0 729,0 729,0 735,0 741,-6 741,-12 741,-12 741,-24 741,-24 741,-30 735,-36 729,-36\"/>\n<text text-anchor=\"middle\" x=\"714\" y=\"-14.3\" font-family=\"Helvetica,sans-Serif\" font-size=\"14.00\" fill=\"#000000\">(...)</text>\n</g>\n<!-- 26&#45;&gt;27 -->\n<g id=\"edge17\" class=\"edge\">\n<title>26&#45;&gt;27</title>\n<path fill=\"none\" stroke=\"#000000\" d=\"M734.3146,-71.8901C730.9739,-63.0279 727.525,-53.8788 724.4386,-45.6913\"/>\n<polygon fill=\"#000000\" stroke=\"#000000\" points=\"727.6877,-44.3878 720.8853,-36.2651 721.1376,-46.8569 727.6877,-44.3878\"/>\n</g>\n<!-- 30 -->\n<g id=\"node19\" class=\"node\">\n<title>30</title>\n<path fill=\"#c0c0c0\" stroke=\"#000000\" d=\"M801,-36C801,-36 771,-36 771,-36 765,-36 759,-30 759,-24 759,-24 759,-12 759,-12 759,-6 765,0 771,0 771,0 801,0 801,0 807,0 813,-6 813,-12 813,-12 813,-24 813,-24 813,-30 807,-36 801,-36\"/>\n<text text-anchor=\"middle\" x=\"786\" y=\"-14.3\" font-family=\"Helvetica,sans-Serif\" font-size=\"14.00\" fill=\"#000000\">(...)</text>\n</g>\n<!-- 26&#45;&gt;30 -->\n<g id=\"edge18\" class=\"edge\">\n<title>26&#45;&gt;30</title>\n<path fill=\"none\" stroke=\"#000000\" d=\"M765.6854,-71.8901C769.0261,-63.0279 772.475,-53.8788 775.5614,-45.6913\"/>\n<polygon fill=\"#000000\" stroke=\"#000000\" points=\"778.8624,-46.8569 779.1147,-36.2651 772.3123,-44.3878 778.8624,-46.8569\"/>\n</g>\n<!-- 35 -->\n<g id=\"node22\" class=\"node\">\n<title>35</title>\n<path fill=\"#eba069\" stroke=\"#000000\" d=\"M1144,-155C1144,-155 1004,-155 1004,-155 998,-155 992,-149 992,-143 992,-143 992,-84 992,-84 992,-78 998,-72 1004,-72 1004,-72 1144,-72 1144,-72 1150,-72 1156,-78 1156,-84 1156,-84 1156,-143 1156,-143 1156,-149 1150,-155 1144,-155\"/>\n<text text-anchor=\"middle\" x=\"1074\" y=\"-139.8\" font-family=\"Helvetica,sans-Serif\" font-size=\"14.00\" fill=\"#000000\">NumOfProducts &lt;= 2.5</text>\n<text text-anchor=\"middle\" x=\"1074\" y=\"-124.8\" font-family=\"Helvetica,sans-Serif\" font-size=\"14.00\" fill=\"#000000\">gini = 0.314</text>\n<text text-anchor=\"middle\" x=\"1074\" y=\"-109.8\" font-family=\"Helvetica,sans-Serif\" font-size=\"14.00\" fill=\"#000000\">samples = 482</text>\n<text text-anchor=\"middle\" x=\"1074\" y=\"-94.8\" font-family=\"Helvetica,sans-Serif\" font-size=\"14.00\" fill=\"#000000\">value = [388, 94]</text>\n<text text-anchor=\"middle\" x=\"1074\" y=\"-79.8\" font-family=\"Helvetica,sans-Serif\" font-size=\"14.00\" fill=\"#000000\">class = Left</text>\n</g>\n<!-- 34&#45;&gt;35 -->\n<g id=\"edge21\" class=\"edge\">\n<title>34&#45;&gt;35</title>\n<path fill=\"none\" stroke=\"#000000\" d=\"M1074,-190.8796C1074,-182.6838 1074,-173.9891 1074,-165.5013\"/>\n<polygon fill=\"#000000\" stroke=\"#000000\" points=\"1077.5001,-165.298 1074,-155.2981 1070.5001,-165.2981 1077.5001,-165.298\"/>\n</g>\n<!-- 42 -->\n<g id=\"node25\" class=\"node\">\n<title>42</title>\n<path fill=\"#f2c09d\" stroke=\"#000000\" d=\"M1294,-155C1294,-155 1186,-155 1186,-155 1180,-155 1174,-149 1174,-143 1174,-143 1174,-84 1174,-84 1174,-78 1180,-72 1186,-72 1186,-72 1294,-72 1294,-72 1300,-72 1306,-78 1306,-84 1306,-84 1306,-143 1306,-143 1306,-149 1300,-155 1294,-155\"/>\n<text text-anchor=\"middle\" x=\"1240\" y=\"-139.8\" font-family=\"Helvetica,sans-Serif\" font-size=\"14.00\" fill=\"#000000\">Age &lt;= 57.5</text>\n<text text-anchor=\"middle\" x=\"1240\" y=\"-124.8\" font-family=\"Helvetica,sans-Serif\" font-size=\"14.00\" fill=\"#000000\">gini = 0.445</text>\n<text text-anchor=\"middle\" x=\"1240\" y=\"-109.8\" font-family=\"Helvetica,sans-Serif\" font-size=\"14.00\" fill=\"#000000\">samples = 642</text>\n<text text-anchor=\"middle\" x=\"1240\" y=\"-94.8\" font-family=\"Helvetica,sans-Serif\" font-size=\"14.00\" fill=\"#000000\">value = [427, 215]</text>\n<text text-anchor=\"middle\" x=\"1240\" y=\"-79.8\" font-family=\"Helvetica,sans-Serif\" font-size=\"14.00\" fill=\"#000000\">class = Left</text>\n</g>\n<!-- 34&#45;&gt;42 -->\n<g id=\"edge24\" class=\"edge\">\n<title>34&#45;&gt;42</title>\n<path fill=\"none\" stroke=\"#000000\" d=\"M1132.0587,-190.8796C1145.4534,-181.2774 1159.8035,-170.9903 1173.5255,-161.1534\"/>\n<polygon fill=\"#000000\" stroke=\"#000000\" points=\"1175.8858,-163.7678 1181.974,-155.0969 1171.8074,-158.0786 1175.8858,-163.7678\"/>\n</g>\n<!-- 36 -->\n<g id=\"node23\" class=\"node\">\n<title>36</title>\n<path fill=\"#c0c0c0\" stroke=\"#000000\" d=\"M1046,-36C1046,-36 1016,-36 1016,-36 1010,-36 1004,-30 1004,-24 1004,-24 1004,-12 1004,-12 1004,-6 1010,0 1016,0 1016,0 1046,0 1046,0 1052,0 1058,-6 1058,-12 1058,-12 1058,-24 1058,-24 1058,-30 1052,-36 1046,-36\"/>\n<text text-anchor=\"middle\" x=\"1031\" y=\"-14.3\" font-family=\"Helvetica,sans-Serif\" font-size=\"14.00\" fill=\"#000000\">(...)</text>\n</g>\n<!-- 35&#45;&gt;36 -->\n<g id=\"edge22\" class=\"edge\">\n<title>35&#45;&gt;36</title>\n<path fill=\"none\" stroke=\"#000000\" d=\"M1055.2647,-71.8901C1051.2305,-62.9305 1047.0643,-53.6777 1043.3469,-45.4217\"/>\n<polygon fill=\"#000000\" stroke=\"#000000\" points=\"1046.5212,-43.9464 1039.2241,-36.2651 1040.1384,-46.8204 1046.5212,-43.9464\"/>\n</g>\n<!-- 41 -->\n<g id=\"node24\" class=\"node\">\n<title>41</title>\n<path fill=\"#c0c0c0\" stroke=\"#000000\" d=\"M1118,-36C1118,-36 1088,-36 1088,-36 1082,-36 1076,-30 1076,-24 1076,-24 1076,-12 1076,-12 1076,-6 1082,0 1088,0 1088,0 1118,0 1118,0 1124,0 1130,-6 1130,-12 1130,-12 1130,-24 1130,-24 1130,-30 1124,-36 1118,-36\"/>\n<text text-anchor=\"middle\" x=\"1103\" y=\"-14.3\" font-family=\"Helvetica,sans-Serif\" font-size=\"14.00\" fill=\"#000000\">(...)</text>\n</g>\n<!-- 35&#45;&gt;41 -->\n<g id=\"edge23\" class=\"edge\">\n<title>35&#45;&gt;41</title>\n<path fill=\"none\" stroke=\"#000000\" d=\"M1086.6355,-71.8901C1089.297,-63.1253 1092.0438,-54.0798 1094.5091,-45.9615\"/>\n<polygon fill=\"#000000\" stroke=\"#000000\" points=\"1097.8968,-46.8507 1097.4535,-36.2651 1091.1988,-44.8167 1097.8968,-46.8507\"/>\n</g>\n<!-- 43 -->\n<g id=\"node26\" class=\"node\">\n<title>43</title>\n<path fill=\"#c0c0c0\" stroke=\"#000000\" d=\"M1219,-36C1219,-36 1189,-36 1189,-36 1183,-36 1177,-30 1177,-24 1177,-24 1177,-12 1177,-12 1177,-6 1183,0 1189,0 1189,0 1219,0 1219,0 1225,0 1231,-6 1231,-12 1231,-12 1231,-24 1231,-24 1231,-30 1225,-36 1219,-36\"/>\n<text text-anchor=\"middle\" x=\"1204\" y=\"-14.3\" font-family=\"Helvetica,sans-Serif\" font-size=\"14.00\" fill=\"#000000\">(...)</text>\n</g>\n<!-- 42&#45;&gt;43 -->\n<g id=\"edge25\" class=\"edge\">\n<title>42&#45;&gt;43</title>\n<path fill=\"none\" stroke=\"#000000\" d=\"M1224.3146,-71.8901C1220.9739,-63.0279 1217.525,-53.8788 1214.4386,-45.6913\"/>\n<polygon fill=\"#000000\" stroke=\"#000000\" points=\"1217.6877,-44.3878 1210.8853,-36.2651 1211.1376,-46.8569 1217.6877,-44.3878\"/>\n</g>\n<!-- 46 -->\n<g id=\"node27\" class=\"node\">\n<title>46</title>\n<path fill=\"#c0c0c0\" stroke=\"#000000\" d=\"M1291,-36C1291,-36 1261,-36 1261,-36 1255,-36 1249,-30 1249,-24 1249,-24 1249,-12 1249,-12 1249,-6 1255,0 1261,0 1261,0 1291,0 1291,0 1297,0 1303,-6 1303,-12 1303,-12 1303,-24 1303,-24 1303,-30 1297,-36 1291,-36\"/>\n<text text-anchor=\"middle\" x=\"1276\" y=\"-14.3\" font-family=\"Helvetica,sans-Serif\" font-size=\"14.00\" fill=\"#000000\">(...)</text>\n</g>\n<!-- 42&#45;&gt;46 -->\n<g id=\"edge26\" class=\"edge\">\n<title>42&#45;&gt;46</title>\n<path fill=\"none\" stroke=\"#000000\" d=\"M1255.6854,-71.8901C1259.0261,-63.0279 1262.475,-53.8788 1265.5614,-45.6913\"/>\n<polygon fill=\"#000000\" stroke=\"#000000\" points=\"1268.8624,-46.8569 1269.1147,-36.2651 1262.3123,-44.3878 1268.8624,-46.8569\"/>\n</g>\n</g>\n</svg>\n"
          },
          "metadata": {},
          "execution_count": 30
        }
      ]
    },
    {
      "cell_type": "markdown",
      "source": [
        "## Resampling the dataset"
      ],
      "metadata": {
        "id": "gFeI0Fc0u1IO"
      }
    },
    {
      "cell_type": "code",
      "source": [
        "# define undersampling strategy\n",
        "undersample = RandomUnderSampler(sampling_strategy='majority')\n",
        "\n",
        "# fit and apply the transform\n",
        "X_train_under, y_train_under = undersample.fit_resample(X_train, y_train)\n",
        "\n",
        "#PART 2\n",
        "\n",
        "# Create an object using DecisionTreeClassifier, setting a few parameters such as max depth.\n",
        "dtclf_model3 = DecisionTreeClassifier(random_state=42, max_features=7, ccp_alpha=0.0007)\n",
        "dtclf_model3.fit(X_train_under, y_train_under)\n",
        "y_pred3 = dtclf_model3.predict(X_test)\n",
        "\n",
        "print(\"ROC AUC score for undersampled data: \", roc_auc_score(y_test, y_pred3))"
      ],
      "metadata": {
        "id": "dlU-cD4pu2mp",
        "colab": {
          "base_uri": "https://localhost:8080/"
        },
        "outputId": "ad38b4d9-2507-4745-a290-c6e1d4d556c9"
      },
      "execution_count": 31,
      "outputs": [
        {
          "output_type": "stream",
          "name": "stdout",
          "text": [
            "ROC AUC score for undersampled data:  0.7488992488992489\n"
          ]
        }
      ]
    },
    {
      "cell_type": "code",
      "source": [
        "ConfusionMatrixDisplay.from_predictions(y_test, y_pred3, cmap='RdPu_r')\n",
        "plt.grid(False)"
      ],
      "metadata": {
        "id": "vOB_ZTgNvQEN",
        "colab": {
          "base_uri": "https://localhost:8080/",
          "height": 278
        },
        "outputId": "739947b5-5c24-445f-898c-1a0f24413035"
      },
      "execution_count": 32,
      "outputs": [
        {
          "output_type": "display_data",
          "data": {
            "image/png": "[encoded data removed]",
            "text/plain": [
              "<Figure size 432x288 with 2 Axes>"
            ]
          },
          "metadata": {
            "needs_background": "light"
          }
        }
      ]
    },
    {
      "cell_type": "code",
      "source": [
        "print(classification_report(y_test, y_pred3))"
      ],
      "metadata": {
        "id": "lKlZLX1VvqWX",
        "colab": {
          "base_uri": "https://localhost:8080/"
        },
        "outputId": "2ea4f313-fbc1-49b3-b606-0a08d843f422"
      },
      "execution_count": 33,
      "outputs": [
        {
          "output_type": "stream",
          "name": "stdout",
          "text": [
            "              precision    recall  f1-score   support\n",
            "\n",
            "           0       0.91      0.80      0.85      2376\n",
            "           1       0.47      0.70      0.57       624\n",
            "\n",
            "    accuracy                           0.78      3000\n",
            "   macro avg       0.69      0.75      0.71      3000\n",
            "weighted avg       0.82      0.78      0.79      3000\n",
            "\n"
          ]
        }
      ]
    },
    {
      "cell_type": "markdown",
      "source": [
        "## Compare all the models"
      ],
      "metadata": {
        "id": "8dFkFdAz-ShD"
      }
    },
    {
      "cell_type": "code",
      "source": [
        "print('----Model1----')\n",
        "print(classification_report(y_test, y_pred1))\n",
        "print('----Model2----')\n",
        "print(classification_report(y_test, y_pred2))\n",
        "print('----Model3----')\n",
        "print(classification_report(y_test, y_pred3))"
      ],
      "metadata": {
        "id": "gJJc6K3Hw6jG",
        "colab": {
          "base_uri": "https://localhost:8080/"
        },
        "outputId": "0c09156e-d813-408d-ef42-6c3961c4973f"
      },
      "execution_count": 34,
      "outputs": [
        {
          "output_type": "stream",
          "name": "stdout",
          "text": [
            "----Model1----\n",
            "              precision    recall  f1-score   support\n",
            "\n",
            "           0       0.87      0.87      0.87      2376\n",
            "           1       0.49      0.50      0.49       624\n",
            "\n",
            "    accuracy                           0.79      3000\n",
            "   macro avg       0.68      0.68      0.68      3000\n",
            "weighted avg       0.79      0.79      0.79      3000\n",
            "\n",
            "----Model2----\n",
            "              precision    recall  f1-score   support\n",
            "\n",
            "           0       0.86      0.97      0.91      2376\n",
            "           1       0.77      0.42      0.55       624\n",
            "\n",
            "    accuracy                           0.85      3000\n",
            "   macro avg       0.82      0.69      0.73      3000\n",
            "weighted avg       0.84      0.85      0.84      3000\n",
            "\n",
            "----Model3----\n",
            "              precision    recall  f1-score   support\n",
            "\n",
            "           0       0.91      0.80      0.85      2376\n",
            "           1       0.47      0.70      0.57       624\n",
            "\n",
            "    accuracy                           0.78      3000\n",
            "   macro avg       0.69      0.75      0.71      3000\n",
            "weighted avg       0.82      0.78      0.79      3000\n",
            "\n"
          ]
        }
      ]
    },
    {
      "cell_type": "markdown",
      "source": [
        "We can see that resampling increased the recall of the exited class but decreased the precision. This is a trade off we would expect. The balance between precision and recall is fundamentally a business decision. \n",
        "\n",
        "Are we happy to be contacting false positives (i.e. people who weren't otherwise going to churn) or would this lead to increased churn from annoyed customers. Conversely, are we happy accepting a lower level of recall meaning that many false negatives (ie. people classed as non-exit who exit) do not get contacted. "
      ],
      "metadata": {
        "id": "ems0ZGB3VmVC"
      }
    },
    {
      "cell_type": "markdown",
      "source": [
        "## Compare Model2 and Model3"
      ],
      "metadata": {
        "id": "BbFo3ykUVcyb"
      }
    },
    {
      "cell_type": "code",
      "source": [
        "ConfusionMatrixDisplay.from_predictions(y_test, y_pred2, cmap='RdPu_r')\n",
        "plt.grid(False)"
      ],
      "metadata": {
        "id": "25ESXp0x-X_M",
        "colab": {
          "base_uri": "https://localhost:8080/",
          "height": 278
        },
        "outputId": "d87eb5ed-fde6-43cc-bb32-7053c9cf02fb"
      },
      "execution_count": 35,
      "outputs": [
        {
          "output_type": "display_data",
          "data": {
            "image/png": "[encoded data removed]",
            "text/plain": [
              "<Figure size 432x288 with 2 Axes>"
            ]
          },
          "metadata": {
            "needs_background": "light"
          }
        }
      ]
    },
    {
      "cell_type": "code",
      "source": [
        "ConfusionMatrixDisplay.from_predictions(y_test, y_pred3, cmap='RdPu_r')\n",
        "plt.grid(False)"
      ],
      "metadata": {
        "id": "Zz6686rF_Ndo",
        "colab": {
          "base_uri": "https://localhost:8080/",
          "height": 278
        },
        "outputId": "a2a62832-cf51-4614-de9c-8c4c01d8cfc6"
      },
      "execution_count": 36,
      "outputs": [
        {
          "output_type": "display_data",
          "data": {
            "image/png": "[encoded data removed]",
            "text/plain": [
              "<Figure size 432x288 with 2 Axes>"
            ]
          },
          "metadata": {
            "needs_background": "light"
          }
        }
      ]
    },
    {
      "cell_type": "markdown",
      "source": [
        "The comparison between the confusion matrices here hopefully drives home the point around the sacrifice between recall and precision. By just examining the bottom left and top right boxes, you can see a ~50% recuction in false negatives but also a >5x increase in false positives. "
      ],
      "metadata": {
        "id": "Ai8k2lDQWV7F"
      }
    }
  ]
}