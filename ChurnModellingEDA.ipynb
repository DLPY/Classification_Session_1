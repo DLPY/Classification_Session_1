{
  "cells": [
    {
      "cell_type": "markdown",
      "id": "9c7039b4",
      "metadata": {
        "id": "9c7039b4"
      },
      "source": [
        "\n",
        "\n",
        "Customer Churn Prediction based on Banking Account Data\n",
        "Detail on Data: https://www.kaggle.com/shrutimechlearn/churn-modelling"
      ]
    },
    {
      "cell_type": "markdown",
      "id": "d8b5b0b0",
      "metadata": {
        "id": "d8b5b0b0"
      },
      "source": [
        "TODO: Download source data from Github\n",
        "!wget https://raw.githubusercontent.com/DLPY/Regression-Session-2/master/Data/SydneyHousePrices.csv"
      ]
    },
    {
      "cell_type": "markdown",
      "id": "297429e9",
      "metadata": {
        "id": "297429e9"
      },
      "source": [
        "Table of Contents:\n",
        "Section 1 - Import the Libs and load the dataframe\n",
        "Section 2 - EDA\n",
        "Section 3 - Appendix"
      ]
    },
    {
      "cell_type": "markdown",
      "id": "205fe99f",
      "metadata": {
        "id": "205fe99f"
      },
      "source": [
        "# # Import necessary packages for performing EDA"
      ]
    },
    {
      "cell_type": "code",
      "execution_count": 1,
      "id": "ca75d032",
      "metadata": {
        "id": "ca75d032"
      },
      "outputs": [],
      "source": [
        "import seaborn as sns #Visualization Lib\n",
        "import matplotlib.pyplot as plt #Visualization Lib\n",
        "import pandas as pd #Data manipulation lib\n",
        "import numpy as np #mathamatical functions"
      ]
    },
    {
      "cell_type": "code",
      "execution_count": 2,
      "id": "d7fc5073",
      "metadata": {
        "id": "d7fc5073",
        "colab": {
          "base_uri": "https://localhost:8080/"
        },
        "outputId": "b46bb591-6e78-4ea8-dec5-7759fe4a8c1f"
      },
      "outputs": [
        {
          "output_type": "stream",
          "name": "stdout",
          "text": [
            "--2022-02-09 12:04:27--  https://raw.githubusercontent.com/DLPY/Classification_Session_1/main/Churn_Modelling.csv\n",
            "Resolving raw.githubusercontent.com (raw.githubusercontent.com)... 185.199.108.133, 185.199.110.133, 185.199.109.133, ...\n",
            "Connecting to raw.githubusercontent.com (raw.githubusercontent.com)|185.199.108.133|:443... connected.\n",
            "HTTP request sent, awaiting response... 200 OK\n",
            "Length: 684858 (669K) [text/plain]\n",
            "Saving to: ‘Churn_Modelling.csv’\n",
            "\n",
            "Churn_Modelling.csv 100%[===================>] 668.81K  --.-KB/s    in 0.05s   \n",
            "\n",
            "2022-02-09 12:04:28 (12.6 MB/s) - ‘Churn_Modelling.csv’ saved [684858/684858]\n",
            "\n"
          ]
        }
      ],
      "source": [
        "# Read data from csv file into Pandas dataframe\n",
        "!wget https://raw.githubusercontent.com/DLPY/Classification_Session_1/main/Churn_Modelling.csv\n",
        "data = pd.read_csv('Churn_Modelling.csv')"
      ]
    },
    {
      "cell_type": "markdown",
      "id": "a7b74a95",
      "metadata": {
        "id": "a7b74a95"
      },
      "source": [
        "# Exploratory Data Analysis (EDA)\n",
        "Perform data analysis, cleaning and transformation."
      ]
    },
    {
      "cell_type": "code",
      "execution_count": 3,
      "id": "3fbfa4fa",
      "metadata": {
        "scrolled": false,
        "id": "3fbfa4fa",
        "colab": {
          "base_uri": "https://localhost:8080/"
        },
        "outputId": "ce9cb4cf-e69a-4fc1-cbec-7eaac7f0b606"
      },
      "outputs": [
        {
          "output_type": "execute_result",
          "data": {
            "text/plain": [
              "(10000, 14)"
            ]
          },
          "metadata": {},
          "execution_count": 3
        }
      ],
      "source": [
        "# Display the count of rows and columns.\n",
        "data.shape\n",
        "#(10000 rows, 14 columns)"
      ]
    },
    {
      "cell_type": "markdown",
      "id": "1dd8fcf0",
      "metadata": {
        "id": "1dd8fcf0"
      },
      "source": [
        "This data set contains details of a bank's customers and the target variable is a binary variable reflecting the fact whether the customer left the bank (closed their account) or they continue to be a customer.\n",
        "\n",
        "Here we have 13 feature columns and Exited is a target column.\n",
        "\n",
        "Row Numbers: Row Numbers from 1 to 10000.\n",
        "\n",
        "CustomerId: Unique Ids for bank customer identification.\n",
        "\n",
        "Surname: Customer's last name.\n",
        "\n",
        "CreditScore: Credit score of the customer.\n",
        "\n",
        "Geography: The country from which the customer belongs(Germany/France/Spain).\n",
        "\n",
        "Gender: Male or Female.\n",
        "\n",
        "Age: Age of the customer.\n",
        "\n",
        "Tenure: Number of years for which the customer has been with the bank. Balance: Bank balance of the customer.\n",
        "\n",
        "NumOfProducts: Number of bank products the customer is utilising.\n",
        "\n",
        "HasCrCard: Binary Flag for whether the customer holds a credit card with the bank or not(0=No, 1=Yes).\n",
        "\n",
        "IsActiveMember: Binary Flag for whether the customer is an active member with the bank or not(0=No, 1=Yes).\n",
        "\n",
        "EstimatedSalary: Estimated salary of the customer in Euro.\n",
        "\n",
        "Exited: Binary flag 1 if the customer closed account with bank and 0 if the customer is retained(0=No, 1=Yes)."
      ]
    },
    {
      "cell_type": "code",
      "execution_count": 4,
      "id": "438bf5a8",
      "metadata": {
        "id": "438bf5a8",
        "colab": {
          "base_uri": "https://localhost:8080/",
          "height": 206
        },
        "outputId": "471afe50-e54b-4c13-ba94-512e61dfd2ad"
      },
      "outputs": [
        {
          "output_type": "execute_result",
          "data": {
            "text/html": [
              "\n",
              "  <div id=\"df-b4aa4c9f-44b4-4e97-a891-2cd10fce55b5\">\n",
              "    <div class=\"colab-df-container\">\n",
              "      <div>\n",
              "<style scoped>\n",
              "    .dataframe tbody tr th:only-of-type {\n",
              "        vertical-align: middle;\n",
              "    }\n",
              "\n",
              "    .dataframe tbody tr th {\n",
              "        vertical-align: top;\n",
              "    }\n",
              "\n",
              "    .dataframe thead th {\n",
              "        text-align: right;\n",
              "    }\n",
              "</style>\n",
              "<table border=\"1\" class=\"dataframe\">\n",
              "  <thead>\n",
              "    <tr style=\"text-align: right;\">\n",
              "      <th></th>\n",
              "      <th>RowNumber</th>\n",
              "      <th>CustomerId</th>\n",
              "      <th>Surname</th>\n",
              "      <th>CreditScore</th>\n",
              "      <th>Geography</th>\n",
              "      <th>Gender</th>\n",
              "      <th>Age</th>\n",
              "      <th>Tenure</th>\n",
              "      <th>Balance</th>\n",
              "      <th>NumOfProducts</th>\n",
              "      <th>HasCrCard</th>\n",
              "      <th>IsActiveMember</th>\n",
              "      <th>EstimatedSalary</th>\n",
              "      <th>Exited</th>\n",
              "    </tr>\n",
              "  </thead>\n",
              "  <tbody>\n",
              "    <tr>\n",
              "      <th>0</th>\n",
              "      <td>1</td>\n",
              "      <td>15634602</td>\n",
              "      <td>Hargrave</td>\n",
              "      <td>619</td>\n",
              "      <td>France</td>\n",
              "      <td>Female</td>\n",
              "      <td>42</td>\n",
              "      <td>2</td>\n",
              "      <td>0.00</td>\n",
              "      <td>1</td>\n",
              "      <td>1</td>\n",
              "      <td>1</td>\n",
              "      <td>101348.88</td>\n",
              "      <td>1</td>\n",
              "    </tr>\n",
              "    <tr>\n",
              "      <th>1</th>\n",
              "      <td>2</td>\n",
              "      <td>15647311</td>\n",
              "      <td>Hill</td>\n",
              "      <td>608</td>\n",
              "      <td>Spain</td>\n",
              "      <td>Female</td>\n",
              "      <td>41</td>\n",
              "      <td>1</td>\n",
              "      <td>83807.86</td>\n",
              "      <td>1</td>\n",
              "      <td>0</td>\n",
              "      <td>1</td>\n",
              "      <td>112542.58</td>\n",
              "      <td>0</td>\n",
              "    </tr>\n",
              "    <tr>\n",
              "      <th>2</th>\n",
              "      <td>3</td>\n",
              "      <td>15619304</td>\n",
              "      <td>Onio</td>\n",
              "      <td>502</td>\n",
              "      <td>France</td>\n",
              "      <td>Female</td>\n",
              "      <td>42</td>\n",
              "      <td>8</td>\n",
              "      <td>159660.80</td>\n",
              "      <td>3</td>\n",
              "      <td>1</td>\n",
              "      <td>0</td>\n",
              "      <td>113931.57</td>\n",
              "      <td>1</td>\n",
              "    </tr>\n",
              "    <tr>\n",
              "      <th>3</th>\n",
              "      <td>4</td>\n",
              "      <td>15701354</td>\n",
              "      <td>Boni</td>\n",
              "      <td>699</td>\n",
              "      <td>France</td>\n",
              "      <td>Female</td>\n",
              "      <td>39</td>\n",
              "      <td>1</td>\n",
              "      <td>0.00</td>\n",
              "      <td>2</td>\n",
              "      <td>0</td>\n",
              "      <td>0</td>\n",
              "      <td>93826.63</td>\n",
              "      <td>0</td>\n",
              "    </tr>\n",
              "    <tr>\n",
              "      <th>4</th>\n",
              "      <td>5</td>\n",
              "      <td>15737888</td>\n",
              "      <td>Mitchell</td>\n",
              "      <td>850</td>\n",
              "      <td>Spain</td>\n",
              "      <td>Female</td>\n",
              "      <td>43</td>\n",
              "      <td>2</td>\n",
              "      <td>125510.82</td>\n",
              "      <td>1</td>\n",
              "      <td>1</td>\n",
              "      <td>1</td>\n",
              "      <td>79084.10</td>\n",
              "      <td>0</td>\n",
              "    </tr>\n",
              "  </tbody>\n",
              "</table>\n",
              "</div>\n",
              "      <button class=\"colab-df-convert\" onclick=\"convertToInteractive('df-b4aa4c9f-44b4-4e97-a891-2cd10fce55b5')\"\n",
              "              title=\"Convert this dataframe to an interactive table.\"\n",
              "              style=\"display:none;\">\n",
              "        \n",
              "  <svg xmlns=\"http://www.w3.org/2000/svg\" height=\"24px\"viewBox=\"0 0 24 24\"\n",
              "       width=\"24px\">\n",
              "    <path d=\"M0 0h24v24H0V0z\" fill=\"none\"/>\n",
              "    <path d=\"M18.56 5.44l.94 2.06.94-2.06 2.06-.94-2.06-.94-.94-2.06-.94 2.06-2.06.94zm-11 1L8.5 8.5l.94-2.06 2.06-.94-2.06-.94L8.5 2.5l-.94 2.06-2.06.94zm10 10l.94 2.06.94-2.06 2.06-.94-2.06-.94-.94-2.06-.94 2.06-2.06.94z\"/><path d=\"M17.41 7.96l-1.37-1.37c-.4-.4-.92-.59-1.43-.59-.52 0-1.04.2-1.43.59L10.3 9.45l-7.72 7.72c-.78.78-.78 2.05 0 2.83L4 21.41c.39.39.9.59 1.41.59.51 0 1.02-.2 1.41-.59l7.78-7.78 2.81-2.81c.8-.78.8-2.07 0-2.86zM5.41 20L4 18.59l7.72-7.72 1.47 1.35L5.41 20z\"/>\n",
              "  </svg>\n",
              "      </button>\n",
              "      \n",
              "  <style>\n",
              "    .colab-df-container {\n",
              "      display:flex;\n",
              "      flex-wrap:wrap;\n",
              "      gap: 12px;\n",
              "    }\n",
              "\n",
              "    .colab-df-convert {\n",
              "      background-color: #E8F0FE;\n",
              "      border: none;\n",
              "      border-radius: 50%;\n",
              "      cursor: pointer;\n",
              "      display: none;\n",
              "      fill: #1967D2;\n",
              "      height: 32px;\n",
              "      padding: 0 0 0 0;\n",
              "      width: 32px;\n",
              "    }\n",
              "\n",
              "    .colab-df-convert:hover {\n",
              "      background-color: #E2EBFA;\n",
              "      box-shadow: 0px 1px 2px rgba(60, 64, 67, 0.3), 0px 1px 3px 1px rgba(60, 64, 67, 0.15);\n",
              "      fill: #174EA6;\n",
              "    }\n",
              "\n",
              "    [theme=dark] .colab-df-convert {\n",
              "      background-color: #3B4455;\n",
              "      fill: #D2E3FC;\n",
              "    }\n",
              "\n",
              "    [theme=dark] .colab-df-convert:hover {\n",
              "      background-color: #434B5C;\n",
              "      box-shadow: 0px 1px 3px 1px rgba(0, 0, 0, 0.15);\n",
              "      filter: drop-shadow(0px 1px 2px rgba(0, 0, 0, 0.3));\n",
              "      fill: #FFFFFF;\n",
              "    }\n",
              "  </style>\n",
              "\n",
              "      <script>\n",
              "        const buttonEl =\n",
              "          document.querySelector('#df-b4aa4c9f-44b4-4e97-a891-2cd10fce55b5 button.colab-df-convert');\n",
              "        buttonEl.style.display =\n",
              "          google.colab.kernel.accessAllowed ? 'block' : 'none';\n",
              "\n",
              "        async function convertToInteractive(key) {\n",
              "          const element = document.querySelector('#df-b4aa4c9f-44b4-4e97-a891-2cd10fce55b5');\n",
              "          const dataTable =\n",
              "            await google.colab.kernel.invokeFunction('convertToInteractive',\n",
              "                                                     [key], {});\n",
              "          if (!dataTable) return;\n",
              "\n",
              "          const docLinkHtml = 'Like what you see? Visit the ' +\n",
              "            '<a target=\"_blank\" href=https://colab.research.google.com/notebooks/data_table.ipynb>data table notebook</a>'\n",
              "            + ' to learn more about interactive tables.';\n",
              "          element.innerHTML = '';\n",
              "          dataTable['output_type'] = 'display_data';\n",
              "          await google.colab.output.renderOutput(dataTable, element);\n",
              "          const docLink = document.createElement('div');\n",
              "          docLink.innerHTML = docLinkHtml;\n",
              "          element.appendChild(docLink);\n",
              "        }\n",
              "      </script>\n",
              "    </div>\n",
              "  </div>\n",
              "  "
            ],
            "text/plain": [
              "   RowNumber  CustomerId   Surname  ...  IsActiveMember EstimatedSalary Exited\n",
              "0          1    15634602  Hargrave  ...               1       101348.88      1\n",
              "1          2    15647311      Hill  ...               1       112542.58      0\n",
              "2          3    15619304      Onio  ...               0       113931.57      1\n",
              "3          4    15701354      Boni  ...               0        93826.63      0\n",
              "4          5    15737888  Mitchell  ...               1        79084.10      0\n",
              "\n",
              "[5 rows x 14 columns]"
            ]
          },
          "metadata": {},
          "execution_count": 4
        }
      ],
      "source": [
        "# Review a small sample of the data.\n",
        "data.head()"
      ]
    },
    {
      "cell_type": "code",
      "execution_count": 5,
      "id": "11fe211e",
      "metadata": {
        "scrolled": false,
        "id": "11fe211e",
        "colab": {
          "base_uri": "https://localhost:8080/"
        },
        "outputId": "02735094-6b1c-45ad-86ef-e6f30f52b11d"
      },
      "outputs": [
        {
          "output_type": "execute_result",
          "data": {
            "text/plain": [
              "RowNumber          0\n",
              "CustomerId         0\n",
              "Surname            0\n",
              "CreditScore        0\n",
              "Geography          0\n",
              "Gender             0\n",
              "Age                0\n",
              "Tenure             0\n",
              "Balance            0\n",
              "NumOfProducts      0\n",
              "HasCrCard          0\n",
              "IsActiveMember     0\n",
              "EstimatedSalary    0\n",
              "Exited             0\n",
              "dtype: int64"
            ]
          },
          "metadata": {},
          "execution_count": 5
        }
      ],
      "source": [
        "#Checking for null values\n",
        "data.isnull().sum()"
      ]
    },
    {
      "cell_type": "code",
      "execution_count": 6,
      "id": "c4c164ca",
      "metadata": {
        "scrolled": false,
        "id": "c4c164ca",
        "colab": {
          "base_uri": "https://localhost:8080/"
        },
        "outputId": "282aca68-920b-4275-df01-7161f298b80e"
      },
      "outputs": [
        {
          "output_type": "stream",
          "name": "stdout",
          "text": [
            "<class 'pandas.core.frame.DataFrame'>\n",
            "RangeIndex: 10000 entries, 0 to 9999\n",
            "Data columns (total 14 columns):\n",
            " #   Column           Non-Null Count  Dtype  \n",
            "---  ------           --------------  -----  \n",
            " 0   RowNumber        10000 non-null  int64  \n",
            " 1   CustomerId       10000 non-null  int64  \n",
            " 2   Surname          10000 non-null  object \n",
            " 3   CreditScore      10000 non-null  int64  \n",
            " 4   Geography        10000 non-null  object \n",
            " 5   Gender           10000 non-null  object \n",
            " 6   Age              10000 non-null  int64  \n",
            " 7   Tenure           10000 non-null  int64  \n",
            " 8   Balance          10000 non-null  float64\n",
            " 9   NumOfProducts    10000 non-null  int64  \n",
            " 10  HasCrCard        10000 non-null  int64  \n",
            " 11  IsActiveMember   10000 non-null  int64  \n",
            " 12  EstimatedSalary  10000 non-null  float64\n",
            " 13  Exited           10000 non-null  int64  \n",
            "dtypes: float64(2), int64(9), object(3)\n",
            "memory usage: 1.1+ MB\n"
          ]
        }
      ],
      "source": [
        "# Detailed overview of the dataframe itself.\n",
        "data.info()"
      ]
    },
    {
      "cell_type": "markdown",
      "id": "7e2b733d",
      "metadata": {
        "id": "7e2b733d"
      },
      "source": [
        "From the above:\n",
        "    Notice that there are no Non-Null Count values, e.g. there are no missing values in this data set.\n",
        "    Also notice the different types of data: integer (int64), float (float64), and text (object).\n",
        "    Geography and Gender need to be converted from a text value to a numeric value for modelling."
      ]
    },
    {
      "cell_type": "code",
      "execution_count": 7,
      "id": "70475a7a",
      "metadata": {
        "id": "70475a7a",
        "colab": {
          "base_uri": "https://localhost:8080/"
        },
        "outputId": "5ecaf36e-de0d-414f-986f-1da68d22e24f"
      },
      "outputs": [
        {
          "output_type": "execute_result",
          "data": {
            "text/plain": [
              "(10000, 14)"
            ]
          },
          "metadata": {},
          "execution_count": 7
        }
      ],
      "source": [
        "# remove duplicates, if any\n",
        "data = data[~data.duplicated()] \n",
        "data.shape\n",
        "#No duplicate values"
      ]
    },
    {
      "cell_type": "markdown",
      "id": "21fbaa34",
      "metadata": {
        "id": "21fbaa34"
      },
      "source": [
        "## Transformation"
      ]
    },
    {
      "cell_type": "markdown",
      "id": "069b227c",
      "metadata": {
        "id": "069b227c"
      },
      "source": [
        "Encoding the categorical variables - Change the text into numbers\n",
        "Review the unique values in the Geography column."
      ]
    },
    {
      "cell_type": "code",
      "execution_count": 8,
      "id": "7c36710a",
      "metadata": {
        "id": "7c36710a",
        "colab": {
          "base_uri": "https://localhost:8080/"
        },
        "outputId": "81ce3a76-5f6f-4e6c-ed55-f50e4b8676ac"
      },
      "outputs": [
        {
          "output_type": "execute_result",
          "data": {
            "text/plain": [
              "array(['France', 'Spain', 'Germany'], dtype=object)"
            ]
          },
          "metadata": {},
          "execution_count": 8
        }
      ],
      "source": [
        "data.Geography.unique()"
      ]
    },
    {
      "cell_type": "code",
      "execution_count": 9,
      "id": "8fd36f6b",
      "metadata": {
        "id": "8fd36f6b",
        "colab": {
          "base_uri": "https://localhost:8080/"
        },
        "outputId": "878308c4-764b-432c-809c-8b67dad7d300"
      },
      "outputs": [
        {
          "output_type": "execute_result",
          "data": {
            "text/plain": [
              "array(['Female', 'Male'], dtype=object)"
            ]
          },
          "metadata": {},
          "execution_count": 9
        }
      ],
      "source": [
        "data.Gender.unique()"
      ]
    },
    {
      "cell_type": "markdown",
      "id": "cf7d8dc5",
      "metadata": {
        "id": "cf7d8dc5"
      },
      "source": [
        "Convert the categorical values into numeric categorical labels so that this data can be reviewed in the EDA, e.g. correlations."
      ]
    },
    {
      "cell_type": "code",
      "execution_count": 10,
      "id": "faf60dc9",
      "metadata": {
        "id": "faf60dc9"
      },
      "outputs": [],
      "source": [
        "#Decision tree needs data to be numeric\n",
        "data['CountryCode'] = data['Geography'].astype('category').cat.codes\n",
        "data['GenderCode'] = data['Gender'].astype('category').cat.codes"
      ]
    },
    {
      "cell_type": "markdown",
      "id": "2e817e94",
      "metadata": {
        "id": "2e817e94"
      },
      "source": [
        "Geography - (0:France, 1:Germany, 2:Spain)\n",
        "Gender - (0:Female, 1:Male)"
      ]
    },
    {
      "cell_type": "code",
      "execution_count": 11,
      "id": "976067e0",
      "metadata": {
        "scrolled": true,
        "id": "976067e0",
        "colab": {
          "base_uri": "https://localhost:8080/",
          "height": 206
        },
        "outputId": "179a9e68-062f-4633-e6e2-5526527992c7"
      },
      "outputs": [
        {
          "output_type": "execute_result",
          "data": {
            "text/html": [
              "\n",
              "  <div id=\"df-c47ec939-2207-4e1c-87ff-9fe5e00d8e06\">\n",
              "    <div class=\"colab-df-container\">\n",
              "      <div>\n",
              "<style scoped>\n",
              "    .dataframe tbody tr th:only-of-type {\n",
              "        vertical-align: middle;\n",
              "    }\n",
              "\n",
              "    .dataframe tbody tr th {\n",
              "        vertical-align: top;\n",
              "    }\n",
              "\n",
              "    .dataframe thead th {\n",
              "        text-align: right;\n",
              "    }\n",
              "</style>\n",
              "<table border=\"1\" class=\"dataframe\">\n",
              "  <thead>\n",
              "    <tr style=\"text-align: right;\">\n",
              "      <th></th>\n",
              "      <th>RowNumber</th>\n",
              "      <th>CustomerId</th>\n",
              "      <th>Surname</th>\n",
              "      <th>CreditScore</th>\n",
              "      <th>Geography</th>\n",
              "      <th>Gender</th>\n",
              "      <th>Age</th>\n",
              "      <th>Tenure</th>\n",
              "      <th>Balance</th>\n",
              "      <th>NumOfProducts</th>\n",
              "      <th>HasCrCard</th>\n",
              "      <th>IsActiveMember</th>\n",
              "      <th>EstimatedSalary</th>\n",
              "      <th>Exited</th>\n",
              "      <th>CountryCode</th>\n",
              "      <th>GenderCode</th>\n",
              "    </tr>\n",
              "  </thead>\n",
              "  <tbody>\n",
              "    <tr>\n",
              "      <th>0</th>\n",
              "      <td>1</td>\n",
              "      <td>15634602</td>\n",
              "      <td>Hargrave</td>\n",
              "      <td>619</td>\n",
              "      <td>France</td>\n",
              "      <td>Female</td>\n",
              "      <td>42</td>\n",
              "      <td>2</td>\n",
              "      <td>0.00</td>\n",
              "      <td>1</td>\n",
              "      <td>1</td>\n",
              "      <td>1</td>\n",
              "      <td>101348.88</td>\n",
              "      <td>1</td>\n",
              "      <td>0</td>\n",
              "      <td>0</td>\n",
              "    </tr>\n",
              "    <tr>\n",
              "      <th>1</th>\n",
              "      <td>2</td>\n",
              "      <td>15647311</td>\n",
              "      <td>Hill</td>\n",
              "      <td>608</td>\n",
              "      <td>Spain</td>\n",
              "      <td>Female</td>\n",
              "      <td>41</td>\n",
              "      <td>1</td>\n",
              "      <td>83807.86</td>\n",
              "      <td>1</td>\n",
              "      <td>0</td>\n",
              "      <td>1</td>\n",
              "      <td>112542.58</td>\n",
              "      <td>0</td>\n",
              "      <td>2</td>\n",
              "      <td>0</td>\n",
              "    </tr>\n",
              "    <tr>\n",
              "      <th>2</th>\n",
              "      <td>3</td>\n",
              "      <td>15619304</td>\n",
              "      <td>Onio</td>\n",
              "      <td>502</td>\n",
              "      <td>France</td>\n",
              "      <td>Female</td>\n",
              "      <td>42</td>\n",
              "      <td>8</td>\n",
              "      <td>159660.80</td>\n",
              "      <td>3</td>\n",
              "      <td>1</td>\n",
              "      <td>0</td>\n",
              "      <td>113931.57</td>\n",
              "      <td>1</td>\n",
              "      <td>0</td>\n",
              "      <td>0</td>\n",
              "    </tr>\n",
              "    <tr>\n",
              "      <th>3</th>\n",
              "      <td>4</td>\n",
              "      <td>15701354</td>\n",
              "      <td>Boni</td>\n",
              "      <td>699</td>\n",
              "      <td>France</td>\n",
              "      <td>Female</td>\n",
              "      <td>39</td>\n",
              "      <td>1</td>\n",
              "      <td>0.00</td>\n",
              "      <td>2</td>\n",
              "      <td>0</td>\n",
              "      <td>0</td>\n",
              "      <td>93826.63</td>\n",
              "      <td>0</td>\n",
              "      <td>0</td>\n",
              "      <td>0</td>\n",
              "    </tr>\n",
              "    <tr>\n",
              "      <th>4</th>\n",
              "      <td>5</td>\n",
              "      <td>15737888</td>\n",
              "      <td>Mitchell</td>\n",
              "      <td>850</td>\n",
              "      <td>Spain</td>\n",
              "      <td>Female</td>\n",
              "      <td>43</td>\n",
              "      <td>2</td>\n",
              "      <td>125510.82</td>\n",
              "      <td>1</td>\n",
              "      <td>1</td>\n",
              "      <td>1</td>\n",
              "      <td>79084.10</td>\n",
              "      <td>0</td>\n",
              "      <td>2</td>\n",
              "      <td>0</td>\n",
              "    </tr>\n",
              "  </tbody>\n",
              "</table>\n",
              "</div>\n",
              "      <button class=\"colab-df-convert\" onclick=\"convertToInteractive('df-c47ec939-2207-4e1c-87ff-9fe5e00d8e06')\"\n",
              "              title=\"Convert this dataframe to an interactive table.\"\n",
              "              style=\"display:none;\">\n",
              "        \n",
              "  <svg xmlns=\"http://www.w3.org/2000/svg\" height=\"24px\"viewBox=\"0 0 24 24\"\n",
              "       width=\"24px\">\n",
              "    <path d=\"M0 0h24v24H0V0z\" fill=\"none\"/>\n",
              "    <path d=\"M18.56 5.44l.94 2.06.94-2.06 2.06-.94-2.06-.94-.94-2.06-.94 2.06-2.06.94zm-11 1L8.5 8.5l.94-2.06 2.06-.94-2.06-.94L8.5 2.5l-.94 2.06-2.06.94zm10 10l.94 2.06.94-2.06 2.06-.94-2.06-.94-.94-2.06-.94 2.06-2.06.94z\"/><path d=\"M17.41 7.96l-1.37-1.37c-.4-.4-.92-.59-1.43-.59-.52 0-1.04.2-1.43.59L10.3 9.45l-7.72 7.72c-.78.78-.78 2.05 0 2.83L4 21.41c.39.39.9.59 1.41.59.51 0 1.02-.2 1.41-.59l7.78-7.78 2.81-2.81c.8-.78.8-2.07 0-2.86zM5.41 20L4 18.59l7.72-7.72 1.47 1.35L5.41 20z\"/>\n",
              "  </svg>\n",
              "      </button>\n",
              "      \n",
              "  <style>\n",
              "    .colab-df-container {\n",
              "      display:flex;\n",
              "      flex-wrap:wrap;\n",
              "      gap: 12px;\n",
              "    }\n",
              "\n",
              "    .colab-df-convert {\n",
              "      background-color: #E8F0FE;\n",
              "      border: none;\n",
              "      border-radius: 50%;\n",
              "      cursor: pointer;\n",
              "      display: none;\n",
              "      fill: #1967D2;\n",
              "      height: 32px;\n",
              "      padding: 0 0 0 0;\n",
              "      width: 32px;\n",
              "    }\n",
              "\n",
              "    .colab-df-convert:hover {\n",
              "      background-color: #E2EBFA;\n",
              "      box-shadow: 0px 1px 2px rgba(60, 64, 67, 0.3), 0px 1px 3px 1px rgba(60, 64, 67, 0.15);\n",
              "      fill: #174EA6;\n",
              "    }\n",
              "\n",
              "    [theme=dark] .colab-df-convert {\n",
              "      background-color: #3B4455;\n",
              "      fill: #D2E3FC;\n",
              "    }\n",
              "\n",
              "    [theme=dark] .colab-df-convert:hover {\n",
              "      background-color: #434B5C;\n",
              "      box-shadow: 0px 1px 3px 1px rgba(0, 0, 0, 0.15);\n",
              "      filter: drop-shadow(0px 1px 2px rgba(0, 0, 0, 0.3));\n",
              "      fill: #FFFFFF;\n",
              "    }\n",
              "  </style>\n",
              "\n",
              "      <script>\n",
              "        const buttonEl =\n",
              "          document.querySelector('#df-c47ec939-2207-4e1c-87ff-9fe5e00d8e06 button.colab-df-convert');\n",
              "        buttonEl.style.display =\n",
              "          google.colab.kernel.accessAllowed ? 'block' : 'none';\n",
              "\n",
              "        async function convertToInteractive(key) {\n",
              "          const element = document.querySelector('#df-c47ec939-2207-4e1c-87ff-9fe5e00d8e06');\n",
              "          const dataTable =\n",
              "            await google.colab.kernel.invokeFunction('convertToInteractive',\n",
              "                                                     [key], {});\n",
              "          if (!dataTable) return;\n",
              "\n",
              "          const docLinkHtml = 'Like what you see? Visit the ' +\n",
              "            '<a target=\"_blank\" href=https://colab.research.google.com/notebooks/data_table.ipynb>data table notebook</a>'\n",
              "            + ' to learn more about interactive tables.';\n",
              "          element.innerHTML = '';\n",
              "          dataTable['output_type'] = 'display_data';\n",
              "          await google.colab.output.renderOutput(dataTable, element);\n",
              "          const docLink = document.createElement('div');\n",
              "          docLink.innerHTML = docLinkHtml;\n",
              "          element.appendChild(docLink);\n",
              "        }\n",
              "      </script>\n",
              "    </div>\n",
              "  </div>\n",
              "  "
            ],
            "text/plain": [
              "   RowNumber  CustomerId   Surname  ...  Exited CountryCode GenderCode\n",
              "0          1    15634602  Hargrave  ...       1           0          0\n",
              "1          2    15647311      Hill  ...       0           2          0\n",
              "2          3    15619304      Onio  ...       1           0          0\n",
              "3          4    15701354      Boni  ...       0           0          0\n",
              "4          5    15737888  Mitchell  ...       0           2          0\n",
              "\n",
              "[5 rows x 16 columns]"
            ]
          },
          "metadata": {},
          "execution_count": 11
        }
      ],
      "source": [
        "data.head()"
      ]
    },
    {
      "cell_type": "markdown",
      "id": "93c3ede4",
      "metadata": {
        "id": "93c3ede4"
      },
      "source": [
        "From the above, notice that:\n",
        "    The Geography and Gender have been converted to numeric values.\n",
        "    There are two new columns with these values: CountryCode and GenderCode."
      ]
    },
    {
      "cell_type": "markdown",
      "id": "99eedb87",
      "metadata": {
        "id": "99eedb87"
      },
      "source": [
        "Quick review - columns that are not useful:\n",
        "CustomerId - a unique customer ID number.\n",
        "RowNumber - This is simply a row number of the data.\n",
        "Surname - does not add any strength as a model input.\n",
        "Geography - this has been converted to a numeric value instead of text.\n",
        "Gender - this has been converted to a numeric value instead of text."
      ]
    },
    {
      "cell_type": "markdown",
      "id": "e17fb2fe",
      "metadata": {
        "id": "e17fb2fe"
      },
      "source": [
        "## Choosing predictor variables and target variable for performing Classification\n",
        "Target and Source variables\n",
        "\n",
        "Target Variable: Exited\n",
        "Predictor Variables: CreditScore, CountryCode, GenderCode, Age, Tenure, Balance, NumOfProducts, HasCrCard, IsActiveMember, EstimatedSalary"
      ]
    },
    {
      "cell_type": "markdown",
      "id": "f0aa655a",
      "metadata": {
        "id": "f0aa655a"
      },
      "source": [
        "## Create a new dataframe that includes only the selected columns"
      ]
    },
    {
      "cell_type": "code",
      "execution_count": 12,
      "id": "487f0d10",
      "metadata": {
        "id": "487f0d10"
      },
      "outputs": [],
      "source": [
        "df = data[['CreditScore', 'CountryCode', 'GenderCode', 'Age', 'Tenure', 'Balance', 'NumOfProducts', 'HasCrCard',\n",
        "             'IsActiveMember', 'EstimatedSalary', 'Exited']]"
      ]
    },
    {
      "cell_type": "code",
      "execution_count": 13,
      "id": "9a623bcd",
      "metadata": {
        "id": "9a623bcd",
        "colab": {
          "base_uri": "https://localhost:8080/",
          "height": 206
        },
        "outputId": "22b9c26a-39c0-4b7e-aee5-bc187f5bbc03"
      },
      "outputs": [
        {
          "output_type": "execute_result",
          "data": {
            "text/html": [
              "\n",
              "  <div id=\"df-dbe33705-eb8e-49fa-80d4-6634b2f3bf85\">\n",
              "    <div class=\"colab-df-container\">\n",
              "      <div>\n",
              "<style scoped>\n",
              "    .dataframe tbody tr th:only-of-type {\n",
              "        vertical-align: middle;\n",
              "    }\n",
              "\n",
              "    .dataframe tbody tr th {\n",
              "        vertical-align: top;\n",
              "    }\n",
              "\n",
              "    .dataframe thead th {\n",
              "        text-align: right;\n",
              "    }\n",
              "</style>\n",
              "<table border=\"1\" class=\"dataframe\">\n",
              "  <thead>\n",
              "    <tr style=\"text-align: right;\">\n",
              "      <th></th>\n",
              "      <th>CreditScore</th>\n",
              "      <th>CountryCode</th>\n",
              "      <th>GenderCode</th>\n",
              "      <th>Age</th>\n",
              "      <th>Tenure</th>\n",
              "      <th>Balance</th>\n",
              "      <th>NumOfProducts</th>\n",
              "      <th>HasCrCard</th>\n",
              "      <th>IsActiveMember</th>\n",
              "      <th>EstimatedSalary</th>\n",
              "      <th>Exited</th>\n",
              "    </tr>\n",
              "  </thead>\n",
              "  <tbody>\n",
              "    <tr>\n",
              "      <th>0</th>\n",
              "      <td>619</td>\n",
              "      <td>0</td>\n",
              "      <td>0</td>\n",
              "      <td>42</td>\n",
              "      <td>2</td>\n",
              "      <td>0.00</td>\n",
              "      <td>1</td>\n",
              "      <td>1</td>\n",
              "      <td>1</td>\n",
              "      <td>101348.88</td>\n",
              "      <td>1</td>\n",
              "    </tr>\n",
              "    <tr>\n",
              "      <th>1</th>\n",
              "      <td>608</td>\n",
              "      <td>2</td>\n",
              "      <td>0</td>\n",
              "      <td>41</td>\n",
              "      <td>1</td>\n",
              "      <td>83807.86</td>\n",
              "      <td>1</td>\n",
              "      <td>0</td>\n",
              "      <td>1</td>\n",
              "      <td>112542.58</td>\n",
              "      <td>0</td>\n",
              "    </tr>\n",
              "    <tr>\n",
              "      <th>2</th>\n",
              "      <td>502</td>\n",
              "      <td>0</td>\n",
              "      <td>0</td>\n",
              "      <td>42</td>\n",
              "      <td>8</td>\n",
              "      <td>159660.80</td>\n",
              "      <td>3</td>\n",
              "      <td>1</td>\n",
              "      <td>0</td>\n",
              "      <td>113931.57</td>\n",
              "      <td>1</td>\n",
              "    </tr>\n",
              "    <tr>\n",
              "      <th>3</th>\n",
              "      <td>699</td>\n",
              "      <td>0</td>\n",
              "      <td>0</td>\n",
              "      <td>39</td>\n",
              "      <td>1</td>\n",
              "      <td>0.00</td>\n",
              "      <td>2</td>\n",
              "      <td>0</td>\n",
              "      <td>0</td>\n",
              "      <td>93826.63</td>\n",
              "      <td>0</td>\n",
              "    </tr>\n",
              "    <tr>\n",
              "      <th>4</th>\n",
              "      <td>850</td>\n",
              "      <td>2</td>\n",
              "      <td>0</td>\n",
              "      <td>43</td>\n",
              "      <td>2</td>\n",
              "      <td>125510.82</td>\n",
              "      <td>1</td>\n",
              "      <td>1</td>\n",
              "      <td>1</td>\n",
              "      <td>79084.10</td>\n",
              "      <td>0</td>\n",
              "    </tr>\n",
              "  </tbody>\n",
              "</table>\n",
              "</div>\n",
              "      <button class=\"colab-df-convert\" onclick=\"convertToInteractive('df-dbe33705-eb8e-49fa-80d4-6634b2f3bf85')\"\n",
              "              title=\"Convert this dataframe to an interactive table.\"\n",
              "              style=\"display:none;\">\n",
              "        \n",
              "  <svg xmlns=\"http://www.w3.org/2000/svg\" height=\"24px\"viewBox=\"0 0 24 24\"\n",
              "       width=\"24px\">\n",
              "    <path d=\"M0 0h24v24H0V0z\" fill=\"none\"/>\n",
              "    <path d=\"M18.56 5.44l.94 2.06.94-2.06 2.06-.94-2.06-.94-.94-2.06-.94 2.06-2.06.94zm-11 1L8.5 8.5l.94-2.06 2.06-.94-2.06-.94L8.5 2.5l-.94 2.06-2.06.94zm10 10l.94 2.06.94-2.06 2.06-.94-2.06-.94-.94-2.06-.94 2.06-2.06.94z\"/><path d=\"M17.41 7.96l-1.37-1.37c-.4-.4-.92-.59-1.43-.59-.52 0-1.04.2-1.43.59L10.3 9.45l-7.72 7.72c-.78.78-.78 2.05 0 2.83L4 21.41c.39.39.9.59 1.41.59.51 0 1.02-.2 1.41-.59l7.78-7.78 2.81-2.81c.8-.78.8-2.07 0-2.86zM5.41 20L4 18.59l7.72-7.72 1.47 1.35L5.41 20z\"/>\n",
              "  </svg>\n",
              "      </button>\n",
              "      \n",
              "  <style>\n",
              "    .colab-df-container {\n",
              "      display:flex;\n",
              "      flex-wrap:wrap;\n",
              "      gap: 12px;\n",
              "    }\n",
              "\n",
              "    .colab-df-convert {\n",
              "      background-color: #E8F0FE;\n",
              "      border: none;\n",
              "      border-radius: 50%;\n",
              "      cursor: pointer;\n",
              "      display: none;\n",
              "      fill: #1967D2;\n",
              "      height: 32px;\n",
              "      padding: 0 0 0 0;\n",
              "      width: 32px;\n",
              "    }\n",
              "\n",
              "    .colab-df-convert:hover {\n",
              "      background-color: #E2EBFA;\n",
              "      box-shadow: 0px 1px 2px rgba(60, 64, 67, 0.3), 0px 1px 3px 1px rgba(60, 64, 67, 0.15);\n",
              "      fill: #174EA6;\n",
              "    }\n",
              "\n",
              "    [theme=dark] .colab-df-convert {\n",
              "      background-color: #3B4455;\n",
              "      fill: #D2E3FC;\n",
              "    }\n",
              "\n",
              "    [theme=dark] .colab-df-convert:hover {\n",
              "      background-color: #434B5C;\n",
              "      box-shadow: 0px 1px 3px 1px rgba(0, 0, 0, 0.15);\n",
              "      filter: drop-shadow(0px 1px 2px rgba(0, 0, 0, 0.3));\n",
              "      fill: #FFFFFF;\n",
              "    }\n",
              "  </style>\n",
              "\n",
              "      <script>\n",
              "        const buttonEl =\n",
              "          document.querySelector('#df-dbe33705-eb8e-49fa-80d4-6634b2f3bf85 button.colab-df-convert');\n",
              "        buttonEl.style.display =\n",
              "          google.colab.kernel.accessAllowed ? 'block' : 'none';\n",
              "\n",
              "        async function convertToInteractive(key) {\n",
              "          const element = document.querySelector('#df-dbe33705-eb8e-49fa-80d4-6634b2f3bf85');\n",
              "          const dataTable =\n",
              "            await google.colab.kernel.invokeFunction('convertToInteractive',\n",
              "                                                     [key], {});\n",
              "          if (!dataTable) return;\n",
              "\n",
              "          const docLinkHtml = 'Like what you see? Visit the ' +\n",
              "            '<a target=\"_blank\" href=https://colab.research.google.com/notebooks/data_table.ipynb>data table notebook</a>'\n",
              "            + ' to learn more about interactive tables.';\n",
              "          element.innerHTML = '';\n",
              "          dataTable['output_type'] = 'display_data';\n",
              "          await google.colab.output.renderOutput(dataTable, element);\n",
              "          const docLink = document.createElement('div');\n",
              "          docLink.innerHTML = docLinkHtml;\n",
              "          element.appendChild(docLink);\n",
              "        }\n",
              "      </script>\n",
              "    </div>\n",
              "  </div>\n",
              "  "
            ],
            "text/plain": [
              "   CreditScore  CountryCode  ...  EstimatedSalary  Exited\n",
              "0          619            0  ...        101348.88       1\n",
              "1          608            2  ...        112542.58       0\n",
              "2          502            0  ...        113931.57       1\n",
              "3          699            0  ...         93826.63       0\n",
              "4          850            2  ...         79084.10       0\n",
              "\n",
              "[5 rows x 11 columns]"
            ]
          },
          "metadata": {},
          "execution_count": 13
        }
      ],
      "source": [
        "df.head()"
      ]
    },
    {
      "cell_type": "markdown",
      "id": "346e9de1",
      "metadata": {
        "id": "346e9de1"
      },
      "source": [
        "### Investigate correlation in the new dataframe.\n",
        "Pandas has a built-in correlation function. The df_new dataframe will be used to examine correlation."
      ]
    },
    {
      "cell_type": "code",
      "execution_count": 14,
      "id": "07150e3b",
      "metadata": {
        "scrolled": false,
        "id": "07150e3b",
        "colab": {
          "base_uri": "https://localhost:8080/",
          "height": 394
        },
        "outputId": "29e75cf6-bf4a-4109-cb7f-297b25598bbe"
      },
      "outputs": [
        {
          "output_type": "execute_result",
          "data": {
            "text/html": [
              "<style type=\"text/css\">\n",
              "#T_5da55_row0_col0, #T_5da55_row1_col1, #T_5da55_row2_col2, #T_5da55_row3_col3, #T_5da55_row4_col4, #T_5da55_row5_col5, #T_5da55_row6_col6, #T_5da55_row7_col7, #T_5da55_row8_col8, #T_5da55_row9_col9, #T_5da55_row10_col10 {\n",
              "  background-color: #b40426;\n",
              "  color: #f1f1f1;\n",
              "}\n",
              "#T_5da55_row0_col1, #T_5da55_row3_col4, #T_5da55_row4_col9, #T_5da55_row5_col4, #T_5da55_row6_col7, #T_5da55_row7_col3 {\n",
              "  background-color: #3f53c6;\n",
              "  color: #f1f1f1;\n",
              "}\n",
              "#T_5da55_row0_col2, #T_5da55_row6_col10 {\n",
              "  background-color: #5673e0;\n",
              "  color: #f1f1f1;\n",
              "}\n",
              "#T_5da55_row0_col3, #T_5da55_row2_col0, #T_5da55_row4_col0, #T_5da55_row5_col9, #T_5da55_row6_col9, #T_5da55_row9_col0 {\n",
              "  background-color: #4257c9;\n",
              "  color: #f1f1f1;\n",
              "}\n",
              "#T_5da55_row0_col4, #T_5da55_row1_col4, #T_5da55_row3_col1 {\n",
              "  background-color: #4358cb;\n",
              "  color: #f1f1f1;\n",
              "}\n",
              "#T_5da55_row0_col5, #T_5da55_row1_col6, #T_5da55_row5_col10, #T_5da55_row7_col6 {\n",
              "  background-color: #88abfd;\n",
              "  color: #000000;\n",
              "}\n",
              "#T_5da55_row0_col6, #T_5da55_row2_col5, #T_5da55_row4_col6, #T_5da55_row9_col5, #T_5da55_row9_col6 {\n",
              "  background-color: #8badfd;\n",
              "  color: #000000;\n",
              "}\n",
              "#T_5da55_row0_col7, #T_5da55_row0_col9, #T_5da55_row1_col9 {\n",
              "  background-color: #3d50c3;\n",
              "  color: #f1f1f1;\n",
              "}\n",
              "#T_5da55_row0_col8 {\n",
              "  background-color: #6c8ff1;\n",
              "  color: #f1f1f1;\n",
              "}\n",
              "#T_5da55_row0_col10, #T_5da55_row4_col2, #T_5da55_row4_col8, #T_5da55_row8_col3 {\n",
              "  background-color: #5d7ce6;\n",
              "  color: #f1f1f1;\n",
              "}\n",
              "#T_5da55_row1_col0, #T_5da55_row5_col0, #T_5da55_row9_col4 {\n",
              "  background-color: #445acc;\n",
              "  color: #f1f1f1;\n",
              "}\n",
              "#T_5da55_row1_col2, #T_5da55_row7_col2 {\n",
              "  background-color: #5977e3;\n",
              "  color: #f1f1f1;\n",
              "}\n",
              "#T_5da55_row1_col3, #T_5da55_row8_col0 {\n",
              "  background-color: #4a63d3;\n",
              "  color: #f1f1f1;\n",
              "}\n",
              "#T_5da55_row1_col5 {\n",
              "  background-color: #9abbff;\n",
              "  color: #000000;\n",
              "}\n",
              "#T_5da55_row1_col7, #T_5da55_row3_col9, #T_5da55_row9_col1, #T_5da55_row9_col7, #T_5da55_row10_col7 {\n",
              "  background-color: #3c4ec2;\n",
              "  color: #f1f1f1;\n",
              "}\n",
              "#T_5da55_row1_col8, #T_5da55_row6_col8 {\n",
              "  background-color: #6788ee;\n",
              "  color: #f1f1f1;\n",
              "}\n",
              "#T_5da55_row1_col10 {\n",
              "  background-color: #6f92f3;\n",
              "  color: #f1f1f1;\n",
              "}\n",
              "#T_5da55_row2_col1, #T_5da55_row4_col1, #T_5da55_row6_col1, #T_5da55_row8_col1, #T_5da55_row10_col4 {\n",
              "  background-color: #3e51c5;\n",
              "  color: #f1f1f1;\n",
              "}\n",
              "#T_5da55_row2_col3, #T_5da55_row2_col9, #T_5da55_row3_col7, #T_5da55_row5_col6, #T_5da55_row5_col7, #T_5da55_row6_col3, #T_5da55_row6_col5, #T_5da55_row7_col1, #T_5da55_row7_col9, #T_5da55_row8_col4, #T_5da55_row8_col7, #T_5da55_row8_col9, #T_5da55_row8_col10, #T_5da55_row10_col0, #T_5da55_row10_col2, #T_5da55_row10_col8 {\n",
              "  background-color: #3b4cc0;\n",
              "  color: #f1f1f1;\n",
              "}\n",
              "#T_5da55_row2_col4, #T_5da55_row2_col10, #T_5da55_row6_col4 {\n",
              "  background-color: #465ecf;\n",
              "  color: #f1f1f1;\n",
              "}\n",
              "#T_5da55_row2_col6 {\n",
              "  background-color: #81a4fb;\n",
              "  color: #f1f1f1;\n",
              "}\n",
              "#T_5da55_row2_col7, #T_5da55_row3_col0, #T_5da55_row4_col3, #T_5da55_row7_col0, #T_5da55_row9_col3, #T_5da55_row10_col9 {\n",
              "  background-color: #4055c8;\n",
              "  color: #f1f1f1;\n",
              "}\n",
              "#T_5da55_row2_col8 {\n",
              "  background-color: #6b8df0;\n",
              "  color: #f1f1f1;\n",
              "}\n",
              "#T_5da55_row3_col2 {\n",
              "  background-color: #506bda;\n",
              "  color: #f1f1f1;\n",
              "}\n",
              "#T_5da55_row3_col5 {\n",
              "  background-color: #8fb1fe;\n",
              "  color: #000000;\n",
              "}\n",
              "#T_5da55_row3_col6, #T_5da55_row3_col8 {\n",
              "  background-color: #7ea1fa;\n",
              "  color: #f1f1f1;\n",
              "}\n",
              "#T_5da55_row3_col10 {\n",
              "  background-color: #bad0f8;\n",
              "  color: #000000;\n",
              "}\n",
              "#T_5da55_row4_col5, #T_5da55_row8_col5 {\n",
              "  background-color: #84a7fc;\n",
              "  color: #f1f1f1;\n",
              "}\n",
              "#T_5da55_row4_col7, #T_5da55_row6_col0 {\n",
              "  background-color: #455cce;\n",
              "  color: #f1f1f1;\n",
              "}\n",
              "#T_5da55_row4_col10, #T_5da55_row7_col8 {\n",
              "  background-color: #6180e9;\n",
              "  color: #f1f1f1;\n",
              "}\n",
              "#T_5da55_row5_col1, #T_5da55_row6_col2 {\n",
              "  background-color: #516ddb;\n",
              "  color: #f1f1f1;\n",
              "}\n",
              "#T_5da55_row5_col2 {\n",
              "  background-color: #5b7ae5;\n",
              "  color: #f1f1f1;\n",
              "}\n",
              "#T_5da55_row5_col3 {\n",
              "  background-color: #4b64d5;\n",
              "  color: #f1f1f1;\n",
              "}\n",
              "#T_5da55_row5_col8, #T_5da55_row7_col10, #T_5da55_row9_col8 {\n",
              "  background-color: #6282ea;\n",
              "  color: #f1f1f1;\n",
              "}\n",
              "#T_5da55_row7_col4 {\n",
              "  background-color: #4961d2;\n",
              "  color: #f1f1f1;\n",
              "}\n",
              "#T_5da55_row7_col5 {\n",
              "  background-color: #82a6fb;\n",
              "  color: #f1f1f1;\n",
              "}\n",
              "#T_5da55_row8_col2 {\n",
              "  background-color: #5e7de7;\n",
              "  color: #f1f1f1;\n",
              "}\n",
              "#T_5da55_row8_col6 {\n",
              "  background-color: #89acfd;\n",
              "  color: #000000;\n",
              "}\n",
              "#T_5da55_row9_col2 {\n",
              "  background-color: #5572df;\n",
              "  color: #f1f1f1;\n",
              "}\n",
              "#T_5da55_row9_col10 {\n",
              "  background-color: #688aef;\n",
              "  color: #f1f1f1;\n",
              "}\n",
              "#T_5da55_row10_col1 {\n",
              "  background-color: #485fd1;\n",
              "  color: #f1f1f1;\n",
              "}\n",
              "#T_5da55_row10_col3 {\n",
              "  background-color: #a1c0ff;\n",
              "  color: #000000;\n",
              "}\n",
              "#T_5da55_row10_col5 {\n",
              "  background-color: #a6c4fe;\n",
              "  color: #000000;\n",
              "}\n",
              "#T_5da55_row10_col6 {\n",
              "  background-color: #7a9df8;\n",
              "  color: #f1f1f1;\n",
              "}\n",
              "</style>\n",
              "<table id=\"T_5da55_\" class=\"dataframe\">\n",
              "  <thead>\n",
              "    <tr>\n",
              "      <th class=\"blank level0\" >&nbsp;</th>\n",
              "      <th class=\"col_heading level0 col0\" >CreditScore</th>\n",
              "      <th class=\"col_heading level0 col1\" >CountryCode</th>\n",
              "      <th class=\"col_heading level0 col2\" >GenderCode</th>\n",
              "      <th class=\"col_heading level0 col3\" >Age</th>\n",
              "      <th class=\"col_heading level0 col4\" >Tenure</th>\n",
              "      <th class=\"col_heading level0 col5\" >Balance</th>\n",
              "      <th class=\"col_heading level0 col6\" >NumOfProducts</th>\n",
              "      <th class=\"col_heading level0 col7\" >HasCrCard</th>\n",
              "      <th class=\"col_heading level0 col8\" >IsActiveMember</th>\n",
              "      <th class=\"col_heading level0 col9\" >EstimatedSalary</th>\n",
              "      <th class=\"col_heading level0 col10\" >Exited</th>\n",
              "    </tr>\n",
              "  </thead>\n",
              "  <tbody>\n",
              "    <tr>\n",
              "      <th id=\"T_5da55_level0_row0\" class=\"row_heading level0 row0\" >CreditScore</th>\n",
              "      <td id=\"T_5da55_row0_col0\" class=\"data row0 col0\" >1.000000</td>\n",
              "      <td id=\"T_5da55_row0_col1\" class=\"data row0 col1\" >0.007888</td>\n",
              "      <td id=\"T_5da55_row0_col2\" class=\"data row0 col2\" >-0.002857</td>\n",
              "      <td id=\"T_5da55_row0_col3\" class=\"data row0 col3\" >-0.003965</td>\n",
              "      <td id=\"T_5da55_row0_col4\" class=\"data row0 col4\" >0.000842</td>\n",
              "      <td id=\"T_5da55_row0_col5\" class=\"data row0 col5\" >0.006268</td>\n",
              "      <td id=\"T_5da55_row0_col6\" class=\"data row0 col6\" >0.012238</td>\n",
              "      <td id=\"T_5da55_row0_col7\" class=\"data row0 col7\" >-0.005458</td>\n",
              "      <td id=\"T_5da55_row0_col8\" class=\"data row0 col8\" >0.025651</td>\n",
              "      <td id=\"T_5da55_row0_col9\" class=\"data row0 col9\" >-0.001384</td>\n",
              "      <td id=\"T_5da55_row0_col10\" class=\"data row0 col10\" >-0.027094</td>\n",
              "    </tr>\n",
              "    <tr>\n",
              "      <th id=\"T_5da55_level0_row1\" class=\"row_heading level0 row1\" >CountryCode</th>\n",
              "      <td id=\"T_5da55_row1_col0\" class=\"data row1 col0\" >0.007888</td>\n",
              "      <td id=\"T_5da55_row1_col1\" class=\"data row1 col1\" >1.000000</td>\n",
              "      <td id=\"T_5da55_row1_col2\" class=\"data row1 col2\" >0.004719</td>\n",
              "      <td id=\"T_5da55_row1_col3\" class=\"data row1 col3\" >0.022812</td>\n",
              "      <td id=\"T_5da55_row1_col4\" class=\"data row1 col4\" >0.003739</td>\n",
              "      <td id=\"T_5da55_row1_col5\" class=\"data row1 col5\" >0.069408</td>\n",
              "      <td id=\"T_5da55_row1_col6\" class=\"data row1 col6\" >0.003972</td>\n",
              "      <td id=\"T_5da55_row1_col7\" class=\"data row1 col7\" >-0.008523</td>\n",
              "      <td id=\"T_5da55_row1_col8\" class=\"data row1 col8\" >0.006724</td>\n",
              "      <td id=\"T_5da55_row1_col9\" class=\"data row1 col9\" >-0.001369</td>\n",
              "      <td id=\"T_5da55_row1_col10\" class=\"data row1 col10\" >0.035943</td>\n",
              "    </tr>\n",
              "    <tr>\n",
              "      <th id=\"T_5da55_level0_row2\" class=\"row_heading level0 row2\" >GenderCode</th>\n",
              "      <td id=\"T_5da55_row2_col0\" class=\"data row2 col0\" >-0.002857</td>\n",
              "      <td id=\"T_5da55_row2_col1\" class=\"data row2 col1\" >0.004719</td>\n",
              "      <td id=\"T_5da55_row2_col2\" class=\"data row2 col2\" >1.000000</td>\n",
              "      <td id=\"T_5da55_row2_col3\" class=\"data row2 col3\" >-0.027544</td>\n",
              "      <td id=\"T_5da55_row2_col4\" class=\"data row2 col4\" >0.014733</td>\n",
              "      <td id=\"T_5da55_row2_col5\" class=\"data row2 col5\" >0.012087</td>\n",
              "      <td id=\"T_5da55_row2_col6\" class=\"data row2 col6\" >-0.021859</td>\n",
              "      <td id=\"T_5da55_row2_col7\" class=\"data row2 col7\" >0.005766</td>\n",
              "      <td id=\"T_5da55_row2_col8\" class=\"data row2 col8\" >0.022544</td>\n",
              "      <td id=\"T_5da55_row2_col9\" class=\"data row2 col9\" >-0.008112</td>\n",
              "      <td id=\"T_5da55_row2_col10\" class=\"data row2 col10\" >-0.106512</td>\n",
              "    </tr>\n",
              "    <tr>\n",
              "      <th id=\"T_5da55_level0_row3\" class=\"row_heading level0 row3\" >Age</th>\n",
              "      <td id=\"T_5da55_row3_col0\" class=\"data row3 col0\" >-0.003965</td>\n",
              "      <td id=\"T_5da55_row3_col1\" class=\"data row3 col1\" >0.022812</td>\n",
              "      <td id=\"T_5da55_row3_col2\" class=\"data row3 col2\" >-0.027544</td>\n",
              "      <td id=\"T_5da55_row3_col3\" class=\"data row3 col3\" >1.000000</td>\n",
              "      <td id=\"T_5da55_row3_col4\" class=\"data row3 col4\" >-0.009997</td>\n",
              "      <td id=\"T_5da55_row3_col5\" class=\"data row3 col5\" >0.028308</td>\n",
              "      <td id=\"T_5da55_row3_col6\" class=\"data row3 col6\" >-0.030680</td>\n",
              "      <td id=\"T_5da55_row3_col7\" class=\"data row3 col7\" >-0.011721</td>\n",
              "      <td id=\"T_5da55_row3_col8\" class=\"data row3 col8\" >0.085472</td>\n",
              "      <td id=\"T_5da55_row3_col9\" class=\"data row3 col9\" >-0.007201</td>\n",
              "      <td id=\"T_5da55_row3_col10\" class=\"data row3 col10\" >0.285323</td>\n",
              "    </tr>\n",
              "    <tr>\n",
              "      <th id=\"T_5da55_level0_row4\" class=\"row_heading level0 row4\" >Tenure</th>\n",
              "      <td id=\"T_5da55_row4_col0\" class=\"data row4 col0\" >0.000842</td>\n",
              "      <td id=\"T_5da55_row4_col1\" class=\"data row4 col1\" >0.003739</td>\n",
              "      <td id=\"T_5da55_row4_col2\" class=\"data row4 col2\" >0.014733</td>\n",
              "      <td id=\"T_5da55_row4_col3\" class=\"data row4 col3\" >-0.009997</td>\n",
              "      <td id=\"T_5da55_row4_col4\" class=\"data row4 col4\" >1.000000</td>\n",
              "      <td id=\"T_5da55_row4_col5\" class=\"data row4 col5\" >-0.012254</td>\n",
              "      <td id=\"T_5da55_row4_col6\" class=\"data row4 col6\" >0.013444</td>\n",
              "      <td id=\"T_5da55_row4_col7\" class=\"data row4 col7\" >0.022583</td>\n",
              "      <td id=\"T_5da55_row4_col8\" class=\"data row4 col8\" >-0.028362</td>\n",
              "      <td id=\"T_5da55_row4_col9\" class=\"data row4 col9\" >0.007784</td>\n",
              "      <td id=\"T_5da55_row4_col10\" class=\"data row4 col10\" >-0.014001</td>\n",
              "    </tr>\n",
              "    <tr>\n",
              "      <th id=\"T_5da55_level0_row5\" class=\"row_heading level0 row5\" >Balance</th>\n",
              "      <td id=\"T_5da55_row5_col0\" class=\"data row5 col0\" >0.006268</td>\n",
              "      <td id=\"T_5da55_row5_col1\" class=\"data row5 col1\" >0.069408</td>\n",
              "      <td id=\"T_5da55_row5_col2\" class=\"data row5 col2\" >0.012087</td>\n",
              "      <td id=\"T_5da55_row5_col3\" class=\"data row5 col3\" >0.028308</td>\n",
              "      <td id=\"T_5da55_row5_col4\" class=\"data row5 col4\" >-0.012254</td>\n",
              "      <td id=\"T_5da55_row5_col5\" class=\"data row5 col5\" >1.000000</td>\n",
              "      <td id=\"T_5da55_row5_col6\" class=\"data row5 col6\" >-0.304180</td>\n",
              "      <td id=\"T_5da55_row5_col7\" class=\"data row5 col7\" >-0.014858</td>\n",
              "      <td id=\"T_5da55_row5_col8\" class=\"data row5 col8\" >-0.010084</td>\n",
              "      <td id=\"T_5da55_row5_col9\" class=\"data row5 col9\" >0.012797</td>\n",
              "      <td id=\"T_5da55_row5_col10\" class=\"data row5 col10\" >0.118533</td>\n",
              "    </tr>\n",
              "    <tr>\n",
              "      <th id=\"T_5da55_level0_row6\" class=\"row_heading level0 row6\" >NumOfProducts</th>\n",
              "      <td id=\"T_5da55_row6_col0\" class=\"data row6 col0\" >0.012238</td>\n",
              "      <td id=\"T_5da55_row6_col1\" class=\"data row6 col1\" >0.003972</td>\n",
              "      <td id=\"T_5da55_row6_col2\" class=\"data row6 col2\" >-0.021859</td>\n",
              "      <td id=\"T_5da55_row6_col3\" class=\"data row6 col3\" >-0.030680</td>\n",
              "      <td id=\"T_5da55_row6_col4\" class=\"data row6 col4\" >0.013444</td>\n",
              "      <td id=\"T_5da55_row6_col5\" class=\"data row6 col5\" >-0.304180</td>\n",
              "      <td id=\"T_5da55_row6_col6\" class=\"data row6 col6\" >1.000000</td>\n",
              "      <td id=\"T_5da55_row6_col7\" class=\"data row6 col7\" >0.003183</td>\n",
              "      <td id=\"T_5da55_row6_col8\" class=\"data row6 col8\" >0.009612</td>\n",
              "      <td id=\"T_5da55_row6_col9\" class=\"data row6 col9\" >0.014204</td>\n",
              "      <td id=\"T_5da55_row6_col10\" class=\"data row6 col10\" >-0.047820</td>\n",
              "    </tr>\n",
              "    <tr>\n",
              "      <th id=\"T_5da55_level0_row7\" class=\"row_heading level0 row7\" >HasCrCard</th>\n",
              "      <td id=\"T_5da55_row7_col0\" class=\"data row7 col0\" >-0.005458</td>\n",
              "      <td id=\"T_5da55_row7_col1\" class=\"data row7 col1\" >-0.008523</td>\n",
              "      <td id=\"T_5da55_row7_col2\" class=\"data row7 col2\" >0.005766</td>\n",
              "      <td id=\"T_5da55_row7_col3\" class=\"data row7 col3\" >-0.011721</td>\n",
              "      <td id=\"T_5da55_row7_col4\" class=\"data row7 col4\" >0.022583</td>\n",
              "      <td id=\"T_5da55_row7_col5\" class=\"data row7 col5\" >-0.014858</td>\n",
              "      <td id=\"T_5da55_row7_col6\" class=\"data row7 col6\" >0.003183</td>\n",
              "      <td id=\"T_5da55_row7_col7\" class=\"data row7 col7\" >1.000000</td>\n",
              "      <td id=\"T_5da55_row7_col8\" class=\"data row7 col8\" >-0.011866</td>\n",
              "      <td id=\"T_5da55_row7_col9\" class=\"data row7 col9\" >-0.009933</td>\n",
              "      <td id=\"T_5da55_row7_col10\" class=\"data row7 col10\" >-0.007138</td>\n",
              "    </tr>\n",
              "    <tr>\n",
              "      <th id=\"T_5da55_level0_row8\" class=\"row_heading level0 row8\" >IsActiveMember</th>\n",
              "      <td id=\"T_5da55_row8_col0\" class=\"data row8 col0\" >0.025651</td>\n",
              "      <td id=\"T_5da55_row8_col1\" class=\"data row8 col1\" >0.006724</td>\n",
              "      <td id=\"T_5da55_row8_col2\" class=\"data row8 col2\" >0.022544</td>\n",
              "      <td id=\"T_5da55_row8_col3\" class=\"data row8 col3\" >0.085472</td>\n",
              "      <td id=\"T_5da55_row8_col4\" class=\"data row8 col4\" >-0.028362</td>\n",
              "      <td id=\"T_5da55_row8_col5\" class=\"data row8 col5\" >-0.010084</td>\n",
              "      <td id=\"T_5da55_row8_col6\" class=\"data row8 col6\" >0.009612</td>\n",
              "      <td id=\"T_5da55_row8_col7\" class=\"data row8 col7\" >-0.011866</td>\n",
              "      <td id=\"T_5da55_row8_col8\" class=\"data row8 col8\" >1.000000</td>\n",
              "      <td id=\"T_5da55_row8_col9\" class=\"data row8 col9\" >-0.011421</td>\n",
              "      <td id=\"T_5da55_row8_col10\" class=\"data row8 col10\" >-0.156128</td>\n",
              "    </tr>\n",
              "    <tr>\n",
              "      <th id=\"T_5da55_level0_row9\" class=\"row_heading level0 row9\" >EstimatedSalary</th>\n",
              "      <td id=\"T_5da55_row9_col0\" class=\"data row9 col0\" >-0.001384</td>\n",
              "      <td id=\"T_5da55_row9_col1\" class=\"data row9 col1\" >-0.001369</td>\n",
              "      <td id=\"T_5da55_row9_col2\" class=\"data row9 col2\" >-0.008112</td>\n",
              "      <td id=\"T_5da55_row9_col3\" class=\"data row9 col3\" >-0.007201</td>\n",
              "      <td id=\"T_5da55_row9_col4\" class=\"data row9 col4\" >0.007784</td>\n",
              "      <td id=\"T_5da55_row9_col5\" class=\"data row9 col5\" >0.012797</td>\n",
              "      <td id=\"T_5da55_row9_col6\" class=\"data row9 col6\" >0.014204</td>\n",
              "      <td id=\"T_5da55_row9_col7\" class=\"data row9 col7\" >-0.009933</td>\n",
              "      <td id=\"T_5da55_row9_col8\" class=\"data row9 col8\" >-0.011421</td>\n",
              "      <td id=\"T_5da55_row9_col9\" class=\"data row9 col9\" >1.000000</td>\n",
              "      <td id=\"T_5da55_row9_col10\" class=\"data row9 col10\" >0.012097</td>\n",
              "    </tr>\n",
              "    <tr>\n",
              "      <th id=\"T_5da55_level0_row10\" class=\"row_heading level0 row10\" >Exited</th>\n",
              "      <td id=\"T_5da55_row10_col0\" class=\"data row10 col0\" >-0.027094</td>\n",
              "      <td id=\"T_5da55_row10_col1\" class=\"data row10 col1\" >0.035943</td>\n",
              "      <td id=\"T_5da55_row10_col2\" class=\"data row10 col2\" >-0.106512</td>\n",
              "      <td id=\"T_5da55_row10_col3\" class=\"data row10 col3\" >0.285323</td>\n",
              "      <td id=\"T_5da55_row10_col4\" class=\"data row10 col4\" >-0.014001</td>\n",
              "      <td id=\"T_5da55_row10_col5\" class=\"data row10 col5\" >0.118533</td>\n",
              "      <td id=\"T_5da55_row10_col6\" class=\"data row10 col6\" >-0.047820</td>\n",
              "      <td id=\"T_5da55_row10_col7\" class=\"data row10 col7\" >-0.007138</td>\n",
              "      <td id=\"T_5da55_row10_col8\" class=\"data row10 col8\" >-0.156128</td>\n",
              "      <td id=\"T_5da55_row10_col9\" class=\"data row10 col9\" >0.012097</td>\n",
              "      <td id=\"T_5da55_row10_col10\" class=\"data row10 col10\" >1.000000</td>\n",
              "    </tr>\n",
              "  </tbody>\n",
              "</table>\n"
            ],
            "text/plain": [
              "<pandas.io.formats.style.Styler at 0x7f85186b0810>"
            ]
          },
          "metadata": {},
          "execution_count": 14
        }
      ],
      "source": [
        "corr = df.corr()\n",
        "corr.style.background_gradient(cmap='coolwarm')"
      ]
    },
    {
      "cell_type": "code",
      "execution_count": 15,
      "id": "ce646de8",
      "metadata": {
        "id": "ce646de8",
        "colab": {
          "base_uri": "https://localhost:8080/",
          "height": 265
        },
        "outputId": "a0182063-5d60-4b06-e62d-78db6f08c985"
      },
      "outputs": [
        {
          "output_type": "display_data",
          "data": {
            "image/png": "[encoded data removed]",
            "text/plain": [
              "<Figure size 432x288 with 1 Axes>"
            ]
          },
          "metadata": {
            "needs_background": "light"
          }
        }
      ],
      "source": [
        "# Variables correlated to Exited.\n",
        "df.corr()['Exited'].sort_values().drop('Exited').plot(kind='barh');"
      ]
    },
    {
      "cell_type": "markdown",
      "id": "80a9a8f4",
      "metadata": {
        "id": "80a9a8f4"
      },
      "source": [
        "From the above, notice that:\n",
        "    There are 10 variables that have varying degrees of correlation with 'Exited'.\n",
        "    These should be examined closer, to try and get a better understanding of the correlation."
      ]
    },
    {
      "cell_type": "markdown",
      "id": "0ff21c7f",
      "metadata": {
        "id": "0ff21c7f"
      },
      "source": [
        "# Visualization"
      ]
    },
    {
      "cell_type": "code",
      "execution_count": 16,
      "id": "6f4ca573",
      "metadata": {
        "scrolled": true,
        "id": "6f4ca573",
        "colab": {
          "base_uri": "https://localhost:8080/",
          "height": 296
        },
        "outputId": "4fd7a75f-49cd-4b97-9f3c-6a380718a322"
      },
      "outputs": [
        {
          "output_type": "execute_result",
          "data": {
            "text/plain": [
              "<matplotlib.axes._subplots.AxesSubplot at 0x7f8518275190>"
            ]
          },
          "metadata": {},
          "execution_count": 16
        },
        {
          "output_type": "display_data",
          "data": {
            "image/png": "[encoded data removed]",
            "text/plain": [
              "<Figure size 432x288 with 1 Axes>"
            ]
          },
          "metadata": {
            "needs_background": "light"
          }
        }
      ],
      "source": [
        "#Summary of Exited and Non-Exited\n",
        "sns.countplot(x='Exited', data = df)"
      ]
    },
    {
      "cell_type": "markdown",
      "id": "656507cd",
      "metadata": {
        "id": "656507cd"
      },
      "source": [
        "From the above, notice that:\n",
        "There are many more customers that have not 'Exited'. This is referred to as 'class imbalance'."
      ]
    },
    {
      "cell_type": "markdown",
      "id": "37356d43",
      "metadata": {
        "id": "37356d43"
      },
      "source": [
        "## High impact variables (Age, IsActiveMember)"
      ]
    },
    {
      "cell_type": "code",
      "execution_count": 17,
      "id": "05e8e3fb",
      "metadata": {
        "id": "05e8e3fb",
        "colab": {
          "base_uri": "https://localhost:8080/",
          "height": 439
        },
        "outputId": "d117566a-613e-4538-e650-5c2c03229c94"
      },
      "outputs": [
        {
          "output_type": "stream",
          "name": "stderr",
          "text": [
            "/usr/local/lib/python3.7/dist-packages/seaborn/distributions.py:2619: FutureWarning: `distplot` is a deprecated function and will be removed in a future version. Please adapt your code to use either `displot` (a figure-level function with similar flexibility) or `histplot` (an axes-level function for histograms).\n",
            "  warnings.warn(msg, FutureWarning)\n",
            "/usr/local/lib/python3.7/dist-packages/seaborn/distributions.py:2619: FutureWarning: `distplot` is a deprecated function and will be removed in a future version. Please adapt your code to use either `displot` (a figure-level function with similar flexibility) or `histplot` (an axes-level function for histograms).\n",
            "  warnings.warn(msg, FutureWarning)\n"
          ]
        },
        {
          "output_type": "display_data",
          "data": {
            "image/png": "[encoded data removed]",
            "text/plain": [
              "<Figure size 720x360 with 1 Axes>"
            ]
          },
          "metadata": {
            "needs_background": "light"
          }
        }
      ],
      "source": [
        "# Split the group into two cohorts for further analysis\n",
        "Non_Exited = df[df['Exited'] == 0]\n",
        "Exited = df[df['Exited'] == 1]\n",
        "plt.subplots(figsize=(10, 5))\n",
        "sns.distplot(Non_Exited['Age'])\n",
        "sns.distplot(Exited['Age'])\n",
        "plt.title('Age: Exited vs Non Exited')\n",
        "plt.legend([0, 1], title='Exited')\n",
        "plt.ylabel('percentage');"
      ]
    },
    {
      "cell_type": "code",
      "execution_count": 18,
      "id": "c547d8d6",
      "metadata": {
        "scrolled": false,
        "id": "c547d8d6",
        "colab": {
          "base_uri": "https://localhost:8080/",
          "height": 183
        },
        "outputId": "2dd734ed-1f11-436b-af6c-e1d4c5198f29"
      },
      "outputs": [
        {
          "output_type": "display_data",
          "data": {
            "image/png": "[encoded data removed]",
            "text/plain": [
              "<Figure size 720x144 with 2 Axes>"
            ]
          },
          "metadata": {
            "needs_background": "light"
          }
        }
      ],
      "source": [
        "\n",
        "cross_tab_prop = pd.crosstab(index=data['IsActiveMember'],\n",
        "                             columns=data['Exited'],\n",
        "                             normalize=\"index\")\n",
        "# Examine customers by country.\n",
        "f, ax=plt.subplots(1, 2, figsize=(10, 2))\n",
        "data['IsActiveMember'].value_counts().plot.bar(color=['#CD7F32','#FFDF00','#D3D3D3'], ax=ax[0])\n",
        "ax[0].set_title('Count of customers by Active Members')\n",
        "ax[0].set_ylabel('count')\n",
        "cross_tab_prop.plot(kind='bar', stacked=True, colormap='tab10', figsize=(10, 2), ax=ax[1])\n",
        "ax[1].set_title('Active Members: Exited vs Non Exited')\n",
        "ax[1].set_ylabel('count');"
      ]
    },
    {
      "cell_type": "markdown",
      "id": "a25cef9c",
      "metadata": {
        "id": "a25cef9c"
      },
      "source": [
        "# Appendix"
      ]
    },
    {
      "cell_type": "markdown",
      "id": "5c13fc95",
      "metadata": {
        "id": "5c13fc95"
      },
      "source": [
        "## Low Impact variables (HasCreditCard, Estimated Salary)"
      ]
    },
    {
      "cell_type": "code",
      "execution_count": null,
      "id": "b697f6f8",
      "metadata": {
        "id": "b697f6f8"
      },
      "outputs": [],
      "source": [
        "cross_tab_prop = pd.crosstab(index=data['HasCrCard'],\n",
        "                             columns=data['Exited'],\n",
        "                             normalize=\"index\")\n",
        "# Examine customers by country.\n",
        "f, ax=plt.subplots(1, 2, figsize=(10, 5))\n",
        "data['HasCrCard'].value_counts().plot.bar(color=['#CD7F32','#FFDF00','#D3D3D3'], ax=ax[0])\n",
        "ax[0].set_title('Count of customers by HasCrCard')\n",
        "ax[0].set_ylabel('count')\n",
        "cross_tab_prop.plot(kind='bar', stacked=True, colormap='tab10', figsize=(10, 5), ax=ax[1])\n",
        "ax[1].set_title('HasCrCard: Exited vs Non Exited')\n",
        "ax[1].set_ylabel('count');"
      ]
    },
    {
      "cell_type": "code",
      "execution_count": null,
      "id": "4e923531",
      "metadata": {
        "scrolled": false,
        "id": "4e923531"
      },
      "outputs": [],
      "source": [
        "plt.subplots(figsize=(10, 5))\n",
        "sns.distplot(Non_Exited['EstimatedSalary'])\n",
        "sns.distplot(Exited['EstimatedSalary'])\n",
        "plt.title('EstimatedSalary: Exited vs Non Exited')\n",
        "plt.legend([0, 1], title='Exited')\n",
        "plt.ylabel('percentage');plt.figure(figsize=(18,8))\n"
      ]
    },
    {
      "cell_type": "code",
      "execution_count": null,
      "id": "5f4b75ac",
      "metadata": {
        "id": "5f4b75ac"
      },
      "outputs": [],
      "source": [
        "cross_tab_prop = pd.crosstab(index=data['Geography'],\n",
        "                             columns=data['Exited'],\n",
        "                             normalize=\"index\")\n",
        "# Examine customers by country.\n",
        "f, ax=plt.subplots(1, 2, figsize=(10, 2))\n",
        "data['Geography'].value_counts().plot.bar(color=['#CD7F32','#FFDF00','#D3D3D3'], ax=ax[0])\n",
        "ax[0].set_title('Count of customers by countries')\n",
        "ax[0].set_ylabel('count')\n",
        "cross_tab_prop.plot(kind='bar', stacked=True, colormap='tab10', figsize=(10, 2), ax=ax[1])\n",
        "ax[1].set_title('Countries: Exited vs Non Exited')\n",
        "ax[1].set_ylabel('count');"
      ]
    },
    {
      "cell_type": "markdown",
      "id": "8073ab55",
      "metadata": {
        "id": "8073ab55"
      },
      "source": [
        "From the above, notice that:\n",
        "    France has the largest number of customers\n",
        "    Germany and Spain have a similar count of customers.\n",
        "    Germany has the highest proportion of customers that 'Exited'."
      ]
    },
    {
      "cell_type": "code",
      "execution_count": null,
      "id": "8b4550c6",
      "metadata": {
        "id": "8b4550c6"
      },
      "outputs": [],
      "source": [
        "# Compare exited by age and geography.\n",
        "sns.swarmplot(y='Age', x='Geography', hue='Exited', data=data);"
      ]
    },
    {
      "cell_type": "markdown",
      "id": "72ec6d41",
      "metadata": {
        "id": "72ec6d41"
      },
      "source": [
        "Observations\n",
        "    Germany has the highest proportion of churn (Lowest percentage of Non-exited customers and Highest percentage of exited         customers)\n",
        "    Customers across all countries tend to have a higher tendency to churn after 40 years of age."
      ]
    },
    {
      "cell_type": "code",
      "execution_count": null,
      "id": "623b9b03",
      "metadata": {
        "id": "623b9b03"
      },
      "outputs": [],
      "source": [
        "# Examine customers by gender.\n",
        "f, ax=plt.subplots(1, 2, figsize=(10, 2))\n",
        "data['Gender'].value_counts().plot.bar(color=['#CD7F32','#FFDF00','#D3D3D3'], ax=ax[0])\n",
        "ax[0].set_title('Count of customer by gender')\n",
        "ax[0].set_ylabel('count')\n",
        "cross_tab_prop = pd.crosstab(index=data['Gender'],\n",
        "                             columns=data['Exited'],\n",
        "                             normalize=\"index\")\n",
        "cross_tab_prop.plot(kind='bar', \n",
        "                    stacked=True, \n",
        "                    colormap='tab10', \n",
        "                    figsize=(10, 2), ax=ax[1])\n",
        "ax[1].set_title('Gender: Exited vs Non Exited')\n",
        "ax[1].set_ylabel('count');"
      ]
    },
    {
      "cell_type": "code",
      "execution_count": null,
      "id": "48d9ed05",
      "metadata": {
        "id": "48d9ed05"
      },
      "outputs": [],
      "source": [
        "sns.swarmplot(y='Age', x='Gender', hue='Exited', data=data);"
      ]
    },
    {
      "cell_type": "code",
      "execution_count": null,
      "id": "ef187ce3",
      "metadata": {
        "id": "ef187ce3"
      },
      "outputs": [],
      "source": [
        "# Examine customers by Age.\n",
        "f, ax=plt.subplots(1, 2, figsize=(10, 4))\n",
        "sns.boxplot(data['Age'], ax=ax[0])\n",
        "ax[0].set_title('Count of customer by gender')\n",
        "ax[0].set_ylabel('count')\n",
        "sns.scatterplot(data=df, x='Age', y='Balance', hue='Exited', ax=ax[1])\n",
        "ax[1].set_title('Age: Exited vs Non Exited')\n",
        "ax[1].set_ylabel('Balance');"
      ]
    },
    {
      "cell_type": "code",
      "execution_count": null,
      "id": "7b045c4b",
      "metadata": {
        "scrolled": false,
        "id": "7b045c4b"
      },
      "outputs": [],
      "source": [
        "sns.boxplot(data['CreditScore'])"
      ]
    },
    {
      "cell_type": "markdown",
      "id": "f6a26424",
      "metadata": {
        "id": "f6a26424"
      },
      "source": [
        "From above we can see that majority of the people have a credit score between 590 to 720\n",
        "Outliers are data points that are far from other data points. In other words, they’re unusual values in a dataset"
      ]
    },
    {
      "cell_type": "markdown",
      "id": "f2cfb3f3",
      "metadata": {
        "id": "f2cfb3f3"
      },
      "source": [
        "From above, notice that there are three countries represented within the data set."
      ]
    },
    {
      "cell_type": "code",
      "execution_count": null,
      "id": "37a3d448",
      "metadata": {
        "id": "37a3d448"
      },
      "outputs": [],
      "source": [
        "cross_tab_prop = pd.crosstab(index=data['Age'],\n",
        "                             columns=data['Exited'],\n",
        "                             normalize=\"index\")\n",
        "cross_tab_prop.plot(kind='bar', \n",
        "                    stacked=True, \n",
        "                    colormap='tab10', \n",
        "                    figsize=(19, 6))\n",
        "\n",
        "plt.legend(loc=\"upper left\", ncol=2)\n",
        "plt.xlabel(\"Age\")\n",
        "plt.ylabel(\"Exited\")\n",
        "plt.show()"
      ]
    },
    {
      "cell_type": "code",
      "execution_count": null,
      "id": "47bd22a1",
      "metadata": {
        "scrolled": true,
        "id": "47bd22a1"
      },
      "outputs": [],
      "source": [
        "sns.countplot(x='Tenure', data = data)"
      ]
    },
    {
      "cell_type": "code",
      "execution_count": null,
      "id": "6329a91a",
      "metadata": {
        "id": "6329a91a"
      },
      "outputs": [],
      "source": [
        "cross_tab_prop = pd.crosstab(index=data['Tenure'],\n",
        "                             columns=data['Exited'],\n",
        "                             normalize=\"index\")\n",
        "cross_tab_prop.plot(kind='bar', \n",
        "                    stacked=True, \n",
        "                    colormap='tab10', \n",
        "                    figsize=(10, 6))\n",
        "\n",
        "plt.legend(loc=\"upper left\", ncol=2)\n",
        "plt.xlabel(\"Tenure\")\n",
        "plt.ylabel(\"Exited\")\n",
        "plt.show()"
      ]
    },
    {
      "cell_type": "code",
      "execution_count": null,
      "id": "a1e18467",
      "metadata": {
        "scrolled": true,
        "id": "a1e18467"
      },
      "outputs": [],
      "source": [
        "sns.boxplot(data['Balance'])"
      ]
    },
    {
      "cell_type": "code",
      "execution_count": null,
      "id": "ee08ffa4",
      "metadata": {
        "id": "ee08ffa4"
      },
      "outputs": [],
      "source": [
        "Non_Exited = data[data['Exited']==0]\n",
        "Exited = data[data['Exited']==1]\n",
        "plt.figure(figsize=(18,8))\n",
        "p1=sns.kdeplot(Non_Exited['Balance'], shade=True, color=\"r\")\n",
        "p1=sns.kdeplot(Exited['Balance'], shade=True, color=\"b\");\n",
        "plt.title('Account Balance: Exited vs Non-Exited')\n",
        "plt.legend([0,1],title='Exited');"
      ]
    },
    {
      "cell_type": "code",
      "execution_count": null,
      "id": "029094aa",
      "metadata": {
        "scrolled": true,
        "id": "029094aa"
      },
      "outputs": [],
      "source": [
        "sns.countplot(x = 'NumOfProducts', data = data)"
      ]
    },
    {
      "cell_type": "code",
      "execution_count": null,
      "id": "56578de0",
      "metadata": {
        "scrolled": true,
        "id": "56578de0"
      },
      "outputs": [],
      "source": [
        "pd.crosstab(data.NumOfProducts,data.Exited,margins=True).style.background_gradient(cmap='OrRd')"
      ]
    },
    {
      "cell_type": "code",
      "execution_count": null,
      "id": "2991c355",
      "metadata": {
        "id": "2991c355"
      },
      "outputs": [],
      "source": [
        "cross_tab_prop = pd.crosstab(index=data['NumOfProducts'],\n",
        "                             columns=data['Exited'],\n",
        "                             normalize=\"index\")\n",
        "cross_tab_prop.plot(kind='bar', \n",
        "                    stacked=True, \n",
        "                    colormap='tab10', \n",
        "                    figsize=(19, 6))\n",
        "\n",
        "plt.legend(loc=\"upper left\", ncol=2)\n",
        "plt.xlabel(\"NumOfProducts\")\n",
        "plt.ylabel(\"Exited\")\n",
        "plt.show()"
      ]
    },
    {
      "cell_type": "code",
      "execution_count": null,
      "id": "ae1e28bd",
      "metadata": {
        "scrolled": true,
        "id": "ae1e28bd"
      },
      "outputs": [],
      "source": [
        "sns.countplot(x = 'HasCrCard', data = data)\n",
        "cross_tab_prop = pd.crosstab(index=data['HasCrCard'],\n",
        "                             columns=data['Exited'],\n",
        "                             normalize=\"index\")\n",
        "cross_tab_prop.plot(kind='bar', \n",
        "                    stacked=True, \n",
        "                    colormap='tab10', \n",
        "                    figsize=(5, 4))\n",
        "\n",
        "plt.legend(loc=\"upper left\", ncol=2)\n",
        "plt.xlabel(\"HasCrCard\")\n",
        "plt.ylabel(\"Exited\")\n",
        "plt.show()"
      ]
    },
    {
      "cell_type": "code",
      "execution_count": null,
      "id": "2f167392",
      "metadata": {
        "id": "2f167392"
      },
      "outputs": [],
      "source": [
        "cross_tab_prop = pd.crosstab(index=data['HasCrCard'],\n",
        "                             columns=data['Exited'],\n",
        "                             normalize=\"index\")\n",
        "cross_tab_prop.plot(kind='bar', \n",
        "                    stacked=True, \n",
        "                    colormap='tab10', \n",
        "                    figsize=(19, 6))\n",
        "\n",
        "plt.legend(loc=\"upper left\", ncol=2)\n",
        "plt.xlabel(\"HasCrCard\")\n",
        "plt.ylabel(\"Exited\")\n",
        "plt.show()"
      ]
    },
    {
      "cell_type": "code",
      "execution_count": null,
      "id": "0938c59e",
      "metadata": {
        "id": "0938c59e"
      },
      "outputs": [],
      "source": [
        "plt.figure(figsize=(18,8))\n",
        "plt.hist(x='EstimatedSalary',bins=100,data=Non_Exited,edgecolor='black',color='red')\n",
        "plt.hist(x='EstimatedSalary',bins=100,data=Exited,edgecolor='black',color='blue')\n",
        "plt.title('Estimated salary: Exited vs Non-Exited')\n",
        "plt.legend([0,1],title='Exited');"
      ]
    },
    {
      "cell_type": "code",
      "execution_count": null,
      "id": "bdcf3280",
      "metadata": {
        "id": "bdcf3280"
      },
      "outputs": [],
      "source": [
        ""
      ]
    },
    {
      "cell_type": "code",
      "execution_count": null,
      "id": "25c76b77",
      "metadata": {
        "id": "25c76b77"
      },
      "outputs": [],
      "source": [
        ""
      ]
    }
  ],
  "metadata": {
    "kernelspec": {
      "display_name": "Python 3 (ipykernel)",
      "language": "python",
      "name": "python3"
    },
    "language_info": {
      "codemirror_mode": {
        "name": "ipython",
        "version": 3
      },
      "file_extension": ".py",
      "mimetype": "text/x-python",
      "name": "python",
      "nbconvert_exporter": "python",
      "pygments_lexer": "ipython3",
      "version": "3.9.7"
    },
    "colab": {
      "name": "ChurnModelligEDA.ipynb",
      "provenance": []
    }
  },
  "nbformat": 4,
  "nbformat_minor": 5
}