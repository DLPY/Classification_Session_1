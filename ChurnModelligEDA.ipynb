{
  "cells": [
    {
      "cell_type": "markdown",
      "metadata": {
        "id": "view-in-github",
        "colab_type": "text"
      },
      "source": [
        "<a href=\"https://colab.research.google.com/github/DLPY/Classification_Session_1/blob/main/ChurnModelligEDA.ipynb\" target=\"_parent\"><img src=\"https://colab.research.google.com/assets/colab-badge.svg\" alt=\"Open In Colab\"/></a>"
      ]
    },
    {
      "cell_type": "markdown",
      "id": "9c7039b4",
      "metadata": {
        "id": "9c7039b4"
      },
      "source": [
        "\n",
        "\n",
        "Customer Churn Prediction based on Banking Account Data\n",
        "Detail on Data: https://www.kaggle.com/shrutimechlearn/churn-modelling"
      ]
    },
    {
      "cell_type": "markdown",
      "id": "d8b5b0b0",
      "metadata": {
        "id": "d8b5b0b0"
      },
      "source": [
        "TODO: Download source data from Github\n",
        "!wget https://raw.githubusercontent.com/DLPY/Regression-Session-2/master/Data/SydneyHousePrices.csv"
      ]
    },
    {
      "cell_type": "markdown",
      "id": "297429e9",
      "metadata": {
        "id": "297429e9"
      },
      "source": [
        "Table of Contents:\n",
        "Section 1 - Import the Libs and load the dataframe\n",
        "Section 2 - EDA\n",
        "Section 3 - Appendix"
      ]
    },
    {
      "cell_type": "markdown",
      "id": "205fe99f",
      "metadata": {
        "id": "205fe99f"
      },
      "source": [
        "# # Import necessary packages for performing EDA"
      ]
    },
    {
      "cell_type": "code",
      "execution_count": null,
      "id": "ca75d032",
      "metadata": {
        "id": "ca75d032"
      },
      "outputs": [],
      "source": [
        "import seaborn as sns #Visualization Lib\n",
        "import matplotlib.pyplot as plt #Visualization Lib\n",
        "import pandas as pd #Data manipulation lib\n",
        "import numpy as np #mathamatical functions"
      ]
    },
    {
      "cell_type": "code",
      "execution_count": null,
      "id": "d7fc5073",
      "metadata": {
        "id": "d7fc5073"
      },
      "outputs": [],
      "source": [
        "# Read data from csv file into Pandas dataframe\n",
        "data = pd.read_csv(r'C:\\Users\\srajsrivastava\\Downloads\\Churn Modelling\\Churn_Modelling.csv')"
      ]
    },
    {
      "cell_type": "markdown",
      "id": "a7b74a95",
      "metadata": {
        "id": "a7b74a95"
      },
      "source": [
        "# Exploratory Data Analysis (EDA)\n",
        "Perform data analysis, cleaning and transformation."
      ]
    },
    {
      "cell_type": "code",
      "execution_count": null,
      "id": "3fbfa4fa",
      "metadata": {
        "scrolled": false,
        "id": "3fbfa4fa"
      },
      "outputs": [],
      "source": [
        "# Display the count of rows and columns.\n",
        "data.shape\n",
        "#(10000 rows, 14 columns)"
      ]
    },
    {
      "cell_type": "markdown",
      "id": "1dd8fcf0",
      "metadata": {
        "id": "1dd8fcf0"
      },
      "source": [
        "This data set contains details of a bank's customers and the target variable is a binary variable reflecting the fact whether the customer left the bank (closed their account) or they continue to be a customer.\n",
        "\n",
        "Here we have 13 feature columns and Exited is a target column.\n",
        "\n",
        "Row Numbers: Row Numbers from 1 to 10000.\n",
        "\n",
        "CustomerId: Unique Ids for bank customer identification.\n",
        "\n",
        "Surname: Customer's last name.\n",
        "\n",
        "CreditScore: Credit score of the customer.\n",
        "\n",
        "Geography: The country from which the customer belongs(Germany/France/Spain).\n",
        "\n",
        "Gender: Male or Female.\n",
        "\n",
        "Age: Age of the customer.\n",
        "\n",
        "Tenure: Number of years for which the customer has been with the bank. Balance: Bank balance of the customer.\n",
        "\n",
        "NumOfProducts: Number of bank products the customer is utilising.\n",
        "\n",
        "HasCrCard: Binary Flag for whether the customer holds a credit card with the bank or not(0=No, 1=Yes).\n",
        "\n",
        "IsActiveMember: Binary Flag for whether the customer is an active member with the bank or not(0=No, 1=Yes).\n",
        "\n",
        "EstimatedSalary: Estimated salary of the customer in Euro.\n",
        "\n",
        "Exited: Binary flag 1 if the customer closed account with bank and 0 if the customer is retained(0=No, 1=Yes)."
      ]
    },
    {
      "cell_type": "code",
      "execution_count": null,
      "id": "438bf5a8",
      "metadata": {
        "id": "438bf5a8"
      },
      "outputs": [],
      "source": [
        "# Review a small sample of the data.\n",
        "data.head()"
      ]
    },
    {
      "cell_type": "code",
      "execution_count": null,
      "id": "11fe211e",
      "metadata": {
        "scrolled": false,
        "id": "11fe211e"
      },
      "outputs": [],
      "source": [
        "#Checking for null values\n",
        "data.isnull().sum()"
      ]
    },
    {
      "cell_type": "code",
      "execution_count": null,
      "id": "c4c164ca",
      "metadata": {
        "scrolled": false,
        "id": "c4c164ca"
      },
      "outputs": [],
      "source": [
        "# Detailed overview of the dataframe itself.\n",
        "data.info()"
      ]
    },
    {
      "cell_type": "markdown",
      "id": "7e2b733d",
      "metadata": {
        "id": "7e2b733d"
      },
      "source": [
        "From the above:\n",
        "    Notice that there are no Non-Null Count values, e.g. there are no missing values in this data set.\n",
        "    Also notice the different types of data: integer (int64), float (float64), and text (object).\n",
        "    Geography and Gender need to be converted from a text value to a numeric value for modelling."
      ]
    },
    {
      "cell_type": "code",
      "execution_count": null,
      "id": "70475a7a",
      "metadata": {
        "id": "70475a7a"
      },
      "outputs": [],
      "source": [
        "# remove duplicates, if any\n",
        "data = data[~data.duplicated()] \n",
        "data.shape\n",
        "#No duplicate values"
      ]
    },
    {
      "cell_type": "markdown",
      "id": "21fbaa34",
      "metadata": {
        "id": "21fbaa34"
      },
      "source": [
        "## Transformation"
      ]
    },
    {
      "cell_type": "markdown",
      "id": "069b227c",
      "metadata": {
        "id": "069b227c"
      },
      "source": [
        "Encoding the categorical variables - Change the text into numbers\n",
        "Review the unique values in the Geography column."
      ]
    },
    {
      "cell_type": "code",
      "execution_count": null,
      "id": "7c36710a",
      "metadata": {
        "id": "7c36710a"
      },
      "outputs": [],
      "source": [
        "data.Geography.unique()"
      ]
    },
    {
      "cell_type": "code",
      "execution_count": null,
      "id": "8fd36f6b",
      "metadata": {
        "id": "8fd36f6b"
      },
      "outputs": [],
      "source": [
        "data.Gender.unique()"
      ]
    },
    {
      "cell_type": "markdown",
      "id": "cf7d8dc5",
      "metadata": {
        "id": "cf7d8dc5"
      },
      "source": [
        "Convert the categorical values into numeric categorical labels so that this data can be reviewed in the EDA, e.g. correlations."
      ]
    },
    {
      "cell_type": "code",
      "execution_count": null,
      "id": "faf60dc9",
      "metadata": {
        "id": "faf60dc9"
      },
      "outputs": [],
      "source": [
        "#Decision tree needs data to be numeric\n",
        "data['CountryCode'] = data['Geography'].astype('category').cat.codes\n",
        "data['GenderCode'] = data['Gender'].astype('category').cat.codes"
      ]
    },
    {
      "cell_type": "markdown",
      "id": "2e817e94",
      "metadata": {
        "id": "2e817e94"
      },
      "source": [
        "Geography - (0:France, 1:Germany, 2:Spain)\n",
        "Gender - (0:Female, 1:Male)"
      ]
    },
    {
      "cell_type": "code",
      "execution_count": null,
      "id": "976067e0",
      "metadata": {
        "scrolled": true,
        "id": "976067e0"
      },
      "outputs": [],
      "source": [
        "data.head()"
      ]
    },
    {
      "cell_type": "markdown",
      "id": "93c3ede4",
      "metadata": {
        "id": "93c3ede4"
      },
      "source": [
        "From the above, notice that:\n",
        "    The Geography and Gender have been converted to numeric values.\n",
        "    There are two new columns with these values: CountryCode and GenderCode."
      ]
    },
    {
      "cell_type": "markdown",
      "id": "99eedb87",
      "metadata": {
        "id": "99eedb87"
      },
      "source": [
        "Quick review - columns that are not useful:\n",
        "CustomerId - a unique customer ID number.\n",
        "RowNumber - This is simply a row number of the data.\n",
        "Surname - does not add any strength as a model input.\n",
        "Geography - this has been converted to a numeric value instead of text.\n",
        "Gender - this has been converted to a numeric value instead of text."
      ]
    },
    {
      "cell_type": "markdown",
      "id": "e17fb2fe",
      "metadata": {
        "id": "e17fb2fe"
      },
      "source": [
        "## Choosing predictor variables and target variable for performing Classification\n",
        "Target and Source variables\n",
        "\n",
        "Target Variable: Exited\n",
        "Predictor Variables: CreditScore, CountryCode, GenderCode, Age, Tenure, Balance, NumOfProducts, HasCrCard, IsActiveMember, EstimatedSalary"
      ]
    },
    {
      "cell_type": "markdown",
      "id": "f0aa655a",
      "metadata": {
        "id": "f0aa655a"
      },
      "source": [
        "## Create a new dataframe that includes only the selected columns"
      ]
    },
    {
      "cell_type": "code",
      "execution_count": null,
      "id": "487f0d10",
      "metadata": {
        "id": "487f0d10"
      },
      "outputs": [],
      "source": [
        "df = data[['CreditScore', 'CountryCode', 'GenderCode', 'Age', 'Tenure', 'Balance', 'NumOfProducts', 'HasCrCard',\n",
        "             'IsActiveMember', 'EstimatedSalary', 'Exited']]"
      ]
    },
    {
      "cell_type": "code",
      "execution_count": null,
      "id": "9a623bcd",
      "metadata": {
        "id": "9a623bcd"
      },
      "outputs": [],
      "source": [
        "df.head()"
      ]
    },
    {
      "cell_type": "markdown",
      "id": "346e9de1",
      "metadata": {
        "id": "346e9de1"
      },
      "source": [
        "### Investigate correlation in the new dataframe.\n",
        "Pandas has a built-in correlation function. The df_new dataframe will be used to examine correlation."
      ]
    },
    {
      "cell_type": "code",
      "execution_count": null,
      "id": "07150e3b",
      "metadata": {
        "scrolled": false,
        "id": "07150e3b"
      },
      "outputs": [],
      "source": [
        "corr = df.corr()\n",
        "corr.style.background_gradient(cmap='coolwarm')"
      ]
    },
    {
      "cell_type": "code",
      "execution_count": null,
      "id": "ce646de8",
      "metadata": {
        "id": "ce646de8"
      },
      "outputs": [],
      "source": [
        "# Variables correlated to Exited.\n",
        "df.corr()['Exited'].sort_values().drop('Exited').plot(kind='barh');"
      ]
    },
    {
      "cell_type": "markdown",
      "id": "80a9a8f4",
      "metadata": {
        "id": "80a9a8f4"
      },
      "source": [
        "From the above, notice that:\n",
        "    There are 10 variables that have varying degrees of correlation with 'Exited'.\n",
        "    These should be examined closer, to try and get a better understanding of the correlation."
      ]
    },
    {
      "cell_type": "markdown",
      "id": "0ff21c7f",
      "metadata": {
        "id": "0ff21c7f"
      },
      "source": [
        "# Visualization"
      ]
    },
    {
      "cell_type": "code",
      "execution_count": null,
      "id": "6f4ca573",
      "metadata": {
        "scrolled": true,
        "id": "6f4ca573"
      },
      "outputs": [],
      "source": [
        "#Summary of Exited and Non-Exited\n",
        "sns.countplot(x='Exited', data = df)"
      ]
    },
    {
      "cell_type": "markdown",
      "id": "656507cd",
      "metadata": {
        "id": "656507cd"
      },
      "source": [
        "From the above, notice that:\n",
        "There are many more customers that have not 'Exited'. This is referred to as 'class imbalance'."
      ]
    },
    {
      "cell_type": "markdown",
      "id": "37356d43",
      "metadata": {
        "id": "37356d43"
      },
      "source": [
        "## High impact variables (Age, IsActiveMember)"
      ]
    },
    {
      "cell_type": "code",
      "execution_count": null,
      "id": "05e8e3fb",
      "metadata": {
        "id": "05e8e3fb"
      },
      "outputs": [],
      "source": [
        "# Split the group into two cohorts for further analysis\n",
        "Non_Exited = df[df['Exited'] == 0]\n",
        "Exited = df[df['Exited'] == 1]\n",
        "plt.subplots(figsize=(10, 5))\n",
        "sns.distplot(Non_Exited['Age'])\n",
        "sns.distplot(Exited['Age'])\n",
        "plt.title('Age: Exited vs Non Exited')\n",
        "plt.legend([0, 1], title='Exited')\n",
        "plt.ylabel('percentage');"
      ]
    },
    {
      "cell_type": "code",
      "execution_count": null,
      "id": "c547d8d6",
      "metadata": {
        "scrolled": false,
        "id": "c547d8d6"
      },
      "outputs": [],
      "source": [
        "\n",
        "cross_tab_prop = pd.crosstab(index=data['IsActiveMember'],\n",
        "                             columns=data['Exited'],\n",
        "                             normalize=\"index\")\n",
        "# Examine customers by country.\n",
        "f, ax=plt.subplots(1, 2, figsize=(10, 2))\n",
        "data['IsActiveMember'].value_counts().plot.bar(color=['#CD7F32','#FFDF00','#D3D3D3'], ax=ax[0])\n",
        "ax[0].set_title('Count of customers by Active Members')\n",
        "ax[0].set_ylabel('count')\n",
        "cross_tab_prop.plot(kind='bar', stacked=True, colormap='tab10', figsize=(10, 2), ax=ax[1])\n",
        "ax[1].set_title('Active Members: Exited vs Non Exited')\n",
        "ax[1].set_ylabel('count');"
      ]
    },
    {
      "cell_type": "markdown",
      "id": "a25cef9c",
      "metadata": {
        "id": "a25cef9c"
      },
      "source": [
        "# Appendix"
      ]
    },
    {
      "cell_type": "markdown",
      "id": "5c13fc95",
      "metadata": {
        "id": "5c13fc95"
      },
      "source": [
        "## Low Impact variables (HasCreditCard, Estimated Salary)"
      ]
    },
    {
      "cell_type": "code",
      "execution_count": null,
      "id": "b697f6f8",
      "metadata": {
        "id": "b697f6f8"
      },
      "outputs": [],
      "source": [
        "cross_tab_prop = pd.crosstab(index=data['HasCrCard'],\n",
        "                             columns=data['Exited'],\n",
        "                             normalize=\"index\")\n",
        "# Examine customers by country.\n",
        "f, ax=plt.subplots(1, 2, figsize=(10, 5))\n",
        "data['HasCrCard'].value_counts().plot.bar(color=['#CD7F32','#FFDF00','#D3D3D3'], ax=ax[0])\n",
        "ax[0].set_title('Count of customers by HasCrCard')\n",
        "ax[0].set_ylabel('count')\n",
        "cross_tab_prop.plot(kind='bar', stacked=True, colormap='tab10', figsize=(10, 5), ax=ax[1])\n",
        "ax[1].set_title('HasCrCard: Exited vs Non Exited')\n",
        "ax[1].set_ylabel('count');"
      ]
    },
    {
      "cell_type": "code",
      "execution_count": null,
      "id": "4e923531",
      "metadata": {
        "scrolled": false,
        "id": "4e923531"
      },
      "outputs": [],
      "source": [
        "plt.subplots(figsize=(10, 5))\n",
        "sns.distplot(Non_Exited['EstimatedSalary'])\n",
        "sns.distplot(Exited['EstimatedSalary'])\n",
        "plt.title('EstimatedSalary: Exited vs Non Exited')\n",
        "plt.legend([0, 1], title='Exited')\n",
        "plt.ylabel('percentage');plt.figure(figsize=(18,8))\n"
      ]
    },
    {
      "cell_type": "code",
      "execution_count": null,
      "id": "5f4b75ac",
      "metadata": {
        "id": "5f4b75ac"
      },
      "outputs": [],
      "source": [
        "cross_tab_prop = pd.crosstab(index=data['Geography'],\n",
        "                             columns=data['Exited'],\n",
        "                             normalize=\"index\")\n",
        "# Examine customers by country.\n",
        "f, ax=plt.subplots(1, 2, figsize=(10, 2))\n",
        "data['Geography'].value_counts().plot.bar(color=['#CD7F32','#FFDF00','#D3D3D3'], ax=ax[0])\n",
        "ax[0].set_title('Count of customers by countries')\n",
        "ax[0].set_ylabel('count')\n",
        "cross_tab_prop.plot(kind='bar', stacked=True, colormap='tab10', figsize=(10, 2), ax=ax[1])\n",
        "ax[1].set_title('Countries: Exited vs Non Exited')\n",
        "ax[1].set_ylabel('count');"
      ]
    },
    {
      "cell_type": "markdown",
      "id": "8073ab55",
      "metadata": {
        "id": "8073ab55"
      },
      "source": [
        "From the above, notice that:\n",
        "    France has the largest number of customers\n",
        "    Germany and Spain have a similar count of customers.\n",
        "    Germany has the highest proportion of customers that 'Exited'."
      ]
    },
    {
      "cell_type": "code",
      "execution_count": null,
      "id": "8b4550c6",
      "metadata": {
        "id": "8b4550c6"
      },
      "outputs": [],
      "source": [
        "# Compare exited by age and geography.\n",
        "sns.swarmplot(y='Age', x='Geography', hue='Exited', data=data);"
      ]
    },
    {
      "cell_type": "markdown",
      "id": "72ec6d41",
      "metadata": {
        "id": "72ec6d41"
      },
      "source": [
        "Observations\n",
        "    Germany has the highest proportion of churn (Lowest percentage of Non-exited customers and Highest percentage of exited         customers)\n",
        "    Customers across all countries tend to have a higher tendency to churn after 40 years of age."
      ]
    },
    {
      "cell_type": "code",
      "execution_count": null,
      "id": "623b9b03",
      "metadata": {
        "id": "623b9b03"
      },
      "outputs": [],
      "source": [
        "# Examine customers by gender.\n",
        "f, ax=plt.subplots(1, 2, figsize=(10, 2))\n",
        "data['Gender'].value_counts().plot.bar(color=['#CD7F32','#FFDF00','#D3D3D3'], ax=ax[0])\n",
        "ax[0].set_title('Count of customer by gender')\n",
        "ax[0].set_ylabel('count')\n",
        "cross_tab_prop = pd.crosstab(index=data['Gender'],\n",
        "                             columns=data['Exited'],\n",
        "                             normalize=\"index\")\n",
        "cross_tab_prop.plot(kind='bar', \n",
        "                    stacked=True, \n",
        "                    colormap='tab10', \n",
        "                    figsize=(10, 2), ax=ax[1])\n",
        "ax[1].set_title('Gender: Exited vs Non Exited')\n",
        "ax[1].set_ylabel('count');"
      ]
    },
    {
      "cell_type": "code",
      "execution_count": null,
      "id": "48d9ed05",
      "metadata": {
        "id": "48d9ed05"
      },
      "outputs": [],
      "source": [
        "sns.swarmplot(y='Age', x='Gender', hue='Exited', data=data);"
      ]
    },
    {
      "cell_type": "code",
      "execution_count": null,
      "id": "ef187ce3",
      "metadata": {
        "id": "ef187ce3"
      },
      "outputs": [],
      "source": [
        "# Examine customers by Age.\n",
        "f, ax=plt.subplots(1, 2, figsize=(10, 4))\n",
        "sns.boxplot(data['Age'], ax=ax[0])\n",
        "ax[0].set_title('Count of customer by gender')\n",
        "ax[0].set_ylabel('count')\n",
        "sns.scatterplot(data=df, x='Age', y='Balance', hue='Exited', ax=ax[1])\n",
        "ax[1].set_title('Age: Exited vs Non Exited')\n",
        "ax[1].set_ylabel('Balance');"
      ]
    },
    {
      "cell_type": "code",
      "execution_count": null,
      "id": "7b045c4b",
      "metadata": {
        "scrolled": false,
        "id": "7b045c4b"
      },
      "outputs": [],
      "source": [
        "sns.boxplot(data['CreditScore'])"
      ]
    },
    {
      "cell_type": "markdown",
      "id": "f6a26424",
      "metadata": {
        "id": "f6a26424"
      },
      "source": [
        "From above we can see that majority of the people have a credit score between 590 to 720\n",
        "Outliers are data points that are far from other data points. In other words, they’re unusual values in a dataset"
      ]
    },
    {
      "cell_type": "markdown",
      "id": "f2cfb3f3",
      "metadata": {
        "id": "f2cfb3f3"
      },
      "source": [
        "From above, notice that there are three countries represented within the data set."
      ]
    },
    {
      "cell_type": "code",
      "execution_count": null,
      "id": "37a3d448",
      "metadata": {
        "id": "37a3d448"
      },
      "outputs": [],
      "source": [
        "cross_tab_prop = pd.crosstab(index=data['Age'],\n",
        "                             columns=data['Exited'],\n",
        "                             normalize=\"index\")\n",
        "cross_tab_prop.plot(kind='bar', \n",
        "                    stacked=True, \n",
        "                    colormap='tab10', \n",
        "                    figsize=(19, 6))\n",
        "\n",
        "plt.legend(loc=\"upper left\", ncol=2)\n",
        "plt.xlabel(\"Age\")\n",
        "plt.ylabel(\"Exited\")\n",
        "plt.show()"
      ]
    },
    {
      "cell_type": "code",
      "execution_count": null,
      "id": "47bd22a1",
      "metadata": {
        "scrolled": true,
        "id": "47bd22a1"
      },
      "outputs": [],
      "source": [
        "sns.countplot(x='Tenure', data = data)"
      ]
    },
    {
      "cell_type": "code",
      "execution_count": null,
      "id": "6329a91a",
      "metadata": {
        "id": "6329a91a"
      },
      "outputs": [],
      "source": [
        "cross_tab_prop = pd.crosstab(index=data['Tenure'],\n",
        "                             columns=data['Exited'],\n",
        "                             normalize=\"index\")\n",
        "cross_tab_prop.plot(kind='bar', \n",
        "                    stacked=True, \n",
        "                    colormap='tab10', \n",
        "                    figsize=(10, 6))\n",
        "\n",
        "plt.legend(loc=\"upper left\", ncol=2)\n",
        "plt.xlabel(\"Tenure\")\n",
        "plt.ylabel(\"Exited\")\n",
        "plt.show()"
      ]
    },
    {
      "cell_type": "code",
      "execution_count": null,
      "id": "a1e18467",
      "metadata": {
        "scrolled": true,
        "id": "a1e18467"
      },
      "outputs": [],
      "source": [
        "sns.boxplot(data['Balance'])"
      ]
    },
    {
      "cell_type": "code",
      "execution_count": null,
      "id": "ee08ffa4",
      "metadata": {
        "id": "ee08ffa4"
      },
      "outputs": [],
      "source": [
        "Non_Exited = data[data['Exited']==0]\n",
        "Exited = data[data['Exited']==1]\n",
        "plt.figure(figsize=(18,8))\n",
        "p1=sns.kdeplot(Non_Exited['Balance'], shade=True, color=\"r\")\n",
        "p1=sns.kdeplot(Exited['Balance'], shade=True, color=\"b\");\n",
        "plt.title('Account Balance: Exited vs Non-Exited')\n",
        "plt.legend([0,1],title='Exited');"
      ]
    },
    {
      "cell_type": "code",
      "execution_count": null,
      "id": "029094aa",
      "metadata": {
        "scrolled": true,
        "id": "029094aa"
      },
      "outputs": [],
      "source": [
        "sns.countplot(x = 'NumOfProducts', data = data)"
      ]
    },
    {
      "cell_type": "code",
      "execution_count": null,
      "id": "56578de0",
      "metadata": {
        "scrolled": true,
        "id": "56578de0"
      },
      "outputs": [],
      "source": [
        "pd.crosstab(data.NumOfProducts,data.Exited,margins=True).style.background_gradient(cmap='OrRd')"
      ]
    },
    {
      "cell_type": "code",
      "execution_count": null,
      "id": "2991c355",
      "metadata": {
        "id": "2991c355"
      },
      "outputs": [],
      "source": [
        "cross_tab_prop = pd.crosstab(index=data['NumOfProducts'],\n",
        "                             columns=data['Exited'],\n",
        "                             normalize=\"index\")\n",
        "cross_tab_prop.plot(kind='bar', \n",
        "                    stacked=True, \n",
        "                    colormap='tab10', \n",
        "                    figsize=(19, 6))\n",
        "\n",
        "plt.legend(loc=\"upper left\", ncol=2)\n",
        "plt.xlabel(\"NumOfProducts\")\n",
        "plt.ylabel(\"Exited\")\n",
        "plt.show()"
      ]
    },
    {
      "cell_type": "code",
      "execution_count": null,
      "id": "ae1e28bd",
      "metadata": {
        "scrolled": true,
        "id": "ae1e28bd"
      },
      "outputs": [],
      "source": [
        "sns.countplot(x = 'HasCrCard', data = data)\n",
        "cross_tab_prop = pd.crosstab(index=data['HasCrCard'],\n",
        "                             columns=data['Exited'],\n",
        "                             normalize=\"index\")\n",
        "cross_tab_prop.plot(kind='bar', \n",
        "                    stacked=True, \n",
        "                    colormap='tab10', \n",
        "                    figsize=(5, 4))\n",
        "\n",
        "plt.legend(loc=\"upper left\", ncol=2)\n",
        "plt.xlabel(\"HasCrCard\")\n",
        "plt.ylabel(\"Exited\")\n",
        "plt.show()"
      ]
    },
    {
      "cell_type": "code",
      "execution_count": null,
      "id": "2f167392",
      "metadata": {
        "id": "2f167392"
      },
      "outputs": [],
      "source": [
        "cross_tab_prop = pd.crosstab(index=data['HasCrCard'],\n",
        "                             columns=data['Exited'],\n",
        "                             normalize=\"index\")\n",
        "cross_tab_prop.plot(kind='bar', \n",
        "                    stacked=True, \n",
        "                    colormap='tab10', \n",
        "                    figsize=(19, 6))\n",
        "\n",
        "plt.legend(loc=\"upper left\", ncol=2)\n",
        "plt.xlabel(\"HasCrCard\")\n",
        "plt.ylabel(\"Exited\")\n",
        "plt.show()"
      ]
    },
    {
      "cell_type": "code",
      "execution_count": null,
      "id": "0938c59e",
      "metadata": {
        "id": "0938c59e"
      },
      "outputs": [],
      "source": [
        "plt.figure(figsize=(18,8))\n",
        "plt.hist(x='EstimatedSalary',bins=100,data=Non_Exited,edgecolor='black',color='red')\n",
        "plt.hist(x='EstimatedSalary',bins=100,data=Exited,edgecolor='black',color='blue')\n",
        "plt.title('Estimated salary: Exited vs Non-Exited')\n",
        "plt.legend([0,1],title='Exited');"
      ]
    },
    {
      "cell_type": "code",
      "execution_count": null,
      "id": "bdcf3280",
      "metadata": {
        "id": "bdcf3280"
      },
      "outputs": [],
      "source": [
        ""
      ]
    },
    {
      "cell_type": "code",
      "execution_count": null,
      "id": "25c76b77",
      "metadata": {
        "id": "25c76b77"
      },
      "outputs": [],
      "source": [
        ""
      ]
    }
  ],
  "metadata": {
    "kernelspec": {
      "display_name": "Python 3 (ipykernel)",
      "language": "python",
      "name": "python3"
    },
    "language_info": {
      "codemirror_mode": {
        "name": "ipython",
        "version": 3
      },
      "file_extension": ".py",
      "mimetype": "text/x-python",
      "name": "python",
      "nbconvert_exporter": "python",
      "pygments_lexer": "ipython3",
      "version": "3.9.7"
    },
    "colab": {
      "name": "ChurnModelligEDA.ipynb",
      "provenance": [],
      "include_colab_link": true
    }
  },
  "nbformat": 4,
  "nbformat_minor": 5
}